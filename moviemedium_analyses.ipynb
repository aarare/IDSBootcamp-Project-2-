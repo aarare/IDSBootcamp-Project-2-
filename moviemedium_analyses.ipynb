{
  "cells": [
    {
      "cell_type": "code",
      "execution_count": 1,
      "metadata": {
        "colab": {
          "base_uri": "https://localhost:8080/"
        },
        "id": "xAs8rggll2a6",
        "outputId": "9afde515-49ef-4f97-ca6b-585e547a1805"
      },
      "outputs": [
        {
          "output_type": "stream",
          "name": "stderr",
          "text": [
            "/usr/local/lib/python3.7/dist-packages/statsmodels/tools/_testing.py:19: FutureWarning: pandas.util.testing is deprecated. Use the functions in the public API at pandas.testing instead.\n",
            "  import pandas.util.testing as tm\n"
          ]
        }
      ],
      "source": [
        "import numpy as np\n",
        "import pandas as pd\n",
        "import matplotlib.pyplot as plt\n",
        "from datetime import datetime\n",
        "import seaborn as sns\n",
        "from sklearn.model_selection import train_test_split, cross_val_score, cross_val_predict\n",
        "import statsmodels.api as sm\n",
        "import statsmodels.formula.api as smf\n",
        "import patsy\n",
        "\n",
        "import matplotlib.pyplot as plt\n",
        "from sklearn.linear_model import LinearRegression\n",
        "from sklearn.linear_model import RidgeCV\n",
        "from sklearn.preprocessing import scale\n",
        "from sklearn.linear_model import LinearRegression, Lasso, LassoCV, Ridge, RidgeCV\n",
        "from sklearn.metrics import r2_score, mean_squared_error\n",
        "from sklearn.pipeline import Pipeline\n",
        "from sklearn.preprocessing import StandardScaler\n",
        "import missingno as msn"
      ],
      "id": "xAs8rggll2a6"
    },
    {
      "cell_type": "code",
      "source": [
        "pd.set_option('display.float_format', lambda x: '%.2f' % x)"
      ],
      "metadata": {
        "id": "ydjYx9yTo1Kw"
      },
      "id": "ydjYx9yTo1Kw",
      "execution_count": 50,
      "outputs": []
    },
    {
      "cell_type": "code",
      "execution_count": 99,
      "metadata": {
        "colab": {
          "base_uri": "https://localhost:8080/",
          "height": 426
        },
        "id": "-jAjiYxml2a_",
        "outputId": "ab046ba8-0e21-43bf-c3a5-a77f0410edec"
      },
      "outputs": [
        {
          "output_type": "execute_result",
          "data": {
            "text/html": [
              "\n",
              "  <div id=\"df-e65748bd-97cd-4482-a71d-11a7cb2fc607\">\n",
              "    <div class=\"colab-df-container\">\n",
              "      <div>\n",
              "<style scoped>\n",
              "    .dataframe tbody tr th:only-of-type {\n",
              "        vertical-align: middle;\n",
              "    }\n",
              "\n",
              "    .dataframe tbody tr th {\n",
              "        vertical-align: top;\n",
              "    }\n",
              "\n",
              "    .dataframe thead th {\n",
              "        text-align: right;\n",
              "    }\n",
              "</style>\n",
              "<table border=\"1\" class=\"dataframe\">\n",
              "  <thead>\n",
              "    <tr style=\"text-align: right;\">\n",
              "      <th></th>\n",
              "      <th>Unnamed: 0</th>\n",
              "      <th>name</th>\n",
              "      <th>year</th>\n",
              "      <th>runtime</th>\n",
              "      <th>budget</th>\n",
              "      <th>genre1</th>\n",
              "      <th>genre2</th>\n",
              "      <th>genre3</th>\n",
              "      <th>rating</th>\n",
              "      <th>user_reviews</th>\n",
              "      <th>critic_reviews</th>\n",
              "      <th>metascore</th>\n",
              "      <th>release_date</th>\n",
              "      <th>count_videos</th>\n",
              "      <th>count_photos</th>\n",
              "      <th>trailer_duration</th>\n",
              "      <th>director</th>\n",
              "      <th>star1</th>\n",
              "      <th>star2</th>\n",
              "      <th>star3</th>\n",
              "      <th>company1</th>\n",
              "      <th>company2</th>\n",
              "      <th>company3</th>\n",
              "      <th>gross</th>\n",
              "    </tr>\n",
              "  </thead>\n",
              "  <tbody>\n",
              "    <tr>\n",
              "      <th>0</th>\n",
              "      <td>0</td>\n",
              "      <td>The Shawshank Redemption</td>\n",
              "      <td>1994</td>\n",
              "      <td>2h 22m</td>\n",
              "      <td>$25,000,000 (estimated)</td>\n",
              "      <td>Drama</td>\n",
              "      <td>-</td>\n",
              "      <td>-</td>\n",
              "      <td>9.30</td>\n",
              "      <td>9.7K</td>\n",
              "      <td>190</td>\n",
              "      <td>80.00</td>\n",
              "      <td>March 10, 1995 (Turkey)</td>\n",
              "      <td>5</td>\n",
              "      <td>99+</td>\n",
              "      <td>2:11</td>\n",
              "      <td>Frank Darabont</td>\n",
              "      <td>Tim Robbins</td>\n",
              "      <td>Morgan Freeman</td>\n",
              "      <td>Bob Gunton</td>\n",
              "      <td>Castle Rock Entertainment</td>\n",
              "      <td>-</td>\n",
              "      <td>-</td>\n",
              "      <td>28,817,291</td>\n",
              "    </tr>\n",
              "    <tr>\n",
              "      <th>1</th>\n",
              "      <td>1</td>\n",
              "      <td>The Dark Knight</td>\n",
              "      <td>2008</td>\n",
              "      <td>2h 32m</td>\n",
              "      <td>$185,000,000 (estimated)</td>\n",
              "      <td>Action</td>\n",
              "      <td>Crime</td>\n",
              "      <td>Drama</td>\n",
              "      <td>9.00</td>\n",
              "      <td>7.7K</td>\n",
              "      <td>428</td>\n",
              "      <td>84.00</td>\n",
              "      <td>July 25, 2008 (Turkey)</td>\n",
              "      <td>31</td>\n",
              "      <td>99+</td>\n",
              "      <td>0:33</td>\n",
              "      <td>Christopher Nolan</td>\n",
              "      <td>Christian Bale</td>\n",
              "      <td>Heath Ledger</td>\n",
              "      <td>Aaron Eckhart</td>\n",
              "      <td>Warner Bros.</td>\n",
              "      <td>Legendary Entertainment</td>\n",
              "      <td>Syncopy</td>\n",
              "      <td>1,005,973,645</td>\n",
              "    </tr>\n",
              "    <tr>\n",
              "      <th>2</th>\n",
              "      <td>2</td>\n",
              "      <td>Inception</td>\n",
              "      <td>2010</td>\n",
              "      <td>2h 28m</td>\n",
              "      <td>$160,000,000 (estimated)</td>\n",
              "      <td>Action</td>\n",
              "      <td>Adventure</td>\n",
              "      <td>Sci-Fi</td>\n",
              "      <td>8.80</td>\n",
              "      <td>4.4K</td>\n",
              "      <td>479</td>\n",
              "      <td>74.00</td>\n",
              "      <td>July 30, 2010 (Turkey)</td>\n",
              "      <td>27</td>\n",
              "      <td>99+</td>\n",
              "      <td>1:45</td>\n",
              "      <td>Christopher Nolan</td>\n",
              "      <td>Leonardo DiCaprio</td>\n",
              "      <td>Joseph Gordon-Levitt</td>\n",
              "      <td>Elliot Page</td>\n",
              "      <td>Warner Bros.</td>\n",
              "      <td>Legendary Entertainment</td>\n",
              "      <td>Syncopy</td>\n",
              "      <td>836,836,967</td>\n",
              "    </tr>\n",
              "    <tr>\n",
              "      <th>3</th>\n",
              "      <td>3</td>\n",
              "      <td>Fight Club</td>\n",
              "      <td>1999</td>\n",
              "      <td>2h 19m</td>\n",
              "      <td>$63,000,000 (estimated)</td>\n",
              "      <td>Drama</td>\n",
              "      <td>-</td>\n",
              "      <td>-</td>\n",
              "      <td>8.80</td>\n",
              "      <td>4.1K</td>\n",
              "      <td>366</td>\n",
              "      <td>66.00</td>\n",
              "      <td>December 10, 1999 (Turkey)</td>\n",
              "      <td>8</td>\n",
              "      <td>99+</td>\n",
              "      <td>2:00</td>\n",
              "      <td>David Fincher</td>\n",
              "      <td>Brad Pitt</td>\n",
              "      <td>Edward Norton</td>\n",
              "      <td>Meat Loaf</td>\n",
              "      <td>Fox 2000 Pictures</td>\n",
              "      <td>New Regency Productions</td>\n",
              "      <td>Linson Films</td>\n",
              "      <td>101,209,702</td>\n",
              "    </tr>\n",
              "    <tr>\n",
              "      <th>4</th>\n",
              "      <td>4</td>\n",
              "      <td>Forrest Gump</td>\n",
              "      <td>1994</td>\n",
              "      <td>2h 22m</td>\n",
              "      <td>$55,000,000 (estimated)</td>\n",
              "      <td>Drama</td>\n",
              "      <td>Romance</td>\n",
              "      <td>-</td>\n",
              "      <td>8.80</td>\n",
              "      <td>2.8K</td>\n",
              "      <td>165</td>\n",
              "      <td>82.00</td>\n",
              "      <td>November 11, 1994 (Turkey)</td>\n",
              "      <td>12</td>\n",
              "      <td>99+</td>\n",
              "      <td>3:54</td>\n",
              "      <td>Robert Zemeckis</td>\n",
              "      <td>Tom Hanks</td>\n",
              "      <td>Robin Wright</td>\n",
              "      <td>Gary Sinise</td>\n",
              "      <td>Paramount Pictures</td>\n",
              "      <td>The Steve Tisch Company</td>\n",
              "      <td>Wendy Finerman Productions</td>\n",
              "      <td>678,226,133</td>\n",
              "    </tr>\n",
              "  </tbody>\n",
              "</table>\n",
              "</div>\n",
              "      <button class=\"colab-df-convert\" onclick=\"convertToInteractive('df-e65748bd-97cd-4482-a71d-11a7cb2fc607')\"\n",
              "              title=\"Convert this dataframe to an interactive table.\"\n",
              "              style=\"display:none;\">\n",
              "        \n",
              "  <svg xmlns=\"http://www.w3.org/2000/svg\" height=\"24px\"viewBox=\"0 0 24 24\"\n",
              "       width=\"24px\">\n",
              "    <path d=\"M0 0h24v24H0V0z\" fill=\"none\"/>\n",
              "    <path d=\"M18.56 5.44l.94 2.06.94-2.06 2.06-.94-2.06-.94-.94-2.06-.94 2.06-2.06.94zm-11 1L8.5 8.5l.94-2.06 2.06-.94-2.06-.94L8.5 2.5l-.94 2.06-2.06.94zm10 10l.94 2.06.94-2.06 2.06-.94-2.06-.94-.94-2.06-.94 2.06-2.06.94z\"/><path d=\"M17.41 7.96l-1.37-1.37c-.4-.4-.92-.59-1.43-.59-.52 0-1.04.2-1.43.59L10.3 9.45l-7.72 7.72c-.78.78-.78 2.05 0 2.83L4 21.41c.39.39.9.59 1.41.59.51 0 1.02-.2 1.41-.59l7.78-7.78 2.81-2.81c.8-.78.8-2.07 0-2.86zM5.41 20L4 18.59l7.72-7.72 1.47 1.35L5.41 20z\"/>\n",
              "  </svg>\n",
              "      </button>\n",
              "      \n",
              "  <style>\n",
              "    .colab-df-container {\n",
              "      display:flex;\n",
              "      flex-wrap:wrap;\n",
              "      gap: 12px;\n",
              "    }\n",
              "\n",
              "    .colab-df-convert {\n",
              "      background-color: #E8F0FE;\n",
              "      border: none;\n",
              "      border-radius: 50%;\n",
              "      cursor: pointer;\n",
              "      display: none;\n",
              "      fill: #1967D2;\n",
              "      height: 32px;\n",
              "      padding: 0 0 0 0;\n",
              "      width: 32px;\n",
              "    }\n",
              "\n",
              "    .colab-df-convert:hover {\n",
              "      background-color: #E2EBFA;\n",
              "      box-shadow: 0px 1px 2px rgba(60, 64, 67, 0.3), 0px 1px 3px 1px rgba(60, 64, 67, 0.15);\n",
              "      fill: #174EA6;\n",
              "    }\n",
              "\n",
              "    [theme=dark] .colab-df-convert {\n",
              "      background-color: #3B4455;\n",
              "      fill: #D2E3FC;\n",
              "    }\n",
              "\n",
              "    [theme=dark] .colab-df-convert:hover {\n",
              "      background-color: #434B5C;\n",
              "      box-shadow: 0px 1px 3px 1px rgba(0, 0, 0, 0.15);\n",
              "      filter: drop-shadow(0px 1px 2px rgba(0, 0, 0, 0.3));\n",
              "      fill: #FFFFFF;\n",
              "    }\n",
              "  </style>\n",
              "\n",
              "      <script>\n",
              "        const buttonEl =\n",
              "          document.querySelector('#df-e65748bd-97cd-4482-a71d-11a7cb2fc607 button.colab-df-convert');\n",
              "        buttonEl.style.display =\n",
              "          google.colab.kernel.accessAllowed ? 'block' : 'none';\n",
              "\n",
              "        async function convertToInteractive(key) {\n",
              "          const element = document.querySelector('#df-e65748bd-97cd-4482-a71d-11a7cb2fc607');\n",
              "          const dataTable =\n",
              "            await google.colab.kernel.invokeFunction('convertToInteractive',\n",
              "                                                     [key], {});\n",
              "          if (!dataTable) return;\n",
              "\n",
              "          const docLinkHtml = 'Like what you see? Visit the ' +\n",
              "            '<a target=\"_blank\" href=https://colab.research.google.com/notebooks/data_table.ipynb>data table notebook</a>'\n",
              "            + ' to learn more about interactive tables.';\n",
              "          element.innerHTML = '';\n",
              "          dataTable['output_type'] = 'display_data';\n",
              "          await google.colab.output.renderOutput(dataTable, element);\n",
              "          const docLink = document.createElement('div');\n",
              "          docLink.innerHTML = docLinkHtml;\n",
              "          element.appendChild(docLink);\n",
              "        }\n",
              "      </script>\n",
              "    </div>\n",
              "  </div>\n",
              "  "
            ],
            "text/plain": [
              "   Unnamed: 0  ...          gross\n",
              "0           0  ...     28,817,291\n",
              "1           1  ...  1,005,973,645\n",
              "2           2  ...    836,836,967\n",
              "3           3  ...    101,209,702\n",
              "4           4  ...    678,226,133\n",
              "\n",
              "[5 rows x 24 columns]"
            ]
          },
          "metadata": {},
          "execution_count": 99
        }
      ],
      "source": [
        "df = pd.read_csv(\"moviemedium.csv\")\n",
        "df.head()"
      ],
      "id": "-jAjiYxml2a_"
    },
    {
      "cell_type": "code",
      "execution_count": 100,
      "metadata": {
        "colab": {
          "base_uri": "https://localhost:8080/"
        },
        "id": "TWXj5n5Ll2bA",
        "outputId": "d066c7a1-169d-48d2-b8e4-42ea0c59988c"
      },
      "outputs": [
        {
          "output_type": "execute_result",
          "data": {
            "text/plain": [
              "Index(['Unnamed: 0', 'name', 'year', 'runtime', 'budget', 'genre1', 'genre2',\n",
              "       'genre3', 'rating', 'user_reviews', 'critic_reviews', 'metascore',\n",
              "       'release_date', 'count_videos', 'count_photos', 'trailer_duration',\n",
              "       'director', 'star1', 'star2', 'star3', 'company1', 'company2',\n",
              "       'company3', 'gross'],\n",
              "      dtype='object')"
            ]
          },
          "metadata": {},
          "execution_count": 100
        }
      ],
      "source": [
        "df.columns"
      ],
      "id": "TWXj5n5Ll2bA"
    },
    {
      "cell_type": "code",
      "execution_count": 101,
      "metadata": {
        "id": "IJGzm7lml2bB"
      },
      "outputs": [],
      "source": [
        "df = df.drop(\"Unnamed: 0\", axis = 1)"
      ],
      "id": "IJGzm7lml2bB"
    },
    {
      "cell_type": "code",
      "execution_count": 102,
      "metadata": {
        "colab": {
          "base_uri": "https://localhost:8080/"
        },
        "id": "q9QwGI3gl2bB",
        "outputId": "92a6561a-931a-4d37-e665-68bf2f9f92d0"
      },
      "outputs": [
        {
          "output_type": "stream",
          "name": "stdout",
          "text": [
            "<class 'pandas.core.frame.DataFrame'>\n",
            "RangeIndex: 1000 entries, 0 to 999\n",
            "Data columns (total 23 columns):\n",
            " #   Column            Non-Null Count  Dtype  \n",
            "---  ------            --------------  -----  \n",
            " 0   name              1000 non-null   object \n",
            " 1   year              1000 non-null   int64  \n",
            " 2   runtime           1000 non-null   object \n",
            " 3   budget            788 non-null    object \n",
            " 4   genre1            1000 non-null   object \n",
            " 5   genre2            1000 non-null   object \n",
            " 6   genre3            1000 non-null   object \n",
            " 7   rating            1000 non-null   float64\n",
            " 8   user_reviews      1000 non-null   object \n",
            " 9   critic_reviews    1000 non-null   int64  \n",
            " 10  metascore         832 non-null    float64\n",
            " 11  release_date      1000 non-null   object \n",
            " 12  count_videos      949 non-null    object \n",
            " 13  count_photos      949 non-null    object \n",
            " 14  trailer_duration  949 non-null    object \n",
            " 15  director          1000 non-null   object \n",
            " 16  star1             1000 non-null   object \n",
            " 17  star2             1000 non-null   object \n",
            " 18  star3             1000 non-null   object \n",
            " 19  company1          1000 non-null   object \n",
            " 20  company2          1000 non-null   object \n",
            " 21  company3          1000 non-null   object \n",
            " 22  gross             928 non-null    object \n",
            "dtypes: float64(2), int64(2), object(19)\n",
            "memory usage: 179.8+ KB\n"
          ]
        }
      ],
      "source": [
        "df.info()"
      ],
      "id": "q9QwGI3gl2bB"
    },
    {
      "cell_type": "markdown",
      "metadata": {
        "id": "ZaRaAPbcl2bC"
      },
      "source": [
        "# gross-photos-videos"
      ],
      "id": "ZaRaAPbcl2bC"
    },
    {
      "cell_type": "code",
      "execution_count": 103,
      "metadata": {
        "id": "8QPTL_ZPl2bD"
      },
      "outputs": [],
      "source": [
        "df[\"gross\"] = [float(str(i).replace(\",\", \"\")) for i in df[\"gross\"]]"
      ],
      "id": "8QPTL_ZPl2bD"
    },
    {
      "cell_type": "code",
      "execution_count": 104,
      "metadata": {
        "colab": {
          "base_uri": "https://localhost:8080/"
        },
        "id": "lsBaQRFzl2bE",
        "outputId": "e7c3646c-d922-4ec9-cb05-3eff5cb4a069"
      },
      "outputs": [
        {
          "output_type": "execute_result",
          "data": {
            "text/plain": [
              "0       28817291.00\n",
              "1     1005973645.00\n",
              "2      836836967.00\n",
              "3      101209702.00\n",
              "4      678226133.00\n",
              "           ...     \n",
              "995             NaN\n",
              "996        10249.00\n",
              "997      2970161.00\n",
              "998      9991258.00\n",
              "999        16712.00\n",
              "Name: gross, Length: 1000, dtype: float64"
            ]
          },
          "metadata": {},
          "execution_count": 104
        }
      ],
      "source": [
        "df[\"gross\"]"
      ],
      "id": "lsBaQRFzl2bE"
    },
    {
      "cell_type": "code",
      "execution_count": 105,
      "metadata": {
        "colab": {
          "base_uri": "https://localhost:8080/"
        },
        "id": "iZPtHvuXl2bF",
        "outputId": "8460b08c-0500-4e65-e70f-b6084cd18664"
      },
      "outputs": [
        {
          "output_type": "execute_result",
          "data": {
            "text/plain": [
              "0      99+\n",
              "1      99+\n",
              "2      99+\n",
              "3      99+\n",
              "4      99+\n",
              "      ... \n",
              "995    99+\n",
              "996     41\n",
              "997     84\n",
              "998    99+\n",
              "999     48\n",
              "Name: count_photos, Length: 1000, dtype: object"
            ]
          },
          "metadata": {},
          "execution_count": 105
        }
      ],
      "source": [
        "df[\"count_photos\"]"
      ],
      "id": "iZPtHvuXl2bF"
    },
    {
      "cell_type": "code",
      "execution_count": 106,
      "metadata": {
        "id": "4XFyJ6Yfl2bF"
      },
      "outputs": [],
      "source": [
        "df[\"count_photos\"] = [float(str(i).replace(\"+\", \"\")) for i in df[\"count_photos\"]]"
      ],
      "id": "4XFyJ6Yfl2bF"
    },
    {
      "cell_type": "code",
      "execution_count": 107,
      "metadata": {
        "id": "-hcR4sUrl2bG"
      },
      "outputs": [],
      "source": [
        "df[\"count_videos\"] = [float(str(i).replace(\"+\", \"\")) for i in df[\"count_videos\"]]"
      ],
      "id": "-hcR4sUrl2bG"
    },
    {
      "cell_type": "markdown",
      "metadata": {
        "id": "kYw-JBmYl2bG"
      },
      "source": [
        "# budget"
      ],
      "id": "kYw-JBmYl2bG"
    },
    {
      "cell_type": "code",
      "execution_count": 108,
      "metadata": {
        "colab": {
          "base_uri": "https://localhost:8080/"
        },
        "id": "O58tvRTkl2bG",
        "outputId": "b59a11ae-5ecd-4f15-ac31-cff3fe3e9105"
      },
      "outputs": [
        {
          "output_type": "execute_result",
          "data": {
            "text/plain": [
              "0       $25,000,000 (estimated)\n",
              "1      $185,000,000 (estimated)\n",
              "2      $160,000,000 (estimated)\n",
              "3       $63,000,000 (estimated)\n",
              "4       $55,000,000 (estimated)\n",
              "                 ...           \n",
              "995      $3,500,000 (estimated)\n",
              "996        $689,665 (estimated)\n",
              "997     $12,000,000 (estimated)\n",
              "998      $2,200,000 (estimated)\n",
              "999                         NaN\n",
              "Name: budget, Length: 1000, dtype: object"
            ]
          },
          "metadata": {},
          "execution_count": 108
        }
      ],
      "source": [
        "df[\"budget\"]"
      ],
      "id": "O58tvRTkl2bG"
    },
    {
      "cell_type": "code",
      "execution_count": 109,
      "metadata": {
        "id": "LxY0nUv-l2bH"
      },
      "outputs": [],
      "source": [
        "df[\"budget\"] = df[\"budget\"].str.replace(\",\", \"\").str.extract('(\\d+)')\n",
        "df[\"budget\"] = [float(i) for i in df[\"budget\"]]"
      ],
      "id": "LxY0nUv-l2bH"
    },
    {
      "cell_type": "code",
      "execution_count": 110,
      "metadata": {
        "colab": {
          "base_uri": "https://localhost:8080/"
        },
        "id": "D695bZFVl2bH",
        "outputId": "3a515363-78ff-4518-c0a8-39f25649ede8"
      },
      "outputs": [
        {
          "output_type": "execute_result",
          "data": {
            "text/plain": [
              "0      25000000.00\n",
              "1     185000000.00\n",
              "2     160000000.00\n",
              "3      63000000.00\n",
              "4      55000000.00\n",
              "          ...     \n",
              "995     3500000.00\n",
              "996      689665.00\n",
              "997    12000000.00\n",
              "998     2200000.00\n",
              "999            NaN\n",
              "Name: budget, Length: 1000, dtype: float64"
            ]
          },
          "metadata": {},
          "execution_count": 110
        }
      ],
      "source": [
        "df[\"budget\"]"
      ],
      "id": "D695bZFVl2bH"
    },
    {
      "cell_type": "markdown",
      "metadata": {
        "id": "i9ljOmEEl2bH"
      },
      "source": [
        "# trailer duration"
      ],
      "id": "i9ljOmEEl2bH"
    },
    {
      "cell_type": "code",
      "execution_count": 111,
      "metadata": {
        "colab": {
          "base_uri": "https://localhost:8080/"
        },
        "id": "HQisyoUil2bH",
        "outputId": "0274c994-0c52-4f96-8e04-04bda283c72f"
      },
      "outputs": [
        {
          "output_type": "execute_result",
          "data": {
            "text/plain": [
              "0      2:11\n",
              "1      0:33\n",
              "2      1:45\n",
              "3      2:00\n",
              "4      3:54\n",
              "       ... \n",
              "995    2:55\n",
              "996    1:51\n",
              "997    1:44\n",
              "998    2:11\n",
              "999    1:30\n",
              "Name: trailer_duration, Length: 1000, dtype: object"
            ]
          },
          "metadata": {},
          "execution_count": 111
        }
      ],
      "source": [
        "df[\"trailer_duration\"]"
      ],
      "id": "HQisyoUil2bH"
    },
    {
      "cell_type": "code",
      "execution_count": 112,
      "metadata": {
        "id": "Ie8Xz1Hvl2bI",
        "scrolled": true
      },
      "outputs": [],
      "source": [
        "df[\"trailer_duration\"] = df[\"trailer_duration\"].fillna(\"0:0\")"
      ],
      "id": "Ie8Xz1Hvl2bI"
    },
    {
      "cell_type": "code",
      "execution_count": 113,
      "metadata": {
        "id": "fiHtsJxLl2bI"
      },
      "outputs": [],
      "source": [
        "df1 = df['trailer_duration'].str.split(':', expand=True).astype(int)"
      ],
      "id": "fiHtsJxLl2bI"
    },
    {
      "cell_type": "code",
      "execution_count": 114,
      "metadata": {
        "id": "_ieg_0Izl2bI"
      },
      "outputs": [],
      "source": [
        "df['trailer_duration'] = df1[0] * 60 + df1[1]"
      ],
      "id": "_ieg_0Izl2bI"
    },
    {
      "cell_type": "code",
      "execution_count": 115,
      "metadata": {
        "colab": {
          "base_uri": "https://localhost:8080/"
        },
        "id": "9YBwsCMml2bJ",
        "outputId": "73c352bf-1d26-4223-9b40-86ff41c50486"
      },
      "outputs": [
        {
          "output_type": "execute_result",
          "data": {
            "text/plain": [
              "0      131\n",
              "1       33\n",
              "2      105\n",
              "3      120\n",
              "4      234\n",
              "      ... \n",
              "995    175\n",
              "996    111\n",
              "997    104\n",
              "998    131\n",
              "999     90\n",
              "Name: trailer_duration, Length: 1000, dtype: int64"
            ]
          },
          "metadata": {},
          "execution_count": 115
        }
      ],
      "source": [
        "df[\"trailer_duration\"]"
      ],
      "id": "9YBwsCMml2bJ"
    },
    {
      "cell_type": "code",
      "execution_count": 116,
      "metadata": {
        "id": "9J2GeNoCl2bJ"
      },
      "outputs": [],
      "source": [
        "df[\"trailer_duration\"].replace(0, np.nan, inplace=True)"
      ],
      "id": "9J2GeNoCl2bJ"
    },
    {
      "cell_type": "code",
      "execution_count": 117,
      "metadata": {
        "id": "8jvScFy4l2bJ"
      },
      "outputs": [],
      "source": [
        "df[\"trailer_duration\"] = [float(str(i).replace(\",\", \"\")) for i in df[\"trailer_duration\"]]"
      ],
      "id": "8jvScFy4l2bJ"
    },
    {
      "cell_type": "code",
      "execution_count": 118,
      "metadata": {
        "colab": {
          "base_uri": "https://localhost:8080/"
        },
        "id": "hkPT2gkZl2bJ",
        "outputId": "08513f70-63a7-455c-948f-2f122257d4cb"
      },
      "outputs": [
        {
          "output_type": "execute_result",
          "data": {
            "text/plain": [
              "0     131.00\n",
              "1      33.00\n",
              "2     105.00\n",
              "3     120.00\n",
              "4     234.00\n",
              "       ...  \n",
              "995   175.00\n",
              "996   111.00\n",
              "997   104.00\n",
              "998   131.00\n",
              "999    90.00\n",
              "Name: trailer_duration, Length: 1000, dtype: float64"
            ]
          },
          "metadata": {},
          "execution_count": 118
        }
      ],
      "source": [
        "df[\"trailer_duration\"]"
      ],
      "id": "hkPT2gkZl2bJ"
    },
    {
      "cell_type": "markdown",
      "metadata": {
        "id": "ECVlwBZEl2bK"
      },
      "source": [
        "# runtime"
      ],
      "id": "ECVlwBZEl2bK"
    },
    {
      "cell_type": "code",
      "execution_count": 119,
      "metadata": {
        "colab": {
          "base_uri": "https://localhost:8080/"
        },
        "id": "TZQFZr_Bl2bK",
        "outputId": "f6231555-b942-44a3-d76d-8e1f4951aa1f"
      },
      "outputs": [
        {
          "output_type": "execute_result",
          "data": {
            "text/plain": [
              "0      2h 22m\n",
              "1      2h 32m\n",
              "2      2h 28m\n",
              "3      2h 19m\n",
              "4      2h 22m\n",
              "        ...  \n",
              "995    2h 14m\n",
              "996    1h 30m\n",
              "997    1h 59m\n",
              "998    2h 40m\n",
              "999    1h 43m\n",
              "Name: runtime, Length: 1000, dtype: object"
            ]
          },
          "metadata": {},
          "execution_count": 119
        }
      ],
      "source": [
        "df[\"runtime\"]"
      ],
      "id": "TZQFZr_Bl2bK"
    },
    {
      "cell_type": "code",
      "execution_count": 120,
      "metadata": {
        "id": "GLcxKzMNl2bK",
        "scrolled": true
      },
      "outputs": [],
      "source": [
        "df[\"runtime\"] = df[\"runtime\"].str.replace(\"h\", \"\").str.replace(\"m\",\"\")"
      ],
      "id": "GLcxKzMNl2bK"
    },
    {
      "cell_type": "code",
      "execution_count": 121,
      "metadata": {
        "id": "XI4z_bsEl2bK"
      },
      "outputs": [],
      "source": [
        "df2 = df['runtime'].str.split(' ', expand=True)"
      ],
      "id": "XI4z_bsEl2bK"
    },
    {
      "cell_type": "code",
      "execution_count": 122,
      "metadata": {
        "id": "gaUmzVTMl2bK"
      },
      "outputs": [],
      "source": [
        "df2 = df2.astype(float)"
      ],
      "id": "gaUmzVTMl2bK"
    },
    {
      "cell_type": "code",
      "execution_count": 123,
      "metadata": {
        "id": "28xq3yL5l2bL"
      },
      "outputs": [],
      "source": [
        "df['runtime'] = df2[0] * 60 + df2[1]"
      ],
      "id": "28xq3yL5l2bL"
    },
    {
      "cell_type": "code",
      "execution_count": 124,
      "metadata": {
        "id": "zFu6CfB2l2bL"
      },
      "outputs": [],
      "source": [
        "df[\"runtime\"].replace(0, np.nan, inplace=True)"
      ],
      "id": "zFu6CfB2l2bL"
    },
    {
      "cell_type": "code",
      "execution_count": 125,
      "metadata": {
        "colab": {
          "base_uri": "https://localhost:8080/"
        },
        "id": "u6zZV7YSl2bL",
        "outputId": "fabff955-d20e-4f1f-ff7b-0452f0261785"
      },
      "outputs": [
        {
          "output_type": "execute_result",
          "data": {
            "text/plain": [
              "0     142.00\n",
              "1     152.00\n",
              "2     148.00\n",
              "3     139.00\n",
              "4     142.00\n",
              "       ...  \n",
              "995   134.00\n",
              "996    90.00\n",
              "997   119.00\n",
              "998   160.00\n",
              "999   103.00\n",
              "Name: runtime, Length: 1000, dtype: float64"
            ]
          },
          "metadata": {},
          "execution_count": 125
        }
      ],
      "source": [
        "df[\"runtime\"]"
      ],
      "id": "u6zZV7YSl2bL"
    },
    {
      "cell_type": "markdown",
      "metadata": {
        "id": "2doF83Fyl2bL"
      },
      "source": [
        "# month"
      ],
      "id": "2doF83Fyl2bL"
    },
    {
      "cell_type": "code",
      "execution_count": 126,
      "metadata": {
        "id": "qlOR-oz9l2bL"
      },
      "outputs": [],
      "source": [
        "df[[\"month\", \"month2\"]] = df['release_date'].str.split(\",\", expand=True)"
      ],
      "id": "qlOR-oz9l2bL"
    },
    {
      "cell_type": "code",
      "execution_count": 127,
      "metadata": {
        "colab": {
          "base_uri": "https://localhost:8080/",
          "height": 424
        },
        "id": "TE5Y-yIhnyW5",
        "outputId": "cc76d5dd-fc1b-461e-f909-e198fa71f52a"
      },
      "outputs": [
        {
          "output_type": "execute_result",
          "data": {
            "text/html": [
              "\n",
              "  <div id=\"df-980812b7-716f-4548-9dff-65432ee42eb9\">\n",
              "    <div class=\"colab-df-container\">\n",
              "      <div>\n",
              "<style scoped>\n",
              "    .dataframe tbody tr th:only-of-type {\n",
              "        vertical-align: middle;\n",
              "    }\n",
              "\n",
              "    .dataframe tbody tr th {\n",
              "        vertical-align: top;\n",
              "    }\n",
              "\n",
              "    .dataframe thead th {\n",
              "        text-align: right;\n",
              "    }\n",
              "</style>\n",
              "<table border=\"1\" class=\"dataframe\">\n",
              "  <thead>\n",
              "    <tr style=\"text-align: right;\">\n",
              "      <th></th>\n",
              "      <th>month</th>\n",
              "      <th>month2</th>\n",
              "    </tr>\n",
              "  </thead>\n",
              "  <tbody>\n",
              "    <tr>\n",
              "      <th>0</th>\n",
              "      <td>March 10</td>\n",
              "      <td>1995 (Turkey)</td>\n",
              "    </tr>\n",
              "    <tr>\n",
              "      <th>1</th>\n",
              "      <td>July 25</td>\n",
              "      <td>2008 (Turkey)</td>\n",
              "    </tr>\n",
              "    <tr>\n",
              "      <th>2</th>\n",
              "      <td>July 30</td>\n",
              "      <td>2010 (Turkey)</td>\n",
              "    </tr>\n",
              "    <tr>\n",
              "      <th>3</th>\n",
              "      <td>December 10</td>\n",
              "      <td>1999 (Turkey)</td>\n",
              "    </tr>\n",
              "    <tr>\n",
              "      <th>4</th>\n",
              "      <td>November 11</td>\n",
              "      <td>1994 (Turkey)</td>\n",
              "    </tr>\n",
              "    <tr>\n",
              "      <th>...</th>\n",
              "      <td>...</td>\n",
              "      <td>...</td>\n",
              "    </tr>\n",
              "    <tr>\n",
              "      <th>995</th>\n",
              "      <td>December 15</td>\n",
              "      <td>1967 (United States)</td>\n",
              "    </tr>\n",
              "    <tr>\n",
              "      <th>996</th>\n",
              "      <td>February 6</td>\n",
              "      <td>1942 (United States)</td>\n",
              "    </tr>\n",
              "    <tr>\n",
              "      <th>997</th>\n",
              "      <td>March 8</td>\n",
              "      <td>1991 (Turkey)</td>\n",
              "    </tr>\n",
              "    <tr>\n",
              "      <th>998</th>\n",
              "      <td>July 1975 (Canada)</td>\n",
              "      <td>None</td>\n",
              "    </tr>\n",
              "    <tr>\n",
              "      <th>999</th>\n",
              "      <td>October 8</td>\n",
              "      <td>1945 (Italy)</td>\n",
              "    </tr>\n",
              "  </tbody>\n",
              "</table>\n",
              "<p>1000 rows × 2 columns</p>\n",
              "</div>\n",
              "      <button class=\"colab-df-convert\" onclick=\"convertToInteractive('df-980812b7-716f-4548-9dff-65432ee42eb9')\"\n",
              "              title=\"Convert this dataframe to an interactive table.\"\n",
              "              style=\"display:none;\">\n",
              "        \n",
              "  <svg xmlns=\"http://www.w3.org/2000/svg\" height=\"24px\"viewBox=\"0 0 24 24\"\n",
              "       width=\"24px\">\n",
              "    <path d=\"M0 0h24v24H0V0z\" fill=\"none\"/>\n",
              "    <path d=\"M18.56 5.44l.94 2.06.94-2.06 2.06-.94-2.06-.94-.94-2.06-.94 2.06-2.06.94zm-11 1L8.5 8.5l.94-2.06 2.06-.94-2.06-.94L8.5 2.5l-.94 2.06-2.06.94zm10 10l.94 2.06.94-2.06 2.06-.94-2.06-.94-.94-2.06-.94 2.06-2.06.94z\"/><path d=\"M17.41 7.96l-1.37-1.37c-.4-.4-.92-.59-1.43-.59-.52 0-1.04.2-1.43.59L10.3 9.45l-7.72 7.72c-.78.78-.78 2.05 0 2.83L4 21.41c.39.39.9.59 1.41.59.51 0 1.02-.2 1.41-.59l7.78-7.78 2.81-2.81c.8-.78.8-2.07 0-2.86zM5.41 20L4 18.59l7.72-7.72 1.47 1.35L5.41 20z\"/>\n",
              "  </svg>\n",
              "      </button>\n",
              "      \n",
              "  <style>\n",
              "    .colab-df-container {\n",
              "      display:flex;\n",
              "      flex-wrap:wrap;\n",
              "      gap: 12px;\n",
              "    }\n",
              "\n",
              "    .colab-df-convert {\n",
              "      background-color: #E8F0FE;\n",
              "      border: none;\n",
              "      border-radius: 50%;\n",
              "      cursor: pointer;\n",
              "      display: none;\n",
              "      fill: #1967D2;\n",
              "      height: 32px;\n",
              "      padding: 0 0 0 0;\n",
              "      width: 32px;\n",
              "    }\n",
              "\n",
              "    .colab-df-convert:hover {\n",
              "      background-color: #E2EBFA;\n",
              "      box-shadow: 0px 1px 2px rgba(60, 64, 67, 0.3), 0px 1px 3px 1px rgba(60, 64, 67, 0.15);\n",
              "      fill: #174EA6;\n",
              "    }\n",
              "\n",
              "    [theme=dark] .colab-df-convert {\n",
              "      background-color: #3B4455;\n",
              "      fill: #D2E3FC;\n",
              "    }\n",
              "\n",
              "    [theme=dark] .colab-df-convert:hover {\n",
              "      background-color: #434B5C;\n",
              "      box-shadow: 0px 1px 3px 1px rgba(0, 0, 0, 0.15);\n",
              "      filter: drop-shadow(0px 1px 2px rgba(0, 0, 0, 0.3));\n",
              "      fill: #FFFFFF;\n",
              "    }\n",
              "  </style>\n",
              "\n",
              "      <script>\n",
              "        const buttonEl =\n",
              "          document.querySelector('#df-980812b7-716f-4548-9dff-65432ee42eb9 button.colab-df-convert');\n",
              "        buttonEl.style.display =\n",
              "          google.colab.kernel.accessAllowed ? 'block' : 'none';\n",
              "\n",
              "        async function convertToInteractive(key) {\n",
              "          const element = document.querySelector('#df-980812b7-716f-4548-9dff-65432ee42eb9');\n",
              "          const dataTable =\n",
              "            await google.colab.kernel.invokeFunction('convertToInteractive',\n",
              "                                                     [key], {});\n",
              "          if (!dataTable) return;\n",
              "\n",
              "          const docLinkHtml = 'Like what you see? Visit the ' +\n",
              "            '<a target=\"_blank\" href=https://colab.research.google.com/notebooks/data_table.ipynb>data table notebook</a>'\n",
              "            + ' to learn more about interactive tables.';\n",
              "          element.innerHTML = '';\n",
              "          dataTable['output_type'] = 'display_data';\n",
              "          await google.colab.output.renderOutput(dataTable, element);\n",
              "          const docLink = document.createElement('div');\n",
              "          docLink.innerHTML = docLinkHtml;\n",
              "          element.appendChild(docLink);\n",
              "        }\n",
              "      </script>\n",
              "    </div>\n",
              "  </div>\n",
              "  "
            ],
            "text/plain": [
              "                  month                 month2\n",
              "0              March 10          1995 (Turkey)\n",
              "1               July 25          2008 (Turkey)\n",
              "2               July 30          2010 (Turkey)\n",
              "3           December 10          1999 (Turkey)\n",
              "4           November 11          1994 (Turkey)\n",
              "..                  ...                    ...\n",
              "995         December 15   1967 (United States)\n",
              "996          February 6   1942 (United States)\n",
              "997             March 8          1991 (Turkey)\n",
              "998  July 1975 (Canada)                   None\n",
              "999           October 8           1945 (Italy)\n",
              "\n",
              "[1000 rows x 2 columns]"
            ]
          },
          "metadata": {},
          "execution_count": 127
        }
      ],
      "source": [
        "df[[\"month\", \"month2\"]]"
      ],
      "id": "TE5Y-yIhnyW5"
    },
    {
      "cell_type": "code",
      "execution_count": 128,
      "metadata": {
        "colab": {
          "base_uri": "https://localhost:8080/"
        },
        "id": "H3JJ6J1-n1Dr",
        "outputId": "825bfcd9-5f22-4621-d665-4275092de179"
      },
      "outputs": [
        {
          "output_type": "stream",
          "name": "stderr",
          "text": [
            "/usr/local/lib/python3.7/dist-packages/ipykernel_launcher.py:1: FutureWarning: The default value of regex will change from True to False in a future version.\n",
            "  \"\"\"Entry point for launching an IPython kernel.\n"
          ]
        }
      ],
      "source": [
        "df[\"month\"] = df[\"month\"].str.replace('\\d+', '')"
      ],
      "id": "H3JJ6J1-n1Dr"
    },
    {
      "cell_type": "code",
      "execution_count": 129,
      "metadata": {
        "colab": {
          "base_uri": "https://localhost:8080/"
        },
        "id": "SAx-slyboChe",
        "outputId": "60eb04eb-6e51-4594-d03e-181024a1fb08"
      },
      "outputs": [
        {
          "output_type": "execute_result",
          "data": {
            "text/plain": [
              "February                     111\n",
              "October                       97\n",
              "December                      96\n",
              "January                       88\n",
              "March                         85\n",
              "November                      71\n",
              "September                     69\n",
              "May                           68\n",
              "April                         66\n",
              "June                          64\n",
              "July                          63\n",
              "August                        44\n",
              "October  (Turkey)             11\n",
              " (Turkey)                     10\n",
              "December  (Turkey)            10\n",
              "March  (Turkey)                8\n",
              "November  (Turkey)             7\n",
              "February  (Turkey)             7\n",
              "January  (Turkey)              7\n",
              "April  (Turkey)                6\n",
              "May  (Turkey)                  4\n",
              "September  (Turkey)            2\n",
              "September  (Serbia)            1\n",
              " (Iran)                        1\n",
              "December  (France)             1\n",
              "December  (United States)      1\n",
              "August  (United States)        1\n",
              "July  (Canada)                 1\n",
              "Name: month, dtype: int64"
            ]
          },
          "metadata": {},
          "execution_count": 129
        }
      ],
      "source": [
        "df[\"month\"].value_counts()"
      ],
      "id": "SAx-slyboChe"
    },
    {
      "cell_type": "code",
      "execution_count": 130,
      "metadata": {
        "id": "Hk-urdXXl2bL"
      },
      "outputs": [],
      "source": [
        "df = df.drop([\"release_date\", \"month2\"], axis = 1)"
      ],
      "id": "Hk-urdXXl2bL"
    },
    {
      "cell_type": "code",
      "execution_count": 131,
      "metadata": {
        "id": "ZYKUsH5al2bM"
      },
      "outputs": [],
      "source": [
        "df[\"month\"] = np.where(df[\"month\"] == \"October  (Turkey)\", \"October\", df[\"month\"])\n",
        "df[\"month\"] = np.where(df[\"month\"] == \"December  (Turkey)\", \"December\", df[\"month\"])\n",
        "df[\"month\"] = np.where(df[\"month\"] == \"March  (Turkey)\", \"March\", df[\"month\"])\n",
        "df[\"month\"] = np.where(df[\"month\"] == \"January  (Turkey)\", \"January\", df[\"month\"])\n",
        "df[\"month\"] = np.where(df[\"month\"] == \"February  (Turkey)\", \"February\", df[\"month\"])\n",
        "df[\"month\"] = np.where(df[\"month\"] == \"November  (Turkey)\", \"November\", df[\"month\"])\n",
        "df[\"month\"] = np.where(df[\"month\"] == \"April  (Turkey)\", \"April\", df[\"month\"])\n",
        "df[\"month\"] = np.where(df[\"month\"] == \"May  (Turkey)\", \"May\", df[\"month\"])\n",
        "df[\"month\"] = np.where(df[\"month\"] == \"September  (Turkey)\", \"September\", df[\"month\"])\n",
        "df[\"month\"] = np.where(df[\"month\"] == \"July  (Canada)\", \"July\", df[\"month\"])\n",
        "df[\"month\"] = np.where(df[\"month\"] == \"December  (United States)\", \"December\", df[\"month\"])\n",
        "df[\"month\"] = np.where(df[\"month\"] == \"August  (Canada)\", \"August\", df[\"month\"])\n",
        "df[\"month\"] = np.where(df[\"month\"] == \"August  (United States)\", \"August\", df[\"month\"])\n",
        "df[\"month\"] = np.where(df[\"month\"] == \"December  (France)\", \"December\", df[\"month\"])\n",
        "df[\"month\"] = np.where(df[\"month\"] == \"September  (Serbia)\", \"September\", df[\"month\"])\n",
        "df[\"month\"] = np.where(df[\"month\"] == \" (Iran)\", np.NaN, df[\"month\"])\n",
        "df[\"month\"] = np.where(df[\"month\"] == \" (Turkey)\", np.NaN, df[\"month\"])\n",
        "df[\"month\"] = df[\"month\"].str.strip()"
      ],
      "id": "ZYKUsH5al2bM"
    },
    {
      "cell_type": "code",
      "execution_count": 132,
      "metadata": {
        "colab": {
          "base_uri": "https://localhost:8080/"
        },
        "id": "jj4RMOP_l2bM",
        "outputId": "0ee37cfa-71ea-47c7-c401-775afb9eff0f"
      },
      "outputs": [
        {
          "output_type": "execute_result",
          "data": {
            "text/plain": [
              "February     118\n",
              "December     108\n",
              "October      108\n",
              "January       95\n",
              "March         93\n",
              "November      78\n",
              "April         72\n",
              "September     72\n",
              "May           72\n",
              "July          64\n",
              "June          64\n",
              "August        45\n",
              "Name: month, dtype: int64"
            ]
          },
          "metadata": {},
          "execution_count": 132
        }
      ],
      "source": [
        "df.month.value_counts()"
      ],
      "id": "jj4RMOP_l2bM"
    },
    {
      "cell_type": "markdown",
      "metadata": {
        "id": "Z3HnNSv_l2bM"
      },
      "source": [
        "# user reviews"
      ],
      "id": "Z3HnNSv_l2bM"
    },
    {
      "cell_type": "code",
      "execution_count": 133,
      "metadata": {
        "colab": {
          "base_uri": "https://localhost:8080/"
        },
        "id": "j3vT6_Frl2bM",
        "outputId": "4de43923-63ee-4570-86ad-2cbd0cc24aa1"
      },
      "outputs": [
        {
          "output_type": "execute_result",
          "data": {
            "text/plain": [
              "0      9.7K\n",
              "1      7.7K\n",
              "2      4.4K\n",
              "3      4.1K\n",
              "4      2.8K\n",
              "       ... \n",
              "995     151\n",
              "996     165\n",
              "997     134\n",
              "998     187\n",
              "999      83\n",
              "Name: user_reviews, Length: 1000, dtype: object"
            ]
          },
          "metadata": {},
          "execution_count": 133
        }
      ],
      "source": [
        "df[\"user_reviews\"]"
      ],
      "id": "j3vT6_Frl2bM"
    },
    {
      "cell_type": "code",
      "execution_count": 134,
      "metadata": {
        "id": "0O4ctWq5uffz"
      },
      "outputs": [],
      "source": [
        "df[[\"a\", \"a1\"]] = df[df[\"user_reviews\"].str.contains(\"K\")][\"user_reviews\"].str.split(\"K\", expand = True)"
      ],
      "id": "0O4ctWq5uffz"
    },
    {
      "cell_type": "code",
      "execution_count": 135,
      "metadata": {
        "id": "YDwrQeHcl2bN"
      },
      "outputs": [],
      "source": [
        "df[\"a\"] = df[\"a\"].apply(lambda x: float(x) * 1000)"
      ],
      "id": "YDwrQeHcl2bN"
    },
    {
      "cell_type": "code",
      "execution_count": 136,
      "metadata": {
        "id": "SHxD9U20l2bN"
      },
      "outputs": [],
      "source": [
        "df.loc[df.a.isna(), 'a'] = df[~df[\"user_reviews\"].str.contains(\"K\")][\"user_reviews\"]"
      ],
      "id": "SHxD9U20l2bN"
    },
    {
      "cell_type": "code",
      "execution_count": 137,
      "metadata": {
        "colab": {
          "base_uri": "https://localhost:8080/"
        },
        "id": "JLVDlJ84s-e3",
        "outputId": "8e9334f4-619b-4480-b5d1-15d54426451d"
      },
      "outputs": [
        {
          "output_type": "execute_result",
          "data": {
            "text/plain": [
              "0     9700.00\n",
              "1     7700.00\n",
              "2     4400.00\n",
              "3     4100.00\n",
              "4     2800.00\n",
              "        ...  \n",
              "995       151\n",
              "996       165\n",
              "997       134\n",
              "998       187\n",
              "999        83\n",
              "Name: a, Length: 1000, dtype: object"
            ]
          },
          "metadata": {},
          "execution_count": 137
        }
      ],
      "source": [
        "df[\"a\"]"
      ],
      "id": "JLVDlJ84s-e3"
    },
    {
      "cell_type": "code",
      "execution_count": 138,
      "metadata": {
        "id": "V3Y_CyiQl2bN"
      },
      "outputs": [],
      "source": [
        "df.drop([\"user_reviews\", \"a1\"], axis=1, inplace=True)"
      ],
      "id": "V3Y_CyiQl2bN"
    },
    {
      "cell_type": "code",
      "execution_count": 139,
      "metadata": {
        "id": "EeIqo0RUl2bN"
      },
      "outputs": [],
      "source": [
        "df = df.rename(columns={'a':'user_reviews'})"
      ],
      "id": "EeIqo0RUl2bN"
    },
    {
      "cell_type": "code",
      "execution_count": 140,
      "metadata": {
        "id": "UvoBHKNWl2bO"
      },
      "outputs": [],
      "source": [
        "df[\"user_reviews\"] = df[\"user_reviews\"].astype(float)"
      ],
      "id": "UvoBHKNWl2bO"
    },
    {
      "cell_type": "code",
      "execution_count": 141,
      "metadata": {
        "colab": {
          "base_uri": "https://localhost:8080/"
        },
        "id": "dBrRBfNZl2bO",
        "outputId": "2bacb7cb-3bfc-4ea6-fb05-d44748d9210a"
      },
      "outputs": [
        {
          "output_type": "execute_result",
          "data": {
            "text/plain": [
              "0     9700.00\n",
              "1     7700.00\n",
              "2     4400.00\n",
              "3     4100.00\n",
              "4     2800.00\n",
              "        ...  \n",
              "995    151.00\n",
              "996    165.00\n",
              "997    134.00\n",
              "998    187.00\n",
              "999     83.00\n",
              "Name: user_reviews, Length: 1000, dtype: float64"
            ]
          },
          "metadata": {},
          "execution_count": 141
        }
      ],
      "source": [
        "df[\"user_reviews\"]"
      ],
      "id": "dBrRBfNZl2bO"
    },
    {
      "cell_type": "markdown",
      "metadata": {
        "id": "9z7x2Kqyl2bO"
      },
      "source": [
        "# MISSING VALUE INVESTIGATION"
      ],
      "id": "9z7x2Kqyl2bO"
    },
    {
      "cell_type": "code",
      "execution_count": 142,
      "metadata": {
        "colab": {
          "base_uri": "https://localhost:8080/"
        },
        "id": "3PI5PF9ll2bO",
        "outputId": "b32f42d5-da13-49b9-c612-befc745997aa"
      },
      "outputs": [
        {
          "output_type": "execute_result",
          "data": {
            "text/plain": [
              "name                False\n",
              "year                False\n",
              "runtime              True\n",
              "budget               True\n",
              "genre1              False\n",
              "genre2              False\n",
              "genre3              False\n",
              "rating              False\n",
              "critic_reviews      False\n",
              "metascore            True\n",
              "count_videos         True\n",
              "count_photos         True\n",
              "trailer_duration     True\n",
              "director            False\n",
              "star1               False\n",
              "star2               False\n",
              "star3               False\n",
              "company1            False\n",
              "company2            False\n",
              "company3            False\n",
              "gross                True\n",
              "month                True\n",
              "user_reviews        False\n",
              "dtype: bool"
            ]
          },
          "metadata": {},
          "execution_count": 142
        }
      ],
      "source": [
        "df.isnull().any()"
      ],
      "id": "3PI5PF9ll2bO"
    },
    {
      "cell_type": "code",
      "execution_count": 143,
      "metadata": {
        "colab": {
          "base_uri": "https://localhost:8080/",
          "height": 692
        },
        "id": "YN9Bj6Nfl2bP",
        "outputId": "ed428c44-de60-4a2b-a124-9ed5552c8319"
      },
      "outputs": [
        {
          "output_type": "display_data",
          "data": {
            "image/png": "[encoded data removed]",
            "text/plain": [
              "<Figure size 1800x720 with 2 Axes>"
            ]
          },
          "metadata": {
            "needs_background": "light"
          }
        }
      ],
      "source": [
        "msn.matrix(df);"
      ],
      "id": "YN9Bj6Nfl2bP"
    },
    {
      "cell_type": "code",
      "execution_count": 144,
      "metadata": {
        "colab": {
          "base_uri": "https://localhost:8080/",
          "height": 811
        },
        "id": "SuK1ZAy2l2bP",
        "outputId": "a8b9d11a-084d-4b64-846f-1a0c248eac71"
      },
      "outputs": [
        {
          "output_type": "execute_result",
          "data": {
            "text/plain": [
              "<matplotlib.axes._subplots.AxesSubplot at 0x7f10d3390dd0>"
            ]
          },
          "metadata": {},
          "execution_count": 144
        },
        {
          "output_type": "display_data",
          "data": {
            "image/png": "[encoded data removed]",
            "text/plain": [
              "<Figure size 1440x864 with 2 Axes>"
            ]
          },
          "metadata": {
            "needs_background": "light"
          }
        }
      ],
      "source": [
        "msn.heatmap(df)"
      ],
      "id": "SuK1ZAy2l2bP"
    },
    {
      "cell_type": "code",
      "execution_count": 149,
      "metadata": {
        "id": "nC-1RQzFl2bP"
      },
      "outputs": [],
      "source": [
        "from fancyimpute import KNN"
      ],
      "id": "nC-1RQzFl2bP"
    },
    {
      "cell_type": "code",
      "execution_count": 150,
      "metadata": {
        "colab": {
          "base_uri": "https://localhost:8080/"
        },
        "id": "5NW3gmoAl2bP",
        "outputId": "5c91de07-e719-4a7f-d605-04648916e39e"
      },
      "outputs": [
        {
          "output_type": "execute_result",
          "data": {
            "text/plain": [
              "Index(['name', 'year', 'runtime', 'budget', 'genre1', 'genre2', 'genre3',\n",
              "       'rating', 'critic_reviews', 'metascore', 'count_videos', 'count_photos',\n",
              "       'trailer_duration', 'director', 'star1', 'star2', 'star3', 'company1',\n",
              "       'company2', 'company3', 'gross', 'month', 'user_reviews'],\n",
              "      dtype='object')"
            ]
          },
          "metadata": {},
          "execution_count": 150
        }
      ],
      "source": [
        "df.columns"
      ],
      "id": "5NW3gmoAl2bP"
    },
    {
      "cell_type": "code",
      "execution_count": 151,
      "metadata": {
        "colab": {
          "base_uri": "https://localhost:8080/"
        },
        "id": "uHXPJzT9l2bP",
        "outputId": "af0e4f0d-4d54-460e-d610-aa079d6b6fd7"
      },
      "outputs": [
        {
          "output_type": "execute_result",
          "data": {
            "text/plain": [
              "name                  0\n",
              "year                  0\n",
              "runtime              23\n",
              "budget              212\n",
              "genre1                0\n",
              "genre2                0\n",
              "genre3                0\n",
              "rating                0\n",
              "critic_reviews        0\n",
              "metascore           168\n",
              "count_videos         51\n",
              "count_photos         51\n",
              "trailer_duration     51\n",
              "director              0\n",
              "star1                 0\n",
              "star2                 0\n",
              "star3                 0\n",
              "company1              0\n",
              "company2              0\n",
              "company3              0\n",
              "gross                72\n",
              "month                11\n",
              "user_reviews          0\n",
              "dtype: int64"
            ]
          },
          "metadata": {},
          "execution_count": 151
        }
      ],
      "source": [
        "df.isnull().sum()"
      ],
      "id": "uHXPJzT9l2bP"
    },
    {
      "cell_type": "code",
      "execution_count": 152,
      "metadata": {
        "id": "YBx56PbXl2bQ"
      },
      "outputs": [],
      "source": [
        "num = df[['runtime', 'budget', 'metascore', 'count_videos', 'count_photos',\n",
        "       'trailer_duration', 'gross']]"
      ],
      "id": "YBx56PbXl2bQ"
    },
    {
      "cell_type": "code",
      "execution_count": 153,
      "metadata": {
        "id": "VqeRrenbl2bQ"
      },
      "outputs": [],
      "source": [
        "var_names=list(num)"
      ],
      "id": "VqeRrenbl2bQ"
    },
    {
      "cell_type": "code",
      "execution_count": 154,
      "metadata": {
        "colab": {
          "base_uri": "https://localhost:8080/"
        },
        "id": "g-jzP80wl2bQ",
        "outputId": "d66539ce-4597-48ac-9b0f-babcc0695c2e"
      },
      "outputs": [
        {
          "output_type": "stream",
          "name": "stdout",
          "text": [
            "Imputing row 1/1000 with 0 missing, elapsed time: 0.547\n",
            "Imputing row 101/1000 with 0 missing, elapsed time: 0.549\n",
            "Imputing row 201/1000 with 0 missing, elapsed time: 0.550\n",
            "Imputing row 301/1000 with 0 missing, elapsed time: 0.552\n",
            "Imputing row 401/1000 with 0 missing, elapsed time: 0.553\n",
            "Imputing row 501/1000 with 0 missing, elapsed time: 0.555\n",
            "Imputing row 601/1000 with 0 missing, elapsed time: 0.558\n",
            "Imputing row 701/1000 with 1 missing, elapsed time: 0.561\n",
            "Imputing row 801/1000 with 1 missing, elapsed time: 0.566\n",
            "Imputing row 901/1000 with 1 missing, elapsed time: 0.571\n"
          ]
        }
      ],
      "source": [
        "knn_imp=KNN(k=5).fit_transform(num) #knn_imp, dfnin eksik verilerinin doldurulmuş yeni hali aynı shapete."
      ],
      "id": "g-jzP80wl2bQ"
    },
    {
      "cell_type": "code",
      "execution_count": 155,
      "metadata": {
        "colab": {
          "base_uri": "https://localhost:8080/",
          "height": 206
        },
        "id": "mKR4UVV7l2bQ",
        "outputId": "0d9267f1-b258-4e4b-84b9-f2d8fe0f3713",
        "scrolled": true
      },
      "outputs": [
        {
          "output_type": "execute_result",
          "data": {
            "text/html": [
              "\n",
              "  <div id=\"df-5a38bde2-5c4d-4220-be90-98cede551d74\">\n",
              "    <div class=\"colab-df-container\">\n",
              "      <div>\n",
              "<style scoped>\n",
              "    .dataframe tbody tr th:only-of-type {\n",
              "        vertical-align: middle;\n",
              "    }\n",
              "\n",
              "    .dataframe tbody tr th {\n",
              "        vertical-align: top;\n",
              "    }\n",
              "\n",
              "    .dataframe thead th {\n",
              "        text-align: right;\n",
              "    }\n",
              "</style>\n",
              "<table border=\"1\" class=\"dataframe\">\n",
              "  <thead>\n",
              "    <tr style=\"text-align: right;\">\n",
              "      <th></th>\n",
              "      <th>0</th>\n",
              "      <th>1</th>\n",
              "      <th>2</th>\n",
              "      <th>3</th>\n",
              "      <th>4</th>\n",
              "      <th>5</th>\n",
              "      <th>6</th>\n",
              "    </tr>\n",
              "  </thead>\n",
              "  <tbody>\n",
              "    <tr>\n",
              "      <th>0</th>\n",
              "      <td>142.00</td>\n",
              "      <td>25000000.00</td>\n",
              "      <td>80.00</td>\n",
              "      <td>5.00</td>\n",
              "      <td>99.00</td>\n",
              "      <td>131.00</td>\n",
              "      <td>28817291.00</td>\n",
              "    </tr>\n",
              "    <tr>\n",
              "      <th>1</th>\n",
              "      <td>152.00</td>\n",
              "      <td>185000000.00</td>\n",
              "      <td>84.00</td>\n",
              "      <td>31.00</td>\n",
              "      <td>99.00</td>\n",
              "      <td>33.00</td>\n",
              "      <td>1005973645.00</td>\n",
              "    </tr>\n",
              "    <tr>\n",
              "      <th>2</th>\n",
              "      <td>148.00</td>\n",
              "      <td>160000000.00</td>\n",
              "      <td>74.00</td>\n",
              "      <td>27.00</td>\n",
              "      <td>99.00</td>\n",
              "      <td>105.00</td>\n",
              "      <td>836836967.00</td>\n",
              "    </tr>\n",
              "    <tr>\n",
              "      <th>3</th>\n",
              "      <td>139.00</td>\n",
              "      <td>63000000.00</td>\n",
              "      <td>66.00</td>\n",
              "      <td>8.00</td>\n",
              "      <td>99.00</td>\n",
              "      <td>120.00</td>\n",
              "      <td>101209702.00</td>\n",
              "    </tr>\n",
              "    <tr>\n",
              "      <th>4</th>\n",
              "      <td>142.00</td>\n",
              "      <td>55000000.00</td>\n",
              "      <td>82.00</td>\n",
              "      <td>12.00</td>\n",
              "      <td>99.00</td>\n",
              "      <td>234.00</td>\n",
              "      <td>678226133.00</td>\n",
              "    </tr>\n",
              "  </tbody>\n",
              "</table>\n",
              "</div>\n",
              "      <button class=\"colab-df-convert\" onclick=\"convertToInteractive('df-5a38bde2-5c4d-4220-be90-98cede551d74')\"\n",
              "              title=\"Convert this dataframe to an interactive table.\"\n",
              "              style=\"display:none;\">\n",
              "        \n",
              "  <svg xmlns=\"http://www.w3.org/2000/svg\" height=\"24px\"viewBox=\"0 0 24 24\"\n",
              "       width=\"24px\">\n",
              "    <path d=\"M0 0h24v24H0V0z\" fill=\"none\"/>\n",
              "    <path d=\"M18.56 5.44l.94 2.06.94-2.06 2.06-.94-2.06-.94-.94-2.06-.94 2.06-2.06.94zm-11 1L8.5 8.5l.94-2.06 2.06-.94-2.06-.94L8.5 2.5l-.94 2.06-2.06.94zm10 10l.94 2.06.94-2.06 2.06-.94-2.06-.94-.94-2.06-.94 2.06-2.06.94z\"/><path d=\"M17.41 7.96l-1.37-1.37c-.4-.4-.92-.59-1.43-.59-.52 0-1.04.2-1.43.59L10.3 9.45l-7.72 7.72c-.78.78-.78 2.05 0 2.83L4 21.41c.39.39.9.59 1.41.59.51 0 1.02-.2 1.41-.59l7.78-7.78 2.81-2.81c.8-.78.8-2.07 0-2.86zM5.41 20L4 18.59l7.72-7.72 1.47 1.35L5.41 20z\"/>\n",
              "  </svg>\n",
              "      </button>\n",
              "      \n",
              "  <style>\n",
              "    .colab-df-container {\n",
              "      display:flex;\n",
              "      flex-wrap:wrap;\n",
              "      gap: 12px;\n",
              "    }\n",
              "\n",
              "    .colab-df-convert {\n",
              "      background-color: #E8F0FE;\n",
              "      border: none;\n",
              "      border-radius: 50%;\n",
              "      cursor: pointer;\n",
              "      display: none;\n",
              "      fill: #1967D2;\n",
              "      height: 32px;\n",
              "      padding: 0 0 0 0;\n",
              "      width: 32px;\n",
              "    }\n",
              "\n",
              "    .colab-df-convert:hover {\n",
              "      background-color: #E2EBFA;\n",
              "      box-shadow: 0px 1px 2px rgba(60, 64, 67, 0.3), 0px 1px 3px 1px rgba(60, 64, 67, 0.15);\n",
              "      fill: #174EA6;\n",
              "    }\n",
              "\n",
              "    [theme=dark] .colab-df-convert {\n",
              "      background-color: #3B4455;\n",
              "      fill: #D2E3FC;\n",
              "    }\n",
              "\n",
              "    [theme=dark] .colab-df-convert:hover {\n",
              "      background-color: #434B5C;\n",
              "      box-shadow: 0px 1px 3px 1px rgba(0, 0, 0, 0.15);\n",
              "      filter: drop-shadow(0px 1px 2px rgba(0, 0, 0, 0.3));\n",
              "      fill: #FFFFFF;\n",
              "    }\n",
              "  </style>\n",
              "\n",
              "      <script>\n",
              "        const buttonEl =\n",
              "          document.querySelector('#df-5a38bde2-5c4d-4220-be90-98cede551d74 button.colab-df-convert');\n",
              "        buttonEl.style.display =\n",
              "          google.colab.kernel.accessAllowed ? 'block' : 'none';\n",
              "\n",
              "        async function convertToInteractive(key) {\n",
              "          const element = document.querySelector('#df-5a38bde2-5c4d-4220-be90-98cede551d74');\n",
              "          const dataTable =\n",
              "            await google.colab.kernel.invokeFunction('convertToInteractive',\n",
              "                                                     [key], {});\n",
              "          if (!dataTable) return;\n",
              "\n",
              "          const docLinkHtml = 'Like what you see? Visit the ' +\n",
              "            '<a target=\"_blank\" href=https://colab.research.google.com/notebooks/data_table.ipynb>data table notebook</a>'\n",
              "            + ' to learn more about interactive tables.';\n",
              "          element.innerHTML = '';\n",
              "          dataTable['output_type'] = 'display_data';\n",
              "          await google.colab.output.renderOutput(dataTable, element);\n",
              "          const docLink = document.createElement('div');\n",
              "          docLink.innerHTML = docLinkHtml;\n",
              "          element.appendChild(docLink);\n",
              "        }\n",
              "      </script>\n",
              "    </div>\n",
              "  </div>\n",
              "  "
            ],
            "text/plain": [
              "       0            1     2     3     4      5             6\n",
              "0 142.00  25000000.00 80.00  5.00 99.00 131.00   28817291.00\n",
              "1 152.00 185000000.00 84.00 31.00 99.00  33.00 1005973645.00\n",
              "2 148.00 160000000.00 74.00 27.00 99.00 105.00  836836967.00\n",
              "3 139.00  63000000.00 66.00  8.00 99.00 120.00  101209702.00\n",
              "4 142.00  55000000.00 82.00 12.00 99.00 234.00  678226133.00"
            ]
          },
          "metadata": {},
          "execution_count": 155
        }
      ],
      "source": [
        "num=pd.DataFrame(knn_imp)\n",
        "num.head()"
      ],
      "id": "mKR4UVV7l2bQ"
    },
    {
      "cell_type": "code",
      "execution_count": 156,
      "metadata": {
        "colab": {
          "base_uri": "https://localhost:8080/",
          "height": 206
        },
        "id": "gbnPsIQsl2bQ",
        "outputId": "f2b5872b-c26c-4fd3-d95e-fdc388c662ce"
      },
      "outputs": [
        {
          "output_type": "execute_result",
          "data": {
            "text/html": [
              "\n",
              "  <div id=\"df-266cc565-3c25-4b81-ad2d-dacd22a4785c\">\n",
              "    <div class=\"colab-df-container\">\n",
              "      <div>\n",
              "<style scoped>\n",
              "    .dataframe tbody tr th:only-of-type {\n",
              "        vertical-align: middle;\n",
              "    }\n",
              "\n",
              "    .dataframe tbody tr th {\n",
              "        vertical-align: top;\n",
              "    }\n",
              "\n",
              "    .dataframe thead th {\n",
              "        text-align: right;\n",
              "    }\n",
              "</style>\n",
              "<table border=\"1\" class=\"dataframe\">\n",
              "  <thead>\n",
              "    <tr style=\"text-align: right;\">\n",
              "      <th></th>\n",
              "      <th>runtime</th>\n",
              "      <th>budget</th>\n",
              "      <th>metascore</th>\n",
              "      <th>count_videos</th>\n",
              "      <th>count_photos</th>\n",
              "      <th>trailer_duration</th>\n",
              "      <th>gross</th>\n",
              "    </tr>\n",
              "  </thead>\n",
              "  <tbody>\n",
              "    <tr>\n",
              "      <th>0</th>\n",
              "      <td>142.00</td>\n",
              "      <td>25000000.00</td>\n",
              "      <td>80.00</td>\n",
              "      <td>5.00</td>\n",
              "      <td>99.00</td>\n",
              "      <td>131.00</td>\n",
              "      <td>28817291.00</td>\n",
              "    </tr>\n",
              "    <tr>\n",
              "      <th>1</th>\n",
              "      <td>152.00</td>\n",
              "      <td>185000000.00</td>\n",
              "      <td>84.00</td>\n",
              "      <td>31.00</td>\n",
              "      <td>99.00</td>\n",
              "      <td>33.00</td>\n",
              "      <td>1005973645.00</td>\n",
              "    </tr>\n",
              "    <tr>\n",
              "      <th>2</th>\n",
              "      <td>148.00</td>\n",
              "      <td>160000000.00</td>\n",
              "      <td>74.00</td>\n",
              "      <td>27.00</td>\n",
              "      <td>99.00</td>\n",
              "      <td>105.00</td>\n",
              "      <td>836836967.00</td>\n",
              "    </tr>\n",
              "    <tr>\n",
              "      <th>3</th>\n",
              "      <td>139.00</td>\n",
              "      <td>63000000.00</td>\n",
              "      <td>66.00</td>\n",
              "      <td>8.00</td>\n",
              "      <td>99.00</td>\n",
              "      <td>120.00</td>\n",
              "      <td>101209702.00</td>\n",
              "    </tr>\n",
              "    <tr>\n",
              "      <th>4</th>\n",
              "      <td>142.00</td>\n",
              "      <td>55000000.00</td>\n",
              "      <td>82.00</td>\n",
              "      <td>12.00</td>\n",
              "      <td>99.00</td>\n",
              "      <td>234.00</td>\n",
              "      <td>678226133.00</td>\n",
              "    </tr>\n",
              "  </tbody>\n",
              "</table>\n",
              "</div>\n",
              "      <button class=\"colab-df-convert\" onclick=\"convertToInteractive('df-266cc565-3c25-4b81-ad2d-dacd22a4785c')\"\n",
              "              title=\"Convert this dataframe to an interactive table.\"\n",
              "              style=\"display:none;\">\n",
              "        \n",
              "  <svg xmlns=\"http://www.w3.org/2000/svg\" height=\"24px\"viewBox=\"0 0 24 24\"\n",
              "       width=\"24px\">\n",
              "    <path d=\"M0 0h24v24H0V0z\" fill=\"none\"/>\n",
              "    <path d=\"M18.56 5.44l.94 2.06.94-2.06 2.06-.94-2.06-.94-.94-2.06-.94 2.06-2.06.94zm-11 1L8.5 8.5l.94-2.06 2.06-.94-2.06-.94L8.5 2.5l-.94 2.06-2.06.94zm10 10l.94 2.06.94-2.06 2.06-.94-2.06-.94-.94-2.06-.94 2.06-2.06.94z\"/><path d=\"M17.41 7.96l-1.37-1.37c-.4-.4-.92-.59-1.43-.59-.52 0-1.04.2-1.43.59L10.3 9.45l-7.72 7.72c-.78.78-.78 2.05 0 2.83L4 21.41c.39.39.9.59 1.41.59.51 0 1.02-.2 1.41-.59l7.78-7.78 2.81-2.81c.8-.78.8-2.07 0-2.86zM5.41 20L4 18.59l7.72-7.72 1.47 1.35L5.41 20z\"/>\n",
              "  </svg>\n",
              "      </button>\n",
              "      \n",
              "  <style>\n",
              "    .colab-df-container {\n",
              "      display:flex;\n",
              "      flex-wrap:wrap;\n",
              "      gap: 12px;\n",
              "    }\n",
              "\n",
              "    .colab-df-convert {\n",
              "      background-color: #E8F0FE;\n",
              "      border: none;\n",
              "      border-radius: 50%;\n",
              "      cursor: pointer;\n",
              "      display: none;\n",
              "      fill: #1967D2;\n",
              "      height: 32px;\n",
              "      padding: 0 0 0 0;\n",
              "      width: 32px;\n",
              "    }\n",
              "\n",
              "    .colab-df-convert:hover {\n",
              "      background-color: #E2EBFA;\n",
              "      box-shadow: 0px 1px 2px rgba(60, 64, 67, 0.3), 0px 1px 3px 1px rgba(60, 64, 67, 0.15);\n",
              "      fill: #174EA6;\n",
              "    }\n",
              "\n",
              "    [theme=dark] .colab-df-convert {\n",
              "      background-color: #3B4455;\n",
              "      fill: #D2E3FC;\n",
              "    }\n",
              "\n",
              "    [theme=dark] .colab-df-convert:hover {\n",
              "      background-color: #434B5C;\n",
              "      box-shadow: 0px 1px 3px 1px rgba(0, 0, 0, 0.15);\n",
              "      filter: drop-shadow(0px 1px 2px rgba(0, 0, 0, 0.3));\n",
              "      fill: #FFFFFF;\n",
              "    }\n",
              "  </style>\n",
              "\n",
              "      <script>\n",
              "        const buttonEl =\n",
              "          document.querySelector('#df-266cc565-3c25-4b81-ad2d-dacd22a4785c button.colab-df-convert');\n",
              "        buttonEl.style.display =\n",
              "          google.colab.kernel.accessAllowed ? 'block' : 'none';\n",
              "\n",
              "        async function convertToInteractive(key) {\n",
              "          const element = document.querySelector('#df-266cc565-3c25-4b81-ad2d-dacd22a4785c');\n",
              "          const dataTable =\n",
              "            await google.colab.kernel.invokeFunction('convertToInteractive',\n",
              "                                                     [key], {});\n",
              "          if (!dataTable) return;\n",
              "\n",
              "          const docLinkHtml = 'Like what you see? Visit the ' +\n",
              "            '<a target=\"_blank\" href=https://colab.research.google.com/notebooks/data_table.ipynb>data table notebook</a>'\n",
              "            + ' to learn more about interactive tables.';\n",
              "          element.innerHTML = '';\n",
              "          dataTable['output_type'] = 'display_data';\n",
              "          await google.colab.output.renderOutput(dataTable, element);\n",
              "          const docLink = document.createElement('div');\n",
              "          docLink.innerHTML = docLinkHtml;\n",
              "          element.appendChild(docLink);\n",
              "        }\n",
              "      </script>\n",
              "    </div>\n",
              "  </div>\n",
              "  "
            ],
            "text/plain": [
              "   runtime       budget  ...  trailer_duration         gross\n",
              "0   142.00  25000000.00  ...            131.00   28817291.00\n",
              "1   152.00 185000000.00  ...             33.00 1005973645.00\n",
              "2   148.00 160000000.00  ...            105.00  836836967.00\n",
              "3   139.00  63000000.00  ...            120.00  101209702.00\n",
              "4   142.00  55000000.00  ...            234.00  678226133.00\n",
              "\n",
              "[5 rows x 7 columns]"
            ]
          },
          "metadata": {},
          "execution_count": 156
        }
      ],
      "source": [
        "num.columns=var_names\n",
        "num.head()"
      ],
      "id": "gbnPsIQsl2bQ"
    },
    {
      "cell_type": "code",
      "execution_count": 157,
      "metadata": {
        "id": "QN2xq7UVl2bQ"
      },
      "outputs": [],
      "source": [
        "others = df[['name', 'year', 'genre1', 'genre2', 'genre3', 'rating', 'critic_reviews', 'director', 'star1', 'star2', 'star3', 'company1',\n",
        "       'company2', 'company3', 'month', 'user_reviews']]"
      ],
      "id": "QN2xq7UVl2bQ"
    },
    {
      "cell_type": "code",
      "execution_count": 158,
      "metadata": {
        "id": "uGO6ejeGl2bR"
      },
      "outputs": [],
      "source": [
        "num.reset_index(drop=True, inplace=True)"
      ],
      "id": "uGO6ejeGl2bR"
    },
    {
      "cell_type": "code",
      "execution_count": 159,
      "metadata": {
        "id": "SpCq2XiVl2bR"
      },
      "outputs": [],
      "source": [
        "others.reset_index(drop=True, inplace=True)"
      ],
      "id": "SpCq2XiVl2bR"
    },
    {
      "cell_type": "code",
      "execution_count": 160,
      "metadata": {
        "id": "sZHwYog7l2bR"
      },
      "outputs": [],
      "source": [
        "df_full = pd.concat([others, num], axis=1, ignore_index=False)"
      ],
      "id": "sZHwYog7l2bR"
    },
    {
      "cell_type": "code",
      "execution_count": 161,
      "metadata": {
        "colab": {
          "base_uri": "https://localhost:8080/"
        },
        "id": "QhRb6pQYl2bR",
        "outputId": "f40db50f-7583-4b34-99b0-89dd7737ef69"
      },
      "outputs": [
        {
          "output_type": "execute_result",
          "data": {
            "text/plain": [
              "Index(['name', 'year', 'genre1', 'genre2', 'genre3', 'rating',\n",
              "       'critic_reviews', 'director', 'star1', 'star2', 'star3', 'company1',\n",
              "       'company2', 'company3', 'month', 'user_reviews', 'runtime', 'budget',\n",
              "       'metascore', 'count_videos', 'count_photos', 'trailer_duration',\n",
              "       'gross'],\n",
              "      dtype='object')"
            ]
          },
          "metadata": {},
          "execution_count": 161
        }
      ],
      "source": [
        "df_full.columns"
      ],
      "id": "QhRb6pQYl2bR"
    },
    {
      "cell_type": "code",
      "execution_count": 162,
      "metadata": {
        "colab": {
          "base_uri": "https://localhost:8080/"
        },
        "id": "yE3j_VrZl2bR",
        "outputId": "43aa288e-2812-4bfb-faa3-4df288b2cfe8"
      },
      "outputs": [
        {
          "output_type": "execute_result",
          "data": {
            "text/plain": [
              "11"
            ]
          },
          "metadata": {},
          "execution_count": 162
        }
      ],
      "source": [
        "df_full.month.isnull().sum()"
      ],
      "id": "yE3j_VrZl2bR"
    },
    {
      "cell_type": "code",
      "execution_count": 163,
      "metadata": {
        "colab": {
          "base_uri": "https://localhost:8080/"
        },
        "id": "dWOqU9zcl2bR",
        "outputId": "bd723116-b13f-4012-b362-db16eb3f63a8"
      },
      "outputs": [
        {
          "output_type": "execute_result",
          "data": {
            "text/plain": [
              "February     118\n",
              "December     108\n",
              "October      108\n",
              "January       95\n",
              "March         93\n",
              "November      78\n",
              "April         72\n",
              "September     72\n",
              "May           72\n",
              "July          64\n",
              "June          64\n",
              "August        45\n",
              "Name: month, dtype: int64"
            ]
          },
          "metadata": {},
          "execution_count": 163
        }
      ],
      "source": [
        "df_full.month.value_counts()"
      ],
      "id": "dWOqU9zcl2bR"
    },
    {
      "cell_type": "code",
      "execution_count": 164,
      "metadata": {
        "colab": {
          "base_uri": "https://localhost:8080/"
        },
        "id": "pbwenVokl2bS",
        "outputId": "864deb60-36ff-43e4-c8cf-8505f6224488"
      },
      "outputs": [
        {
          "output_type": "execute_result",
          "data": {
            "text/plain": [
              "0    February\n",
              "dtype: object"
            ]
          },
          "metadata": {},
          "execution_count": 164
        }
      ],
      "source": [
        "df_full.month.mode()"
      ],
      "id": "pbwenVokl2bS"
    },
    {
      "cell_type": "code",
      "execution_count": 165,
      "metadata": {
        "id": "JDqDkQgDl2bS"
      },
      "outputs": [],
      "source": [
        "df_full[\"month\"] = df_full[\"month\"].fillna(\"February\")"
      ],
      "id": "JDqDkQgDl2bS"
    },
    {
      "cell_type": "code",
      "execution_count": 166,
      "metadata": {
        "id": "B-W0lXFBl2bS"
      },
      "outputs": [],
      "source": [
        "df = df_full.copy()"
      ],
      "id": "B-W0lXFBl2bS"
    },
    {
      "cell_type": "code",
      "execution_count": 167,
      "metadata": {
        "colab": {
          "base_uri": "https://localhost:8080/"
        },
        "id": "1-ZKyd7vl2bS",
        "outputId": "371e79c2-68ce-4d4a-b086-5671dfacf903"
      },
      "outputs": [
        {
          "output_type": "execute_result",
          "data": {
            "text/plain": [
              "February     129\n",
              "December     108\n",
              "October      108\n",
              "January       95\n",
              "March         93\n",
              "November      78\n",
              "April         72\n",
              "September     72\n",
              "May           72\n",
              "July          64\n",
              "June          64\n",
              "August        45\n",
              "Name: month, dtype: int64"
            ]
          },
          "metadata": {},
          "execution_count": 167
        }
      ],
      "source": [
        "df.month.value_counts()"
      ],
      "id": "1-ZKyd7vl2bS"
    },
    {
      "cell_type": "code",
      "execution_count": null,
      "metadata": {
        "id": "4IZkof137C7T"
      },
      "outputs": [],
      "source": [
        "# EDA with Tableau"
      ],
      "id": "4IZkof137C7T"
    },
    {
      "cell_type": "code",
      "execution_count": 169,
      "metadata": {
        "id": "Qyid1YPWl2be",
        "scrolled": false
      },
      "outputs": [],
      "source": [
        "df_graphs=df[['gross', 'year', 'rating', 'metascore', 'count_photos', 'trailer_duration',  \n",
        "              'budget', 'user_reviews', 'runtime','critic_reviews', 'count_videos']]"
      ],
      "id": "Qyid1YPWl2be"
    },
    {
      "cell_type": "code",
      "execution_count": 170,
      "metadata": {
        "colab": {
          "base_uri": "https://localhost:8080/",
          "height": 394
        },
        "id": "NRZ7fWYQl2bf",
        "outputId": "cf9f76ac-ad50-45b3-919f-ad5db90389f0"
      },
      "outputs": [
        {
          "output_type": "execute_result",
          "data": {
            "text/html": [
              "\n",
              "  <div id=\"df-368783b8-2d1a-4ca3-bc6e-7de8fc3f813b\">\n",
              "    <div class=\"colab-df-container\">\n",
              "      <div>\n",
              "<style scoped>\n",
              "    .dataframe tbody tr th:only-of-type {\n",
              "        vertical-align: middle;\n",
              "    }\n",
              "\n",
              "    .dataframe tbody tr th {\n",
              "        vertical-align: top;\n",
              "    }\n",
              "\n",
              "    .dataframe thead th {\n",
              "        text-align: right;\n",
              "    }\n",
              "</style>\n",
              "<table border=\"1\" class=\"dataframe\">\n",
              "  <thead>\n",
              "    <tr style=\"text-align: right;\">\n",
              "      <th></th>\n",
              "      <th>gross</th>\n",
              "      <th>year</th>\n",
              "      <th>rating</th>\n",
              "      <th>metascore</th>\n",
              "      <th>count_photos</th>\n",
              "      <th>trailer_duration</th>\n",
              "      <th>budget</th>\n",
              "      <th>user_reviews</th>\n",
              "      <th>runtime</th>\n",
              "      <th>critic_reviews</th>\n",
              "      <th>count_videos</th>\n",
              "    </tr>\n",
              "  </thead>\n",
              "  <tbody>\n",
              "    <tr>\n",
              "      <th>gross</th>\n",
              "      <td>1.00</td>\n",
              "      <td>0.29</td>\n",
              "      <td>0.09</td>\n",
              "      <td>-0.09</td>\n",
              "      <td>0.20</td>\n",
              "      <td>-0.08</td>\n",
              "      <td>0.01</td>\n",
              "      <td>0.57</td>\n",
              "      <td>0.16</td>\n",
              "      <td>0.54</td>\n",
              "      <td>0.64</td>\n",
              "    </tr>\n",
              "    <tr>\n",
              "      <th>year</th>\n",
              "      <td>0.29</td>\n",
              "      <td>1.00</td>\n",
              "      <td>-0.09</td>\n",
              "      <td>-0.28</td>\n",
              "      <td>-0.13</td>\n",
              "      <td>-0.13</td>\n",
              "      <td>0.04</td>\n",
              "      <td>0.25</td>\n",
              "      <td>0.17</td>\n",
              "      <td>0.41</td>\n",
              "      <td>0.36</td>\n",
              "    </tr>\n",
              "    <tr>\n",
              "      <th>rating</th>\n",
              "      <td>0.09</td>\n",
              "      <td>-0.09</td>\n",
              "      <td>1.00</td>\n",
              "      <td>0.24</td>\n",
              "      <td>0.03</td>\n",
              "      <td>0.03</td>\n",
              "      <td>-0.03</td>\n",
              "      <td>0.38</td>\n",
              "      <td>0.25</td>\n",
              "      <td>-0.04</td>\n",
              "      <td>0.02</td>\n",
              "    </tr>\n",
              "    <tr>\n",
              "      <th>metascore</th>\n",
              "      <td>-0.09</td>\n",
              "      <td>-0.28</td>\n",
              "      <td>0.24</td>\n",
              "      <td>1.00</td>\n",
              "      <td>0.04</td>\n",
              "      <td>0.05</td>\n",
              "      <td>-0.07</td>\n",
              "      <td>-0.05</td>\n",
              "      <td>-0.02</td>\n",
              "      <td>-0.00</td>\n",
              "      <td>-0.06</td>\n",
              "    </tr>\n",
              "    <tr>\n",
              "      <th>count_photos</th>\n",
              "      <td>0.20</td>\n",
              "      <td>-0.13</td>\n",
              "      <td>0.03</td>\n",
              "      <td>0.04</td>\n",
              "      <td>1.00</td>\n",
              "      <td>0.00</td>\n",
              "      <td>0.01</td>\n",
              "      <td>0.24</td>\n",
              "      <td>-0.05</td>\n",
              "      <td>0.32</td>\n",
              "      <td>0.20</td>\n",
              "    </tr>\n",
              "    <tr>\n",
              "      <th>trailer_duration</th>\n",
              "      <td>-0.08</td>\n",
              "      <td>-0.13</td>\n",
              "      <td>0.03</td>\n",
              "      <td>0.05</td>\n",
              "      <td>0.00</td>\n",
              "      <td>1.00</td>\n",
              "      <td>0.00</td>\n",
              "      <td>-0.07</td>\n",
              "      <td>0.08</td>\n",
              "      <td>-0.09</td>\n",
              "      <td>-0.06</td>\n",
              "    </tr>\n",
              "    <tr>\n",
              "      <th>budget</th>\n",
              "      <td>0.01</td>\n",
              "      <td>0.04</td>\n",
              "      <td>-0.03</td>\n",
              "      <td>-0.07</td>\n",
              "      <td>0.01</td>\n",
              "      <td>0.00</td>\n",
              "      <td>1.00</td>\n",
              "      <td>-0.00</td>\n",
              "      <td>0.03</td>\n",
              "      <td>0.01</td>\n",
              "      <td>0.01</td>\n",
              "    </tr>\n",
              "    <tr>\n",
              "      <th>user_reviews</th>\n",
              "      <td>0.57</td>\n",
              "      <td>0.25</td>\n",
              "      <td>0.38</td>\n",
              "      <td>-0.05</td>\n",
              "      <td>0.24</td>\n",
              "      <td>-0.07</td>\n",
              "      <td>-0.00</td>\n",
              "      <td>1.00</td>\n",
              "      <td>0.22</td>\n",
              "      <td>0.50</td>\n",
              "      <td>0.50</td>\n",
              "    </tr>\n",
              "    <tr>\n",
              "      <th>runtime</th>\n",
              "      <td>0.16</td>\n",
              "      <td>0.17</td>\n",
              "      <td>0.25</td>\n",
              "      <td>-0.02</td>\n",
              "      <td>-0.05</td>\n",
              "      <td>0.08</td>\n",
              "      <td>0.03</td>\n",
              "      <td>0.22</td>\n",
              "      <td>1.00</td>\n",
              "      <td>0.03</td>\n",
              "      <td>0.08</td>\n",
              "    </tr>\n",
              "    <tr>\n",
              "      <th>critic_reviews</th>\n",
              "      <td>0.54</td>\n",
              "      <td>0.41</td>\n",
              "      <td>-0.04</td>\n",
              "      <td>-0.00</td>\n",
              "      <td>0.32</td>\n",
              "      <td>-0.09</td>\n",
              "      <td>0.01</td>\n",
              "      <td>0.50</td>\n",
              "      <td>0.03</td>\n",
              "      <td>1.00</td>\n",
              "      <td>0.66</td>\n",
              "    </tr>\n",
              "    <tr>\n",
              "      <th>count_videos</th>\n",
              "      <td>0.64</td>\n",
              "      <td>0.36</td>\n",
              "      <td>0.02</td>\n",
              "      <td>-0.06</td>\n",
              "      <td>0.20</td>\n",
              "      <td>-0.06</td>\n",
              "      <td>0.01</td>\n",
              "      <td>0.50</td>\n",
              "      <td>0.08</td>\n",
              "      <td>0.66</td>\n",
              "      <td>1.00</td>\n",
              "    </tr>\n",
              "  </tbody>\n",
              "</table>\n",
              "</div>\n",
              "      <button class=\"colab-df-convert\" onclick=\"convertToInteractive('df-368783b8-2d1a-4ca3-bc6e-7de8fc3f813b')\"\n",
              "              title=\"Convert this dataframe to an interactive table.\"\n",
              "              style=\"display:none;\">\n",
              "        \n",
              "  <svg xmlns=\"http://www.w3.org/2000/svg\" height=\"24px\"viewBox=\"0 0 24 24\"\n",
              "       width=\"24px\">\n",
              "    <path d=\"M0 0h24v24H0V0z\" fill=\"none\"/>\n",
              "    <path d=\"M18.56 5.44l.94 2.06.94-2.06 2.06-.94-2.06-.94-.94-2.06-.94 2.06-2.06.94zm-11 1L8.5 8.5l.94-2.06 2.06-.94-2.06-.94L8.5 2.5l-.94 2.06-2.06.94zm10 10l.94 2.06.94-2.06 2.06-.94-2.06-.94-.94-2.06-.94 2.06-2.06.94z\"/><path d=\"M17.41 7.96l-1.37-1.37c-.4-.4-.92-.59-1.43-.59-.52 0-1.04.2-1.43.59L10.3 9.45l-7.72 7.72c-.78.78-.78 2.05 0 2.83L4 21.41c.39.39.9.59 1.41.59.51 0 1.02-.2 1.41-.59l7.78-7.78 2.81-2.81c.8-.78.8-2.07 0-2.86zM5.41 20L4 18.59l7.72-7.72 1.47 1.35L5.41 20z\"/>\n",
              "  </svg>\n",
              "      </button>\n",
              "      \n",
              "  <style>\n",
              "    .colab-df-container {\n",
              "      display:flex;\n",
              "      flex-wrap:wrap;\n",
              "      gap: 12px;\n",
              "    }\n",
              "\n",
              "    .colab-df-convert {\n",
              "      background-color: #E8F0FE;\n",
              "      border: none;\n",
              "      border-radius: 50%;\n",
              "      cursor: pointer;\n",
              "      display: none;\n",
              "      fill: #1967D2;\n",
              "      height: 32px;\n",
              "      padding: 0 0 0 0;\n",
              "      width: 32px;\n",
              "    }\n",
              "\n",
              "    .colab-df-convert:hover {\n",
              "      background-color: #E2EBFA;\n",
              "      box-shadow: 0px 1px 2px rgba(60, 64, 67, 0.3), 0px 1px 3px 1px rgba(60, 64, 67, 0.15);\n",
              "      fill: #174EA6;\n",
              "    }\n",
              "\n",
              "    [theme=dark] .colab-df-convert {\n",
              "      background-color: #3B4455;\n",
              "      fill: #D2E3FC;\n",
              "    }\n",
              "\n",
              "    [theme=dark] .colab-df-convert:hover {\n",
              "      background-color: #434B5C;\n",
              "      box-shadow: 0px 1px 3px 1px rgba(0, 0, 0, 0.15);\n",
              "      filter: drop-shadow(0px 1px 2px rgba(0, 0, 0, 0.3));\n",
              "      fill: #FFFFFF;\n",
              "    }\n",
              "  </style>\n",
              "\n",
              "      <script>\n",
              "        const buttonEl =\n",
              "          document.querySelector('#df-368783b8-2d1a-4ca3-bc6e-7de8fc3f813b button.colab-df-convert');\n",
              "        buttonEl.style.display =\n",
              "          google.colab.kernel.accessAllowed ? 'block' : 'none';\n",
              "\n",
              "        async function convertToInteractive(key) {\n",
              "          const element = document.querySelector('#df-368783b8-2d1a-4ca3-bc6e-7de8fc3f813b');\n",
              "          const dataTable =\n",
              "            await google.colab.kernel.invokeFunction('convertToInteractive',\n",
              "                                                     [key], {});\n",
              "          if (!dataTable) return;\n",
              "\n",
              "          const docLinkHtml = 'Like what you see? Visit the ' +\n",
              "            '<a target=\"_blank\" href=https://colab.research.google.com/notebooks/data_table.ipynb>data table notebook</a>'\n",
              "            + ' to learn more about interactive tables.';\n",
              "          element.innerHTML = '';\n",
              "          dataTable['output_type'] = 'display_data';\n",
              "          await google.colab.output.renderOutput(dataTable, element);\n",
              "          const docLink = document.createElement('div');\n",
              "          docLink.innerHTML = docLinkHtml;\n",
              "          element.appendChild(docLink);\n",
              "        }\n",
              "      </script>\n",
              "    </div>\n",
              "  </div>\n",
              "  "
            ],
            "text/plain": [
              "                  gross  year  rating  ...  runtime  critic_reviews  count_videos\n",
              "gross              1.00  0.29    0.09  ...     0.16            0.54          0.64\n",
              "year               0.29  1.00   -0.09  ...     0.17            0.41          0.36\n",
              "rating             0.09 -0.09    1.00  ...     0.25           -0.04          0.02\n",
              "metascore         -0.09 -0.28    0.24  ...    -0.02           -0.00         -0.06\n",
              "count_photos       0.20 -0.13    0.03  ...    -0.05            0.32          0.20\n",
              "trailer_duration  -0.08 -0.13    0.03  ...     0.08           -0.09         -0.06\n",
              "budget             0.01  0.04   -0.03  ...     0.03            0.01          0.01\n",
              "user_reviews       0.57  0.25    0.38  ...     0.22            0.50          0.50\n",
              "runtime            0.16  0.17    0.25  ...     1.00            0.03          0.08\n",
              "critic_reviews     0.54  0.41   -0.04  ...     0.03            1.00          0.66\n",
              "count_videos       0.64  0.36    0.02  ...     0.08            0.66          1.00\n",
              "\n",
              "[11 rows x 11 columns]"
            ]
          },
          "metadata": {},
          "execution_count": 170
        }
      ],
      "source": [
        "df_graphs.corr()"
      ],
      "id": "NRZ7fWYQl2bf"
    },
    {
      "cell_type": "code",
      "execution_count": 171,
      "metadata": {
        "colab": {
          "base_uri": "https://localhost:8080/",
          "height": 749
        },
        "collapsed": true,
        "id": "z9Ar9yP4l2bf",
        "outputId": "80c887af-9aaa-4e01-86ea-570c5d8d4e4c"
      },
      "outputs": [
        {
          "output_type": "display_data",
          "data": {
            "image/png": "[encoded data removed]",
            "text/plain": [
              "<Figure size 1440x720 with 2 Axes>"
            ]
          },
          "metadata": {
            "needs_background": "light"
          }
        }
      ],
      "source": [
        "plt.figure(dpi = 120, figsize= (12,6))\n",
        "mask = np.triu(np.ones_like(df_graphs.corr(),dtype = bool))\n",
        "ax = sns.heatmap(df_graphs.corr(), mask = mask, fmt = \".2f\", \n",
        "                 annot=True, lw=1, \n",
        "                 linewidths=0.5)\n",
        "plt.yticks(rotation = 0)\n",
        "plt.xticks(rotation = 90)\n",
        "plt.title('Correlation Heatmap')\n",
        "ax.set_ylim(11, 0)\n",
        "plt.show()"
      ],
      "id": "z9Ar9yP4l2bf"
    },
    {
      "cell_type": "markdown",
      "metadata": {
        "id": "fJNNax8cl2bh"
      },
      "source": [
        "# Feature Engineering"
      ],
      "id": "fJNNax8cl2bh"
    },
    {
      "cell_type": "code",
      "execution_count": null,
      "metadata": {
        "id": "gHH93PfAl2bh",
        "outputId": "e3a6b686-2e4b-45a4-8abe-4fa22128c796"
      },
      "outputs": [
        {
          "data": {
            "text/html": [
              "<div>\n",
              "<style scoped>\n",
              "    .dataframe tbody tr th:only-of-type {\n",
              "        vertical-align: middle;\n",
              "    }\n",
              "\n",
              "    .dataframe tbody tr th {\n",
              "        vertical-align: top;\n",
              "    }\n",
              "\n",
              "    .dataframe thead th {\n",
              "        text-align: right;\n",
              "    }\n",
              "</style>\n",
              "<table border=\"1\" class=\"dataframe\">\n",
              "  <thead>\n",
              "    <tr style=\"text-align: right;\">\n",
              "      <th></th>\n",
              "      <th>name</th>\n",
              "      <th>year</th>\n",
              "      <th>genre1</th>\n",
              "      <th>genre2</th>\n",
              "      <th>genre3</th>\n",
              "      <th>rating</th>\n",
              "      <th>critic_reviews</th>\n",
              "      <th>director</th>\n",
              "      <th>star1</th>\n",
              "      <th>star2</th>\n",
              "      <th>star3</th>\n",
              "      <th>company1</th>\n",
              "      <th>company2</th>\n",
              "      <th>company3</th>\n",
              "      <th>month</th>\n",
              "      <th>user_reviews</th>\n",
              "      <th>runtime</th>\n",
              "      <th>budget</th>\n",
              "      <th>metascore</th>\n",
              "      <th>count_videos</th>\n",
              "      <th>count_photos</th>\n",
              "      <th>trailer_duration</th>\n",
              "      <th>gross</th>\n",
              "    </tr>\n",
              "  </thead>\n",
              "  <tbody>\n",
              "    <tr>\n",
              "      <td>0</td>\n",
              "      <td>The Shawshank Redemption</td>\n",
              "      <td>1994</td>\n",
              "      <td>Drama</td>\n",
              "      <td>-</td>\n",
              "      <td>-</td>\n",
              "      <td>9.30</td>\n",
              "      <td>190</td>\n",
              "      <td>Frank Darabont</td>\n",
              "      <td>Tim Robbins</td>\n",
              "      <td>Morgan Freeman</td>\n",
              "      <td>Bob Gunton</td>\n",
              "      <td>Castle Rock Entertainment</td>\n",
              "      <td>-</td>\n",
              "      <td>-</td>\n",
              "      <td>March</td>\n",
              "      <td>9700.00</td>\n",
              "      <td>142.00</td>\n",
              "      <td>25000000.00</td>\n",
              "      <td>80.00</td>\n",
              "      <td>5.00</td>\n",
              "      <td>99.00</td>\n",
              "      <td>131.00</td>\n",
              "      <td>28817291.00</td>\n",
              "    </tr>\n",
              "    <tr>\n",
              "      <td>1</td>\n",
              "      <td>The Dark Knight</td>\n",
              "      <td>2008</td>\n",
              "      <td>Action</td>\n",
              "      <td>Crime</td>\n",
              "      <td>Drama</td>\n",
              "      <td>9.00</td>\n",
              "      <td>428</td>\n",
              "      <td>Christopher Nolan</td>\n",
              "      <td>Christian Bale</td>\n",
              "      <td>Heath Ledger</td>\n",
              "      <td>Aaron Eckhart</td>\n",
              "      <td>Warner Bros.</td>\n",
              "      <td>Legendary Entertainment</td>\n",
              "      <td>Syncopy</td>\n",
              "      <td>July</td>\n",
              "      <td>7700.00</td>\n",
              "      <td>152.00</td>\n",
              "      <td>185000000.00</td>\n",
              "      <td>84.00</td>\n",
              "      <td>31.00</td>\n",
              "      <td>99.00</td>\n",
              "      <td>33.00</td>\n",
              "      <td>1005973645.00</td>\n",
              "    </tr>\n",
              "    <tr>\n",
              "      <td>2</td>\n",
              "      <td>Inception</td>\n",
              "      <td>2010</td>\n",
              "      <td>Action</td>\n",
              "      <td>Adventure</td>\n",
              "      <td>Sci-Fi</td>\n",
              "      <td>8.80</td>\n",
              "      <td>479</td>\n",
              "      <td>Christopher Nolan</td>\n",
              "      <td>Leonardo DiCaprio</td>\n",
              "      <td>Joseph Gordon-Levitt</td>\n",
              "      <td>Elliot Page</td>\n",
              "      <td>Warner Bros.</td>\n",
              "      <td>Legendary Entertainment</td>\n",
              "      <td>Syncopy</td>\n",
              "      <td>July</td>\n",
              "      <td>4400.00</td>\n",
              "      <td>148.00</td>\n",
              "      <td>160000000.00</td>\n",
              "      <td>74.00</td>\n",
              "      <td>27.00</td>\n",
              "      <td>99.00</td>\n",
              "      <td>105.00</td>\n",
              "      <td>836836967.00</td>\n",
              "    </tr>\n",
              "    <tr>\n",
              "      <td>3</td>\n",
              "      <td>Fight Club</td>\n",
              "      <td>1999</td>\n",
              "      <td>Drama</td>\n",
              "      <td>-</td>\n",
              "      <td>-</td>\n",
              "      <td>8.80</td>\n",
              "      <td>366</td>\n",
              "      <td>David Fincher</td>\n",
              "      <td>Brad Pitt</td>\n",
              "      <td>Edward Norton</td>\n",
              "      <td>Meat Loaf</td>\n",
              "      <td>Fox 2000 Pictures</td>\n",
              "      <td>New Regency Productions</td>\n",
              "      <td>Linson Films</td>\n",
              "      <td>December</td>\n",
              "      <td>4100.00</td>\n",
              "      <td>139.00</td>\n",
              "      <td>63000000.00</td>\n",
              "      <td>66.00</td>\n",
              "      <td>8.00</td>\n",
              "      <td>99.00</td>\n",
              "      <td>120.00</td>\n",
              "      <td>101209702.00</td>\n",
              "    </tr>\n",
              "    <tr>\n",
              "      <td>4</td>\n",
              "      <td>Forrest Gump</td>\n",
              "      <td>1994</td>\n",
              "      <td>Drama</td>\n",
              "      <td>Romance</td>\n",
              "      <td>-</td>\n",
              "      <td>8.80</td>\n",
              "      <td>165</td>\n",
              "      <td>Robert Zemeckis</td>\n",
              "      <td>Tom Hanks</td>\n",
              "      <td>Robin Wright</td>\n",
              "      <td>Gary Sinise</td>\n",
              "      <td>Paramount Pictures</td>\n",
              "      <td>The Steve Tisch Company</td>\n",
              "      <td>Wendy Finerman Productions</td>\n",
              "      <td>November</td>\n",
              "      <td>2800.00</td>\n",
              "      <td>142.00</td>\n",
              "      <td>55000000.00</td>\n",
              "      <td>82.00</td>\n",
              "      <td>12.00</td>\n",
              "      <td>99.00</td>\n",
              "      <td>234.00</td>\n",
              "      <td>678226133.00</td>\n",
              "    </tr>\n",
              "  </tbody>\n",
              "</table>\n",
              "</div>"
            ],
            "text/plain": [
              "                       name  year  genre1     genre2  genre3  rating  \\\n",
              "0  The Shawshank Redemption  1994   Drama          -       -    9.30   \n",
              "1           The Dark Knight  2008  Action      Crime   Drama    9.00   \n",
              "2                 Inception  2010  Action  Adventure  Sci-Fi    8.80   \n",
              "3                Fight Club  1999   Drama          -       -    8.80   \n",
              "4              Forrest Gump  1994   Drama    Romance       -    8.80   \n",
              "\n",
              "   critic_reviews           director              star1                 star2  \\\n",
              "0             190     Frank Darabont        Tim Robbins        Morgan Freeman   \n",
              "1             428  Christopher Nolan     Christian Bale          Heath Ledger   \n",
              "2             479  Christopher Nolan  Leonardo DiCaprio  Joseph Gordon-Levitt   \n",
              "3             366      David Fincher          Brad Pitt         Edward Norton   \n",
              "4             165    Robert Zemeckis          Tom Hanks          Robin Wright   \n",
              "\n",
              "           star3                   company1                 company2  \\\n",
              "0     Bob Gunton  Castle Rock Entertainment                        -   \n",
              "1  Aaron Eckhart               Warner Bros.  Legendary Entertainment   \n",
              "2    Elliot Page               Warner Bros.  Legendary Entertainment   \n",
              "3      Meat Loaf          Fox 2000 Pictures  New Regency Productions   \n",
              "4    Gary Sinise         Paramount Pictures  The Steve Tisch Company   \n",
              "\n",
              "                     company3     month  user_reviews  runtime       budget  \\\n",
              "0                           -     March       9700.00   142.00  25000000.00   \n",
              "1                     Syncopy      July       7700.00   152.00 185000000.00   \n",
              "2                     Syncopy      July       4400.00   148.00 160000000.00   \n",
              "3                Linson Films  December       4100.00   139.00  63000000.00   \n",
              "4  Wendy Finerman Productions  November       2800.00   142.00  55000000.00   \n",
              "\n",
              "   metascore  count_videos  count_photos  trailer_duration         gross  \n",
              "0      80.00          5.00         99.00            131.00   28817291.00  \n",
              "1      84.00         31.00         99.00             33.00 1005973645.00  \n",
              "2      74.00         27.00         99.00            105.00  836836967.00  \n",
              "3      66.00          8.00         99.00            120.00  101209702.00  \n",
              "4      82.00         12.00         99.00            234.00  678226133.00  "
            ]
          },
          "execution_count": 709,
          "metadata": {},
          "output_type": "execute_result"
        }
      ],
      "source": [
        "df.head()"
      ],
      "id": "gHH93PfAl2bh"
    },
    {
      "cell_type": "code",
      "execution_count": 172,
      "metadata": {
        "id": "iClRjfi4s0Kp"
      },
      "outputs": [],
      "source": [
        "sumgrossbystars = df.groupby([\"star1\"])[[\"gross\"]].sum().sort_values(by=\"gross\", ascending=False)"
      ],
      "id": "iClRjfi4s0Kp"
    },
    {
      "cell_type": "code",
      "execution_count": 173,
      "metadata": {
        "id": "Obfilgrkg-eF"
      },
      "outputs": [],
      "source": [
        "sumgrossbystars.loc[(sumgrossbystars[\"gross\"] > 2991216079.00), \"star_new\"] = 8 #\"top\"\n",
        "sumgrossbystars.loc[(sumgrossbystars[\"gross\"] > 959007513.00) & (sumgrossbystars[\"gross\"] <= 2991216079.00), \"star_new\"] = 7 #\"very high\"\n",
        "sumgrossbystars.loc[(sumgrossbystars[\"gross\"] > 329803958.00) & (sumgrossbystars[\"gross\"] <= 959007513.00), \"star_new\"] = 6 #\"high\"\n",
        "sumgrossbystars.loc[(sumgrossbystars[\"gross\"] > 221301809.00) & (sumgrossbystars[\"gross\"] <= 329803958), \"star_new\"] = 5 #\"above average\"\n",
        "sumgrossbystars.loc[(sumgrossbystars[\"gross\"] > 187733202.00) & (sumgrossbystars[\"gross\"] <= 221301809.00), \"star_new\"] = 4 #\"average\"\n",
        "sumgrossbystars.loc[(sumgrossbystars[\"gross\"] > 98467863.00) & (sumgrossbystars[\"gross\"] <= 187733202.00), \"star_new\"] = 3 #\"below average\"\n",
        "sumgrossbystars.loc[(sumgrossbystars[\"gross\"] > 49396747.00) & (sumgrossbystars[\"gross\"] <= 98467863.00), \"star_new\"] = 2 #\"low\"\n",
        "sumgrossbystars.loc[(sumgrossbystars[\"gross\"] > 968318.00) & (sumgrossbystars[\"gross\"] <= 49396747.00 ), \"star_new\"] = 1 #\"very low\"\n",
        "sumgrossbystars.loc[(sumgrossbystars[\"gross\"] <= 968318.00), \"star_new\"] = 0 #\"lowest\""
      ],
      "id": "Obfilgrkg-eF"
    },
    {
      "cell_type": "code",
      "execution_count": 174,
      "metadata": {
        "id": "D6Z1bms_-fZp"
      },
      "outputs": [],
      "source": [
        "sumgrossbydir = df.groupby([\"director\"])[[\"gross\"]].sum().sort_values(by=\"gross\", ascending=False)"
      ],
      "id": "D6Z1bms_-fZp"
    },
    {
      "cell_type": "code",
      "execution_count": 175,
      "metadata": {
        "id": "5ehRSeRGzSil"
      },
      "outputs": [],
      "source": [
        "sumgrossbydir.loc[(sumgrossbydir[\"gross\"] > 2521602469.00), \"director_new\"] = 8\n",
        "sumgrossbydir.loc[(sumgrossbydir[\"gross\"] > 968234846.00) & (sumgrossbydir[\"gross\"] <= 2521602469.00), \"director_new\"] = 7\n",
        "sumgrossbydir.loc[(sumgrossbydir[\"gross\"] > 499978317.00) & (sumgrossbydir[\"gross\"] <= 968234846.00), \"director_new\"] = 6\n",
        "sumgrossbydir.loc[(sumgrossbydir[\"gross\"] > 339593416.00) & (sumgrossbydir[\"gross\"] <= 499978317), \"director_new\"] = 5\n",
        "sumgrossbydir.loc[(sumgrossbydir[\"gross\"] > 136771683.00) & (sumgrossbydir[\"gross\"] <= 339593416.00), \"director_new\"] = 4\n",
        "sumgrossbydir.loc[(sumgrossbydir[\"gross\"] > 98410061.00) & (sumgrossbydir[\"gross\"] <= 136771683.00), \"director_new\"] = 3\n",
        "sumgrossbydir.loc[(sumgrossbydir[\"gross\"] > 49074379.00) & (sumgrossbydir[\"gross\"] <= 98410061.00), \"director_new\"] = 2\n",
        "sumgrossbydir.loc[(sumgrossbydir[\"gross\"] > 981521.00) & (sumgrossbydir[\"gross\"] <= 49074379.00 ), \"director_new\"] = 1\n",
        "sumgrossbydir.loc[(sumgrossbydir[\"gross\"] <= 981521.00), \"director_new\"] = 0"
      ],
      "id": "5ehRSeRGzSil"
    },
    {
      "cell_type": "code",
      "execution_count": 176,
      "metadata": {
        "id": "3zuHEzQqn8cD"
      },
      "outputs": [],
      "source": [
        "sumgrossbycomp = df.groupby([\"company1\"])[[\"gross\"]].sum().sort_values(by=\"gross\", ascending=False)"
      ],
      "id": "3zuHEzQqn8cD"
    },
    {
      "cell_type": "code",
      "execution_count": 177,
      "metadata": {
        "id": "lMZbChpzn8cE"
      },
      "outputs": [],
      "source": [
        "sumgrossbycomp.loc[(sumgrossbycomp[\"gross\"] > 9155120291.00), \"company_new\"] = 8\n",
        "sumgrossbycomp.loc[(sumgrossbycomp[\"gross\"] > 991010833.00) & (sumgrossbycomp[\"gross\"] <= 9155120291.00), \"company_new\"] = 7\n",
        "sumgrossbycomp.loc[(sumgrossbycomp[\"gross\"] > 486590368.00) & (sumgrossbycomp[\"gross\"] <= 991010833.00), \"company_new\"] = 6\n",
        "sumgrossbycomp.loc[(sumgrossbycomp[\"gross\"] > 287544367.00) & (sumgrossbycomp[\"gross\"] <= 486590368), \"company_new\"] = 5\n",
        "sumgrossbycomp.loc[(sumgrossbycomp[\"gross\"] > 209947037.00) & (sumgrossbycomp[\"gross\"] <= 287544367.00), \"company_new\"] = 4\n",
        "sumgrossbycomp.loc[(sumgrossbycomp[\"gross\"] > 99335061.00) & (sumgrossbycomp[\"gross\"] <= 209947037.00), \"company_new\"] = 3\n",
        "sumgrossbycomp.loc[(sumgrossbycomp[\"gross\"] > 19780116.00) & (sumgrossbycomp[\"gross\"] <= 99335061.00), \"company_new\"] = 2\n",
        "sumgrossbycomp.loc[(sumgrossbycomp[\"gross\"] > 968853.00) & (sumgrossbycomp[\"gross\"] <= 19780116.00 ), \"company_new\"] = 1\n",
        "sumgrossbycomp.loc[(sumgrossbycomp[\"gross\"] <= 968853.00), \"company_new\"] = 0"
      ],
      "id": "lMZbChpzn8cE"
    },
    {
      "cell_type": "code",
      "execution_count": 178,
      "metadata": {
        "id": "cBBZSxkizSn_"
      },
      "outputs": [],
      "source": [
        "df = pd.merge(df,sumgrossbystars, on = [\"star1\"], how = \"left\" )"
      ],
      "id": "cBBZSxkizSn_"
    },
    {
      "cell_type": "code",
      "execution_count": 179,
      "metadata": {
        "id": "qhCrYmjqn8cF"
      },
      "outputs": [],
      "source": [
        "df= pd.merge(df, sumgrossbydir, on = \"director\", how = \"left\")"
      ],
      "id": "qhCrYmjqn8cF"
    },
    {
      "cell_type": "code",
      "execution_count": 180,
      "metadata": {
        "id": "TxubV6Skn8cF"
      },
      "outputs": [],
      "source": [
        "df.drop([\"gross_y\", \"gross\"], axis = 1, inplace = True)"
      ],
      "id": "TxubV6Skn8cF"
    },
    {
      "cell_type": "code",
      "execution_count": 181,
      "metadata": {
        "id": "iGdG39Pcn8cF"
      },
      "outputs": [],
      "source": [
        "df = pd.merge(df, sumgrossbycomp, on = \"company1\", how = \"left\")"
      ],
      "id": "iGdG39Pcn8cF"
    },
    {
      "cell_type": "code",
      "execution_count": 182,
      "metadata": {
        "id": "P_yx-2JKn8cF"
      },
      "outputs": [],
      "source": [
        "df.drop([\"gross\"], axis = 1, inplace = True)"
      ],
      "id": "P_yx-2JKn8cF"
    },
    {
      "cell_type": "code",
      "execution_count": 184,
      "metadata": {
        "id": "U-KcR2Tsn8cG"
      },
      "outputs": [],
      "source": [
        "df1 = df.drop([\"genre2\", \"genre3\", \"star1\", \"star2\", \"star3\", \"company1\", \"company2\", \"company3\", \"director\"], axis=1)"
      ],
      "id": "U-KcR2Tsn8cG"
    },
    {
      "cell_type": "code",
      "execution_count": 185,
      "metadata": {
        "colab": {
          "base_uri": "https://localhost:8080/",
          "height": 206
        },
        "id": "kPMGRYC2n8cG",
        "outputId": "9b23a82f-612e-4529-9e5c-016a514ce410"
      },
      "outputs": [
        {
          "output_type": "execute_result",
          "data": {
            "text/html": [
              "\n",
              "  <div id=\"df-543ca930-b2c5-427f-b654-ec4fdf7b1668\">\n",
              "    <div class=\"colab-df-container\">\n",
              "      <div>\n",
              "<style scoped>\n",
              "    .dataframe tbody tr th:only-of-type {\n",
              "        vertical-align: middle;\n",
              "    }\n",
              "\n",
              "    .dataframe tbody tr th {\n",
              "        vertical-align: top;\n",
              "    }\n",
              "\n",
              "    .dataframe thead th {\n",
              "        text-align: right;\n",
              "    }\n",
              "</style>\n",
              "<table border=\"1\" class=\"dataframe\">\n",
              "  <thead>\n",
              "    <tr style=\"text-align: right;\">\n",
              "      <th></th>\n",
              "      <th>name</th>\n",
              "      <th>year</th>\n",
              "      <th>genre1</th>\n",
              "      <th>rating</th>\n",
              "      <th>critic_reviews</th>\n",
              "      <th>month</th>\n",
              "      <th>user_reviews</th>\n",
              "      <th>runtime</th>\n",
              "      <th>budget</th>\n",
              "      <th>metascore</th>\n",
              "      <th>count_videos</th>\n",
              "      <th>count_photos</th>\n",
              "      <th>trailer_duration</th>\n",
              "      <th>gross_x</th>\n",
              "      <th>star_new</th>\n",
              "      <th>director_new</th>\n",
              "      <th>company_new</th>\n",
              "    </tr>\n",
              "  </thead>\n",
              "  <tbody>\n",
              "    <tr>\n",
              "      <th>0</th>\n",
              "      <td>The Shawshank Redemption</td>\n",
              "      <td>1994</td>\n",
              "      <td>Drama</td>\n",
              "      <td>9.30</td>\n",
              "      <td>190</td>\n",
              "      <td>March</td>\n",
              "      <td>9700.00</td>\n",
              "      <td>142.00</td>\n",
              "      <td>25000000.00</td>\n",
              "      <td>80.00</td>\n",
              "      <td>5.00</td>\n",
              "      <td>99.00</td>\n",
              "      <td>131.00</td>\n",
              "      <td>28817291.00</td>\n",
              "      <td>1.00</td>\n",
              "      <td>4.00</td>\n",
              "      <td>5.00</td>\n",
              "    </tr>\n",
              "    <tr>\n",
              "      <th>1</th>\n",
              "      <td>The Dark Knight</td>\n",
              "      <td>2008</td>\n",
              "      <td>Action</td>\n",
              "      <td>9.00</td>\n",
              "      <td>428</td>\n",
              "      <td>July</td>\n",
              "      <td>7700.00</td>\n",
              "      <td>152.00</td>\n",
              "      <td>185000000.00</td>\n",
              "      <td>84.00</td>\n",
              "      <td>31.00</td>\n",
              "      <td>99.00</td>\n",
              "      <td>33.00</td>\n",
              "      <td>1005973645.00</td>\n",
              "      <td>7.00</td>\n",
              "      <td>8.00</td>\n",
              "      <td>8.00</td>\n",
              "    </tr>\n",
              "    <tr>\n",
              "      <th>2</th>\n",
              "      <td>Inception</td>\n",
              "      <td>2010</td>\n",
              "      <td>Action</td>\n",
              "      <td>8.80</td>\n",
              "      <td>479</td>\n",
              "      <td>July</td>\n",
              "      <td>4400.00</td>\n",
              "      <td>148.00</td>\n",
              "      <td>160000000.00</td>\n",
              "      <td>74.00</td>\n",
              "      <td>27.00</td>\n",
              "      <td>99.00</td>\n",
              "      <td>105.00</td>\n",
              "      <td>836836967.00</td>\n",
              "      <td>8.00</td>\n",
              "      <td>8.00</td>\n",
              "      <td>8.00</td>\n",
              "    </tr>\n",
              "    <tr>\n",
              "      <th>3</th>\n",
              "      <td>Fight Club</td>\n",
              "      <td>1999</td>\n",
              "      <td>Drama</td>\n",
              "      <td>8.80</td>\n",
              "      <td>366</td>\n",
              "      <td>December</td>\n",
              "      <td>4100.00</td>\n",
              "      <td>139.00</td>\n",
              "      <td>63000000.00</td>\n",
              "      <td>66.00</td>\n",
              "      <td>8.00</td>\n",
              "      <td>99.00</td>\n",
              "      <td>120.00</td>\n",
              "      <td>101209702.00</td>\n",
              "      <td>6.00</td>\n",
              "      <td>7.00</td>\n",
              "      <td>7.00</td>\n",
              "    </tr>\n",
              "    <tr>\n",
              "      <th>4</th>\n",
              "      <td>Forrest Gump</td>\n",
              "      <td>1994</td>\n",
              "      <td>Drama</td>\n",
              "      <td>8.80</td>\n",
              "      <td>165</td>\n",
              "      <td>November</td>\n",
              "      <td>2800.00</td>\n",
              "      <td>142.00</td>\n",
              "      <td>55000000.00</td>\n",
              "      <td>82.00</td>\n",
              "      <td>12.00</td>\n",
              "      <td>99.00</td>\n",
              "      <td>234.00</td>\n",
              "      <td>678226133.00</td>\n",
              "      <td>8.00</td>\n",
              "      <td>7.00</td>\n",
              "      <td>7.00</td>\n",
              "    </tr>\n",
              "  </tbody>\n",
              "</table>\n",
              "</div>\n",
              "      <button class=\"colab-df-convert\" onclick=\"convertToInteractive('df-543ca930-b2c5-427f-b654-ec4fdf7b1668')\"\n",
              "              title=\"Convert this dataframe to an interactive table.\"\n",
              "              style=\"display:none;\">\n",
              "        \n",
              "  <svg xmlns=\"http://www.w3.org/2000/svg\" height=\"24px\"viewBox=\"0 0 24 24\"\n",
              "       width=\"24px\">\n",
              "    <path d=\"M0 0h24v24H0V0z\" fill=\"none\"/>\n",
              "    <path d=\"M18.56 5.44l.94 2.06.94-2.06 2.06-.94-2.06-.94-.94-2.06-.94 2.06-2.06.94zm-11 1L8.5 8.5l.94-2.06 2.06-.94-2.06-.94L8.5 2.5l-.94 2.06-2.06.94zm10 10l.94 2.06.94-2.06 2.06-.94-2.06-.94-.94-2.06-.94 2.06-2.06.94z\"/><path d=\"M17.41 7.96l-1.37-1.37c-.4-.4-.92-.59-1.43-.59-.52 0-1.04.2-1.43.59L10.3 9.45l-7.72 7.72c-.78.78-.78 2.05 0 2.83L4 21.41c.39.39.9.59 1.41.59.51 0 1.02-.2 1.41-.59l7.78-7.78 2.81-2.81c.8-.78.8-2.07 0-2.86zM5.41 20L4 18.59l7.72-7.72 1.47 1.35L5.41 20z\"/>\n",
              "  </svg>\n",
              "      </button>\n",
              "      \n",
              "  <style>\n",
              "    .colab-df-container {\n",
              "      display:flex;\n",
              "      flex-wrap:wrap;\n",
              "      gap: 12px;\n",
              "    }\n",
              "\n",
              "    .colab-df-convert {\n",
              "      background-color: #E8F0FE;\n",
              "      border: none;\n",
              "      border-radius: 50%;\n",
              "      cursor: pointer;\n",
              "      display: none;\n",
              "      fill: #1967D2;\n",
              "      height: 32px;\n",
              "      padding: 0 0 0 0;\n",
              "      width: 32px;\n",
              "    }\n",
              "\n",
              "    .colab-df-convert:hover {\n",
              "      background-color: #E2EBFA;\n",
              "      box-shadow: 0px 1px 2px rgba(60, 64, 67, 0.3), 0px 1px 3px 1px rgba(60, 64, 67, 0.15);\n",
              "      fill: #174EA6;\n",
              "    }\n",
              "\n",
              "    [theme=dark] .colab-df-convert {\n",
              "      background-color: #3B4455;\n",
              "      fill: #D2E3FC;\n",
              "    }\n",
              "\n",
              "    [theme=dark] .colab-df-convert:hover {\n",
              "      background-color: #434B5C;\n",
              "      box-shadow: 0px 1px 3px 1px rgba(0, 0, 0, 0.15);\n",
              "      filter: drop-shadow(0px 1px 2px rgba(0, 0, 0, 0.3));\n",
              "      fill: #FFFFFF;\n",
              "    }\n",
              "  </style>\n",
              "\n",
              "      <script>\n",
              "        const buttonEl =\n",
              "          document.querySelector('#df-543ca930-b2c5-427f-b654-ec4fdf7b1668 button.colab-df-convert');\n",
              "        buttonEl.style.display =\n",
              "          google.colab.kernel.accessAllowed ? 'block' : 'none';\n",
              "\n",
              "        async function convertToInteractive(key) {\n",
              "          const element = document.querySelector('#df-543ca930-b2c5-427f-b654-ec4fdf7b1668');\n",
              "          const dataTable =\n",
              "            await google.colab.kernel.invokeFunction('convertToInteractive',\n",
              "                                                     [key], {});\n",
              "          if (!dataTable) return;\n",
              "\n",
              "          const docLinkHtml = 'Like what you see? Visit the ' +\n",
              "            '<a target=\"_blank\" href=https://colab.research.google.com/notebooks/data_table.ipynb>data table notebook</a>'\n",
              "            + ' to learn more about interactive tables.';\n",
              "          element.innerHTML = '';\n",
              "          dataTable['output_type'] = 'display_data';\n",
              "          await google.colab.output.renderOutput(dataTable, element);\n",
              "          const docLink = document.createElement('div');\n",
              "          docLink.innerHTML = docLinkHtml;\n",
              "          element.appendChild(docLink);\n",
              "        }\n",
              "      </script>\n",
              "    </div>\n",
              "  </div>\n",
              "  "
            ],
            "text/plain": [
              "                       name  year  genre1  ...  star_new  director_new company_new\n",
              "0  The Shawshank Redemption  1994   Drama  ...      1.00          4.00        5.00\n",
              "1           The Dark Knight  2008  Action  ...      7.00          8.00        8.00\n",
              "2                 Inception  2010  Action  ...      8.00          8.00        8.00\n",
              "3                Fight Club  1999   Drama  ...      6.00          7.00        7.00\n",
              "4              Forrest Gump  1994   Drama  ...      8.00          7.00        7.00\n",
              "\n",
              "[5 rows x 17 columns]"
            ]
          },
          "metadata": {},
          "execution_count": 185
        }
      ],
      "source": [
        "df1.head()"
      ],
      "id": "kPMGRYC2n8cG"
    },
    {
      "cell_type": "code",
      "execution_count": 186,
      "metadata": {
        "id": "F5ouEdZwn8cH"
      },
      "outputs": [],
      "source": [
        "data = df1.copy()"
      ],
      "id": "F5ouEdZwn8cH"
    },
    {
      "cell_type": "code",
      "execution_count": 188,
      "metadata": {
        "colab": {
          "base_uri": "https://localhost:8080/"
        },
        "id": "IJ6WnS3Hn8cH",
        "outputId": "a8185270-e41a-4234-cdbd-96b3a8934280"
      },
      "outputs": [
        {
          "output_type": "execute_result",
          "data": {
            "text/plain": [
              "9.40      1\n",
              "9.30      1\n",
              "9.20      1\n",
              "9.10      1\n",
              "9.00      3\n",
              "8.90      4\n",
              "8.80      7\n",
              "8.70      6\n",
              "8.60     14\n",
              "8.50     21\n",
              "8.40     31\n",
              "8.30     45\n",
              "8.20     71\n",
              "8.10    140\n",
              "8.00    141\n",
              "7.90    113\n",
              "7.80    148\n",
              "7.70    163\n",
              "7.60     89\n",
              "Name: rating, dtype: int64"
            ]
          },
          "metadata": {},
          "execution_count": 188
        }
      ],
      "source": [
        "data.rating.value_counts().sort_index(ascending=False)"
      ],
      "id": "IJ6WnS3Hn8cH"
    },
    {
      "cell_type": "code",
      "execution_count": 189,
      "metadata": {
        "id": "U0zBFbxJn8cH"
      },
      "outputs": [],
      "source": [
        "data.loc[(data[\"rating\"] > 8.90), \"rating_new\"] = 2 #\"very high\"\n",
        "data.loc[(data[\"rating\"] > 7.90) & (data[\"rating\"] <= 8.90), \"rating_new\"] = 1 #\"high\"\n",
        "data.loc[(data[\"rating\"] > 7.50) & (data[\"rating\"] <= 7.90), \"rating_new\"] = 0"
      ],
      "id": "U0zBFbxJn8cH"
    },
    {
      "cell_type": "code",
      "execution_count": 190,
      "metadata": {
        "scrolled": true,
        "colab": {
          "base_uri": "https://localhost:8080/"
        },
        "id": "yQajvWXKn8cH",
        "outputId": "512e5ee0-475d-4cbe-83f5-9b21fd06c756"
      },
      "outputs": [
        {
          "output_type": "execute_result",
          "data": {
            "text/plain": [
              "906    1\n",
              "833    1\n",
              "783    1\n",
              "746    1\n",
              "733    1\n",
              "      ..\n",
              "12     2\n",
              "10     1\n",
              "7      4\n",
              "5      2\n",
              "4      1\n",
              "Name: critic_reviews, Length: 409, dtype: int64"
            ]
          },
          "metadata": {},
          "execution_count": 190
        }
      ],
      "source": [
        "data.critic_reviews.value_counts().sort_index(ascending=False)"
      ],
      "id": "yQajvWXKn8cH"
    },
    {
      "cell_type": "code",
      "execution_count": 191,
      "metadata": {
        "colab": {
          "base_uri": "https://localhost:8080/"
        },
        "id": "P0ExFLRrn8cI",
        "outputId": "3237b4af-3ca2-4f43-f2a7-ac0050a5a0be"
      },
      "outputs": [
        {
          "output_type": "execute_result",
          "data": {
            "text/plain": [
              "0      (3.098, 229.5]\n",
              "1      (229.5, 455.0]\n",
              "2      (455.0, 680.5]\n",
              "3      (229.5, 455.0]\n",
              "4      (3.098, 229.5]\n",
              "            ...      \n",
              "995    (3.098, 229.5]\n",
              "996    (3.098, 229.5]\n",
              "997    (3.098, 229.5]\n",
              "998    (3.098, 229.5]\n",
              "999    (3.098, 229.5]\n",
              "Name: critic_reviews, Length: 1000, dtype: category\n",
              "Categories (4, interval[float64, right]): [(3.098, 229.5] < (229.5, 455.0] < (455.0, 680.5] <\n",
              "                                           (680.5, 906.0]]"
            ]
          },
          "metadata": {},
          "execution_count": 191
        }
      ],
      "source": [
        "pd.cut(data.critic_reviews, bins=4, right=True)"
      ],
      "id": "P0ExFLRrn8cI"
    },
    {
      "cell_type": "code",
      "execution_count": 192,
      "metadata": {
        "id": "gOwnklX6n8cI"
      },
      "outputs": [],
      "source": [
        "data.loc[(data[\"critic_reviews\"] > 680.5) & (data[\"critic_reviews\"] <= 906.0), \"cr_reviews_new\"] = 3 #\"high\"\n",
        "data.loc[(data[\"critic_reviews\"] > 455.0) & (data[\"critic_reviews\"] <= 680.5), \"cr_reviews_new\"] = 2 #\"average\"\n",
        "data.loc[(data[\"critic_reviews\"] > 229.5) & (data[\"critic_reviews\"] <= 455.0), \"cr_reviews_new\"] = 1 #\"low\"\n",
        "data.loc[(data[\"critic_reviews\"] > 3.098) & (data[\"critic_reviews\"] <= 229.5), \"cr_reviews_new\"] = 0 #\"lower\""
      ],
      "id": "gOwnklX6n8cI"
    },
    {
      "cell_type": "code",
      "execution_count": 193,
      "metadata": {
        "colab": {
          "base_uri": "https://localhost:8080/"
        },
        "id": "Rf8IsKM1n8cI",
        "outputId": "1d51197c-8417-49b7-f488-22a19fb6b3ce"
      },
      "outputs": [
        {
          "output_type": "execute_result",
          "data": {
            "text/plain": [
              "0.00    709\n",
              "1.00    202\n",
              "2.00     78\n",
              "3.00     11\n",
              "Name: cr_reviews_new, dtype: int64"
            ]
          },
          "metadata": {},
          "execution_count": 193
        }
      ],
      "source": [
        "data.cr_reviews_new.value_counts()"
      ],
      "id": "Rf8IsKM1n8cI"
    },
    {
      "cell_type": "code",
      "execution_count": 195,
      "metadata": {
        "colab": {
          "base_uri": "https://localhost:8080/"
        },
        "id": "_LCT21iSn8cI",
        "outputId": "8515cbbc-4207-45bc-9bff-f3424876bab7"
      },
      "outputs": [
        {
          "output_type": "execute_result",
          "data": {
            "text/plain": [
              "11100.00    1\n",
              "9700.00     1\n",
              "9300.00     1\n",
              "7800.00     1\n",
              "7700.00     1\n",
              "           ..\n",
              "72.00       1\n",
              "66.00       3\n",
              "61.00       1\n",
              "52.00       1\n",
              "22.00       1\n",
              "Name: user_reviews, Length: 534, dtype: int64"
            ]
          },
          "metadata": {},
          "execution_count": 195
        }
      ],
      "source": [
        "data.user_reviews.value_counts().sort_index(ascending=False)"
      ],
      "id": "_LCT21iSn8cI"
    },
    {
      "cell_type": "code",
      "execution_count": 196,
      "metadata": {
        "colab": {
          "base_uri": "https://localhost:8080/"
        },
        "id": "5DJL3FTRn8cI",
        "outputId": "56dfa4cc-4530-46fe-fb83-165bc427bec6"
      },
      "outputs": [
        {
          "output_type": "execute_result",
          "data": {
            "text/plain": [
              "0      (878.5, 11100.0]\n",
              "1      (878.5, 11100.0]\n",
              "2      (878.5, 11100.0]\n",
              "3      (878.5, 11100.0]\n",
              "4      (878.5, 11100.0]\n",
              "             ...       \n",
              "995    (21.999, 216.75]\n",
              "996    (21.999, 216.75]\n",
              "997    (21.999, 216.75]\n",
              "998    (21.999, 216.75]\n",
              "999    (21.999, 216.75]\n",
              "Name: user_reviews, Length: 1000, dtype: category\n",
              "Categories (4, interval[float64, right]): [(21.999, 216.75] < (216.75, 419.0] < (419.0, 878.5] <\n",
              "                                           (878.5, 11100.0]]"
            ]
          },
          "metadata": {},
          "execution_count": 196
        }
      ],
      "source": [
        "pd.qcut(data.user_reviews, q=4)"
      ],
      "id": "5DJL3FTRn8cI"
    },
    {
      "cell_type": "code",
      "execution_count": 197,
      "metadata": {
        "id": "7eRIZBFLn8cJ"
      },
      "outputs": [],
      "source": [
        "data.loc[(data[\"user_reviews\"] > 5000), \"ur_reviews_new\"] = 5 #\"top\"\n",
        "data.loc[(data[\"user_reviews\"] > 2000) & (data[\"user_reviews\"] <= 5000), \"ur_reviews_new\"] = 4 #\"very high\"\n",
        "data.loc[(data[\"user_reviews\"] > 878.5) & (data[\"user_reviews\"] <= 2000), \"ur_reviews_new\"] = 3 #\"high\"\n",
        "data.loc[(data[\"user_reviews\"] > 419.0) & (data[\"user_reviews\"] <= 878.5), \"ur_reviews_new\"] = 2 #\"medium\"\n",
        "data.loc[(data[\"user_reviews\"] > 216.75) & (data[\"user_reviews\"] <= 419.0), \"ur_reviews_new\"] = 1# \"low\"\n",
        "data.loc[(data[\"user_reviews\"] > 21.999) & (data[\"user_reviews\"] <= 216.75), \"ur_reviews_new\"] = 0 #\"lower\""
      ],
      "id": "7eRIZBFLn8cJ"
    },
    {
      "cell_type": "code",
      "execution_count": 198,
      "metadata": {
        "colab": {
          "base_uri": "https://localhost:8080/"
        },
        "id": "R7hc9tZqn8cJ",
        "outputId": "5528131f-9c9a-48a0-d004-e39a37d2a411"
      },
      "outputs": [
        {
          "output_type": "execute_result",
          "data": {
            "text/plain": [
              "count   1000.00\n",
              "mean     123.57\n",
              "std       28.25\n",
              "min       64.00\n",
              "25%      103.00\n",
              "50%      119.00\n",
              "75%      138.00\n",
              "max      321.00\n",
              "Name: runtime, dtype: float64"
            ]
          },
          "metadata": {},
          "execution_count": 198
        }
      ],
      "source": [
        "data.runtime.describe()"
      ],
      "id": "R7hc9tZqn8cJ"
    },
    {
      "cell_type": "code",
      "execution_count": 199,
      "metadata": {
        "id": "GFY2Nf4dn8cJ"
      },
      "outputs": [],
      "source": [
        "data.loc[(data[\"runtime\"] > 180), \"runtime_new\"] = 3 #\"more than 3 hours\"\n",
        "data.loc[(data[\"runtime\"] > 140) & (data[\"runtime\"] <= 180), \"runtime_new\"] = 2 #\"about 3 hours\"\n",
        "data.loc[(data[\"runtime\"] > 100) & (data[\"runtime\"] <= 140), \"runtime_new\"] = 1 #\"about 2 hours\"\n",
        "data.loc[(data[\"runtime\"] > 63) & (data[\"runtime\"] <= 100), \"runtime_new\"] = 0 #\"more than 1 hour\""
      ],
      "id": "GFY2Nf4dn8cJ"
    },
    {
      "cell_type": "code",
      "execution_count": 200,
      "metadata": {
        "colab": {
          "base_uri": "https://localhost:8080/"
        },
        "id": "BFWLsOOhn8cJ",
        "outputId": "551f4fac-4a9c-466f-8d94-e13cd2d43b0f"
      },
      "outputs": [
        {
          "output_type": "execute_result",
          "data": {
            "text/plain": [
              "1.00    574\n",
              "0.00    204\n",
              "2.00    181\n",
              "3.00     41\n",
              "Name: runtime_new, dtype: int64"
            ]
          },
          "metadata": {},
          "execution_count": 200
        }
      ],
      "source": [
        "data.runtime_new.value_counts()"
      ],
      "id": "BFWLsOOhn8cJ"
    },
    {
      "cell_type": "code",
      "execution_count": 201,
      "metadata": {
        "colab": {
          "base_uri": "https://localhost:8080/"
        },
        "id": "dtVlIguyn8cJ",
        "outputId": "1facfb24-74cb-4700-facf-09bf2a09670a"
      },
      "outputs": [
        {
          "output_type": "execute_result",
          "data": {
            "text/plain": [
              "count          1000.00\n",
              "mean       99563893.43\n",
              "std      1077241957.48\n",
              "min           18000.00\n",
              "25%         2000000.00\n",
              "50%         8500000.00\n",
              "75%        30000000.00\n",
              "max     30000000000.00\n",
              "Name: budget, dtype: float64"
            ]
          },
          "metadata": {},
          "execution_count": 201
        }
      ],
      "source": [
        "data.budget.describe()"
      ],
      "id": "dtVlIguyn8cJ"
    },
    {
      "cell_type": "code",
      "execution_count": 202,
      "metadata": {
        "colab": {
          "base_uri": "https://localhost:8080/"
        },
        "id": "9LwE3ZAPn8cJ",
        "outputId": "f9cbdb83-24d3-4090-c41f-00396ef95cbb"
      },
      "outputs": [
        {
          "output_type": "execute_result",
          "data": {
            "text/plain": [
              "0        (24950959.262, 40000000.0]\n",
              "1      (102100000.0, 30000000000.0]\n",
              "2      (102100000.0, 30000000000.0]\n",
              "3         (40000000.0, 102100000.0]\n",
              "4         (40000000.0, 102100000.0]\n",
              "                   ...             \n",
              "995        (2588422.256, 4500000.0]\n",
              "996        (17999.999, 1205595.271]\n",
              "997         (8500000.0, 15000000.0]\n",
              "998      (1595427.412, 2588422.256]\n",
              "999      (1205595.271, 1595427.412]\n",
              "Name: budget, Length: 1000, dtype: category\n",
              "Categories (10, interval[float64, right]): [(17999.999, 1205595.271] < (1205595.271, 1595427.412] <\n",
              "                                            (1595427.412, 2588422.256] < (2588422.256, 4500000.0] < ... <\n",
              "                                            (15000000.0, 24950959.262] < (24950959.262, 40000000.0] <\n",
              "                                            (40000000.0, 102100000.0] < (102100000.0, 30000000000.0]]"
            ]
          },
          "metadata": {},
          "execution_count": 202
        }
      ],
      "source": [
        "pd.qcut(data.budget, 10)"
      ],
      "id": "9LwE3ZAPn8cJ"
    },
    {
      "cell_type": "code",
      "execution_count": 203,
      "metadata": {
        "id": "ZpdD_vRCn8cK"
      },
      "outputs": [],
      "source": [
        "data.loc[(data[\"budget\"] > 102100000.0), \"new_budget\"] = 9 #\"top\"\n",
        "data.loc[(data[\"budget\"] > 40000000.0) & (data[\"budget\"] <= 102100000.0), \"new_budget\"] = 8 #\"very high\"\n",
        "data.loc[(data[\"budget\"] > 24950959.262) & (data[\"budget\"] <= 40000000.0), \"new_budget\"] = 7 #\"higher\"\n",
        "data.loc[(data[\"budget\"] > 15000000.0) & (data[\"budget\"] <= 24950959.262), \"new_budget\"] = 6 #\"high\"\n",
        "data.loc[(data[\"budget\"] > 8500000.0) & (data[\"budget\"] <= 15000000.0), \"new_budget\"] = 5 #\"above median\"\n",
        "data.loc[(data[\"budget\"] > 4500000.0) & (data[\"budget\"] <= 8500000.0), \"new_budget\"] = 4 #\"below median\"\n",
        "data.loc[(data[\"budget\"] > 2588422.256) & (data[\"budget\"] <= 4500000.0), \"new_budget\"] = 3 #\"low\"\n",
        "data.loc[(data[\"budget\"] > 1595427.412) & (data[\"budget\"] <= 2588422.256), \"new_budget\"] = 2 # \"very low\"\n",
        "data.loc[(data[\"budget\"] > 1205595.271) & (data[\"budget\"] <= 1595427.412), \"new_budget\"] = 1 # \"lowest\"\n",
        "data.loc[(data[\"budget\"] > 17999.999) & (data[\"budget\"] <= 1205595.271 ), \"new_budget\"] = 0 #\"very low\""
      ],
      "id": "ZpdD_vRCn8cK"
    },
    {
      "cell_type": "code",
      "execution_count": 204,
      "metadata": {
        "colab": {
          "base_uri": "https://localhost:8080/"
        },
        "id": "FXCoPHFWn8cK",
        "outputId": "022eaadb-b205-4e13-bc04-c1d5ed0301df"
      },
      "outputs": [
        {
          "output_type": "execute_result",
          "data": {
            "text/plain": [
              "count   1000.00\n",
              "mean      78.92\n",
              "std       11.34\n",
              "min       28.00\n",
              "25%       72.91\n",
              "50%       80.00\n",
              "75%       87.00\n",
              "max      100.00\n",
              "Name: metascore, dtype: float64"
            ]
          },
          "metadata": {},
          "execution_count": 204
        }
      ],
      "source": [
        "data.metascore.describe()"
      ],
      "id": "FXCoPHFWn8cK"
    },
    {
      "cell_type": "code",
      "execution_count": 205,
      "metadata": {
        "colab": {
          "base_uri": "https://localhost:8080/"
        },
        "id": "XouIE_sZn8cK",
        "outputId": "0695360a-5a85-4613-c0f1-e508c4cfefa1"
      },
      "outputs": [
        {
          "output_type": "execute_result",
          "data": {
            "text/plain": [
              "0        (72.906, 80.0]\n",
              "1          (80.0, 87.0]\n",
              "2        (72.906, 80.0]\n",
              "3      (27.999, 72.906]\n",
              "4          (80.0, 87.0]\n",
              "             ...       \n",
              "995       (87.0, 100.0]\n",
              "996      (72.906, 80.0]\n",
              "997      (72.906, 80.0]\n",
              "998       (87.0, 100.0]\n",
              "999      (72.906, 80.0]\n",
              "Name: metascore, Length: 1000, dtype: category\n",
              "Categories (4, interval[float64, right]): [(27.999, 72.906] < (72.906, 80.0] < (80.0, 87.0] <\n",
              "                                           (87.0, 100.0]]"
            ]
          },
          "metadata": {},
          "execution_count": 205
        }
      ],
      "source": [
        "pd.qcut(data.metascore, 4)"
      ],
      "id": "XouIE_sZn8cK"
    },
    {
      "cell_type": "code",
      "execution_count": 206,
      "metadata": {
        "id": "un3Z63ACn8cK"
      },
      "outputs": [],
      "source": [
        "data.loc[(data[\"metascore\"] > 87), \"metascore_new\"] = 3 #\"top\"\n",
        "data.loc[(data[\"metascore\"] > 80) & (data[\"metascore\"] <= 87), \"metascore_new\"] = 2 #\"very high\"\n",
        "data.loc[(data[\"metascore\"] > 72.906) & (data[\"metascore\"] <= 80), \"metascore_new\"] = 1 #\"high\"\n",
        "data.loc[(data[\"metascore\"] > 27.999) & (data[\"metascore\"] <= 72.906), \"metascore_new\"] = 0 #\"average and lower\""
      ],
      "id": "un3Z63ACn8cK"
    },
    {
      "cell_type": "code",
      "execution_count": 207,
      "metadata": {
        "colab": {
          "base_uri": "https://localhost:8080/"
        },
        "id": "piskeaLbn8cK",
        "outputId": "e1427eb9-8cd5-4e87-d6bb-3ab7887397ae"
      },
      "outputs": [
        {
          "output_type": "execute_result",
          "data": {
            "text/plain": [
              "count   1000.00\n",
              "mean      89.10\n",
              "std       19.76\n",
              "min       13.00\n",
              "25%       90.00\n",
              "50%       99.00\n",
              "75%       99.00\n",
              "max       99.00\n",
              "Name: count_photos, dtype: float64"
            ]
          },
          "metadata": {},
          "execution_count": 207
        }
      ],
      "source": [
        "data.count_photos.describe()"
      ],
      "id": "piskeaLbn8cK"
    },
    {
      "cell_type": "code",
      "execution_count": 208,
      "metadata": {
        "id": "jnWEq_fMn8cL"
      },
      "outputs": [],
      "source": [
        "data.loc[(data[\"count_photos\"] > 89), \"photos_new\"] = 1 #\"much\"\n",
        "data.loc[(data[\"count_photos\"] > 12.99) & (data[\"count_photos\"] <= 89), \"photos_new\"] = 0 #\"little\""
      ],
      "id": "jnWEq_fMn8cL"
    },
    {
      "cell_type": "code",
      "execution_count": 209,
      "metadata": {
        "colab": {
          "base_uri": "https://localhost:8080/"
        },
        "id": "CC8mLxvZn8cL",
        "outputId": "5771baf9-02d1-44f6-eb2f-97704e6533fc"
      },
      "outputs": [
        {
          "output_type": "execute_result",
          "data": {
            "text/plain": [
              "count   1000.00\n",
              "mean       6.67\n",
              "std        9.74\n",
              "min        1.00\n",
              "25%        1.00\n",
              "50%        3.00\n",
              "75%        8.00\n",
              "max       99.00\n",
              "Name: count_videos, dtype: float64"
            ]
          },
          "metadata": {},
          "execution_count": 209
        }
      ],
      "source": [
        "data.count_videos.describe()"
      ],
      "id": "CC8mLxvZn8cL"
    },
    {
      "cell_type": "code",
      "execution_count": 211,
      "metadata": {
        "id": "a_VoLhgQn8cL"
      },
      "outputs": [],
      "source": [
        "data.loc[(data[\"count_videos\"] > 56.99), \"videos_new\"] = 1 #\"much\"\n",
        "data.loc[(data[\"count_videos\"] > 0.99) & (data[\"count_videos\"] <= 56.99), \"videos_new\"] = 0 #\"little\""
      ],
      "id": "a_VoLhgQn8cL"
    },
    {
      "cell_type": "code",
      "execution_count": 212,
      "metadata": {
        "colab": {
          "base_uri": "https://localhost:8080/"
        },
        "id": "R-XTtF3sn8cL",
        "outputId": "3aa6e4aa-c9d7-43b8-d1ee-a9165f6a2ca1"
      },
      "outputs": [
        {
          "output_type": "execute_result",
          "data": {
            "text/plain": [
              "February     129\n",
              "December     108\n",
              "October      108\n",
              "January       95\n",
              "March         93\n",
              "November      78\n",
              "April         72\n",
              "September     72\n",
              "May           72\n",
              "July          64\n",
              "June          64\n",
              "August        45\n",
              "Name: month, dtype: int64"
            ]
          },
          "metadata": {},
          "execution_count": 212
        }
      ],
      "source": [
        "df.month.value_counts()"
      ],
      "id": "R-XTtF3sn8cL"
    },
    {
      "cell_type": "code",
      "execution_count": 213,
      "metadata": {
        "colab": {
          "base_uri": "https://localhost:8080/"
        },
        "id": "m9xZNLzpn8cL",
        "outputId": "7a99584e-5cc0-4164-efe7-c99697d3d01d"
      },
      "outputs": [
        {
          "output_type": "execute_result",
          "data": {
            "text/plain": [
              "count   1000.00\n",
              "mean     125.11\n",
              "std       51.56\n",
              "min       13.00\n",
              "25%       94.00\n",
              "50%      129.00\n",
              "75%      152.00\n",
              "max      643.00\n",
              "Name: trailer_duration, dtype: float64"
            ]
          },
          "metadata": {},
          "execution_count": 213
        }
      ],
      "source": [
        "data.trailer_duration.describe()"
      ],
      "id": "m9xZNLzpn8cL"
    },
    {
      "cell_type": "code",
      "execution_count": 214,
      "metadata": {
        "id": "H-g_1T-dn8cL"
      },
      "outputs": [],
      "source": [
        "data.loc[(data[\"trailer_duration\"] > 119.99), \"trailerdur_new\"] = 1 #\"2 hours and more\"\n",
        "data.loc[(data[\"trailer_duration\"] > 12.99) & (data[\"trailer_duration\"] <= 119.99), \"trailerdur_new\"] = 0 #\"less than 2 hours\""
      ],
      "id": "H-g_1T-dn8cL"
    },
    {
      "cell_type": "code",
      "execution_count": 217,
      "metadata": {
        "id": "7zbUVf3Gn8cM"
      },
      "outputs": [],
      "source": [
        "data1 = data.drop(['rating', 'critic_reviews',\n",
        "       'user_reviews', 'runtime', 'budget', 'metascore', 'count_videos',\n",
        "       'count_photos', 'trailer_duration'], axis=1)"
      ],
      "id": "7zbUVf3Gn8cM"
    },
    {
      "cell_type": "code",
      "execution_count": 220,
      "metadata": {
        "colab": {
          "base_uri": "https://localhost:8080/"
        },
        "id": "DDcGwTijn8cM",
        "outputId": "55f705d4-0ab8-4fe5-c08b-ac9cdce440f0"
      },
      "outputs": [
        {
          "output_type": "execute_result",
          "data": {
            "text/plain": [
              "Drama        295\n",
              "Action       173\n",
              "Comedy       153\n",
              "Crime        110\n",
              "Biography     85\n",
              "Animation     83\n",
              "Adventure     67\n",
              "Horror        13\n",
              "Mystery       11\n",
              "Western        4\n",
              "Fantasy        2\n",
              "Film-Noir      2\n",
              "Family         1\n",
              "Thriller       1\n",
              "Name: genre1, dtype: int64"
            ]
          },
          "metadata": {},
          "execution_count": 220
        }
      ],
      "source": [
        "data1.genre1.value_counts()"
      ],
      "id": "DDcGwTijn8cM"
    },
    {
      "cell_type": "code",
      "execution_count": 221,
      "metadata": {
        "id": "N_HjZ_7sn8cM"
      },
      "outputs": [],
      "source": [
        "genre_counts = data1.genre1.value_counts()\n",
        "other_genres = list(genre_counts[genre_counts <= 13].index)\n",
        "\n",
        "data1['genres'] = data1['genre1'].replace(other_genres, 'Other')"
      ],
      "id": "N_HjZ_7sn8cM"
    },
    {
      "cell_type": "code",
      "execution_count": 222,
      "metadata": {
        "colab": {
          "base_uri": "https://localhost:8080/"
        },
        "id": "EL5tKp5tn8cN",
        "outputId": "e8d64daf-9d66-4d1b-b0f0-1861a66c75e0"
      },
      "outputs": [
        {
          "output_type": "execute_result",
          "data": {
            "text/plain": [
              "February     129\n",
              "December     108\n",
              "October      108\n",
              "January       95\n",
              "March         93\n",
              "November      78\n",
              "April         72\n",
              "September     72\n",
              "May           72\n",
              "July          64\n",
              "June          64\n",
              "August        45\n",
              "Name: month, dtype: int64"
            ]
          },
          "metadata": {},
          "execution_count": 222
        }
      ],
      "source": [
        "data1.month.value_counts()"
      ],
      "id": "EL5tKp5tn8cN"
    },
    {
      "cell_type": "code",
      "execution_count": 223,
      "metadata": {
        "id": "uuNAgA5Wn8cN"
      },
      "outputs": [],
      "source": [
        "month_counts = data1.month.value_counts()\n",
        "other_months = list(month_counts[month_counts <= 78].index)\n",
        "\n",
        "data1['month'] = data1['month'].replace(other_months, 'Other')"
      ],
      "id": "uuNAgA5Wn8cN"
    },
    {
      "cell_type": "code",
      "execution_count": 225,
      "metadata": {
        "id": "9zzuY2Mll2bo"
      },
      "outputs": [],
      "source": [
        "df_analiz=data1[['year', 'month', 'gross_x', 'star_new', 'director_new',\n",
        "       'company_new', 'rating_new', 'cr_reviews_new', 'ur_reviews_new', 'runtime_new',\n",
        "       'new_budget', 'metascore_new', 'photos_new', 'videos_new',\n",
        "       'trailerdur_new', 'genres']]"
      ],
      "id": "9zzuY2Mll2bo"
    },
    {
      "cell_type": "code",
      "execution_count": 226,
      "metadata": {
        "id": "bMGiyf0hl2bp"
      },
      "outputs": [],
      "source": [
        "X=df_analiz.drop([\"gross_x\"], axis=1)\n",
        "y=df_analiz[\"gross_x\"]"
      ],
      "id": "bMGiyf0hl2bp"
    },
    {
      "cell_type": "code",
      "execution_count": 227,
      "metadata": {
        "id": "D3daH6kvl2bp",
        "outputId": "54d9734f-cb86-4bd2-bfe4-7639078c2c19",
        "colab": {
          "base_uri": "https://localhost:8080/",
          "height": 206
        }
      },
      "outputs": [
        {
          "output_type": "execute_result",
          "data": {
            "text/html": [
              "\n",
              "  <div id=\"df-0e72362d-91d7-462a-b981-dce9256efcae\">\n",
              "    <div class=\"colab-df-container\">\n",
              "      <div>\n",
              "<style scoped>\n",
              "    .dataframe tbody tr th:only-of-type {\n",
              "        vertical-align: middle;\n",
              "    }\n",
              "\n",
              "    .dataframe tbody tr th {\n",
              "        vertical-align: top;\n",
              "    }\n",
              "\n",
              "    .dataframe thead th {\n",
              "        text-align: right;\n",
              "    }\n",
              "</style>\n",
              "<table border=\"1\" class=\"dataframe\">\n",
              "  <thead>\n",
              "    <tr style=\"text-align: right;\">\n",
              "      <th></th>\n",
              "      <th>genres_Adventure</th>\n",
              "      <th>genres_Animation</th>\n",
              "      <th>genres_Biography</th>\n",
              "      <th>genres_Comedy</th>\n",
              "      <th>genres_Crime</th>\n",
              "      <th>genres_Drama</th>\n",
              "      <th>genres_Other</th>\n",
              "      <th>month_February</th>\n",
              "      <th>month_January</th>\n",
              "      <th>month_March</th>\n",
              "      <th>month_October</th>\n",
              "      <th>month_Other</th>\n",
              "    </tr>\n",
              "  </thead>\n",
              "  <tbody>\n",
              "    <tr>\n",
              "      <th>0</th>\n",
              "      <td>0</td>\n",
              "      <td>0</td>\n",
              "      <td>0</td>\n",
              "      <td>0</td>\n",
              "      <td>0</td>\n",
              "      <td>1</td>\n",
              "      <td>0</td>\n",
              "      <td>0</td>\n",
              "      <td>0</td>\n",
              "      <td>1</td>\n",
              "      <td>0</td>\n",
              "      <td>0</td>\n",
              "    </tr>\n",
              "    <tr>\n",
              "      <th>1</th>\n",
              "      <td>0</td>\n",
              "      <td>0</td>\n",
              "      <td>0</td>\n",
              "      <td>0</td>\n",
              "      <td>0</td>\n",
              "      <td>0</td>\n",
              "      <td>0</td>\n",
              "      <td>0</td>\n",
              "      <td>0</td>\n",
              "      <td>0</td>\n",
              "      <td>0</td>\n",
              "      <td>1</td>\n",
              "    </tr>\n",
              "    <tr>\n",
              "      <th>2</th>\n",
              "      <td>0</td>\n",
              "      <td>0</td>\n",
              "      <td>0</td>\n",
              "      <td>0</td>\n",
              "      <td>0</td>\n",
              "      <td>0</td>\n",
              "      <td>0</td>\n",
              "      <td>0</td>\n",
              "      <td>0</td>\n",
              "      <td>0</td>\n",
              "      <td>0</td>\n",
              "      <td>1</td>\n",
              "    </tr>\n",
              "    <tr>\n",
              "      <th>3</th>\n",
              "      <td>0</td>\n",
              "      <td>0</td>\n",
              "      <td>0</td>\n",
              "      <td>0</td>\n",
              "      <td>0</td>\n",
              "      <td>1</td>\n",
              "      <td>0</td>\n",
              "      <td>0</td>\n",
              "      <td>0</td>\n",
              "      <td>0</td>\n",
              "      <td>0</td>\n",
              "      <td>0</td>\n",
              "    </tr>\n",
              "    <tr>\n",
              "      <th>4</th>\n",
              "      <td>0</td>\n",
              "      <td>0</td>\n",
              "      <td>0</td>\n",
              "      <td>0</td>\n",
              "      <td>0</td>\n",
              "      <td>1</td>\n",
              "      <td>0</td>\n",
              "      <td>0</td>\n",
              "      <td>0</td>\n",
              "      <td>0</td>\n",
              "      <td>0</td>\n",
              "      <td>1</td>\n",
              "    </tr>\n",
              "  </tbody>\n",
              "</table>\n",
              "</div>\n",
              "      <button class=\"colab-df-convert\" onclick=\"convertToInteractive('df-0e72362d-91d7-462a-b981-dce9256efcae')\"\n",
              "              title=\"Convert this dataframe to an interactive table.\"\n",
              "              style=\"display:none;\">\n",
              "        \n",
              "  <svg xmlns=\"http://www.w3.org/2000/svg\" height=\"24px\"viewBox=\"0 0 24 24\"\n",
              "       width=\"24px\">\n",
              "    <path d=\"M0 0h24v24H0V0z\" fill=\"none\"/>\n",
              "    <path d=\"M18.56 5.44l.94 2.06.94-2.06 2.06-.94-2.06-.94-.94-2.06-.94 2.06-2.06.94zm-11 1L8.5 8.5l.94-2.06 2.06-.94-2.06-.94L8.5 2.5l-.94 2.06-2.06.94zm10 10l.94 2.06.94-2.06 2.06-.94-2.06-.94-.94-2.06-.94 2.06-2.06.94z\"/><path d=\"M17.41 7.96l-1.37-1.37c-.4-.4-.92-.59-1.43-.59-.52 0-1.04.2-1.43.59L10.3 9.45l-7.72 7.72c-.78.78-.78 2.05 0 2.83L4 21.41c.39.39.9.59 1.41.59.51 0 1.02-.2 1.41-.59l7.78-7.78 2.81-2.81c.8-.78.8-2.07 0-2.86zM5.41 20L4 18.59l7.72-7.72 1.47 1.35L5.41 20z\"/>\n",
              "  </svg>\n",
              "      </button>\n",
              "      \n",
              "  <style>\n",
              "    .colab-df-container {\n",
              "      display:flex;\n",
              "      flex-wrap:wrap;\n",
              "      gap: 12px;\n",
              "    }\n",
              "\n",
              "    .colab-df-convert {\n",
              "      background-color: #E8F0FE;\n",
              "      border: none;\n",
              "      border-radius: 50%;\n",
              "      cursor: pointer;\n",
              "      display: none;\n",
              "      fill: #1967D2;\n",
              "      height: 32px;\n",
              "      padding: 0 0 0 0;\n",
              "      width: 32px;\n",
              "    }\n",
              "\n",
              "    .colab-df-convert:hover {\n",
              "      background-color: #E2EBFA;\n",
              "      box-shadow: 0px 1px 2px rgba(60, 64, 67, 0.3), 0px 1px 3px 1px rgba(60, 64, 67, 0.15);\n",
              "      fill: #174EA6;\n",
              "    }\n",
              "\n",
              "    [theme=dark] .colab-df-convert {\n",
              "      background-color: #3B4455;\n",
              "      fill: #D2E3FC;\n",
              "    }\n",
              "\n",
              "    [theme=dark] .colab-df-convert:hover {\n",
              "      background-color: #434B5C;\n",
              "      box-shadow: 0px 1px 3px 1px rgba(0, 0, 0, 0.15);\n",
              "      filter: drop-shadow(0px 1px 2px rgba(0, 0, 0, 0.3));\n",
              "      fill: #FFFFFF;\n",
              "    }\n",
              "  </style>\n",
              "\n",
              "      <script>\n",
              "        const buttonEl =\n",
              "          document.querySelector('#df-0e72362d-91d7-462a-b981-dce9256efcae button.colab-df-convert');\n",
              "        buttonEl.style.display =\n",
              "          google.colab.kernel.accessAllowed ? 'block' : 'none';\n",
              "\n",
              "        async function convertToInteractive(key) {\n",
              "          const element = document.querySelector('#df-0e72362d-91d7-462a-b981-dce9256efcae');\n",
              "          const dataTable =\n",
              "            await google.colab.kernel.invokeFunction('convertToInteractive',\n",
              "                                                     [key], {});\n",
              "          if (!dataTable) return;\n",
              "\n",
              "          const docLinkHtml = 'Like what you see? Visit the ' +\n",
              "            '<a target=\"_blank\" href=https://colab.research.google.com/notebooks/data_table.ipynb>data table notebook</a>'\n",
              "            + ' to learn more about interactive tables.';\n",
              "          element.innerHTML = '';\n",
              "          dataTable['output_type'] = 'display_data';\n",
              "          await google.colab.output.renderOutput(dataTable, element);\n",
              "          const docLink = document.createElement('div');\n",
              "          docLink.innerHTML = docLinkHtml;\n",
              "          element.appendChild(docLink);\n",
              "        }\n",
              "      </script>\n",
              "    </div>\n",
              "  </div>\n",
              "  "
            ],
            "text/plain": [
              "   genres_Adventure  genres_Animation  ...  month_October  month_Other\n",
              "0                 0                 0  ...              0            0\n",
              "1                 0                 0  ...              0            1\n",
              "2                 0                 0  ...              0            1\n",
              "3                 0                 0  ...              0            0\n",
              "4                 0                 0  ...              0            1\n",
              "\n",
              "[5 rows x 12 columns]"
            ]
          },
          "metadata": {},
          "execution_count": 227
        }
      ],
      "source": [
        "dms=pd.get_dummies(X[[\"genres\", \"month\"]], drop_first=True) \n",
        "dms.head() "
      ],
      "id": "D3daH6kvl2bp"
    },
    {
      "cell_type": "code",
      "execution_count": 228,
      "metadata": {
        "id": "Tr8uENTPl2bp"
      },
      "outputs": [],
      "source": [
        "X=pd.concat([X,dms],axis=1)"
      ],
      "id": "Tr8uENTPl2bp"
    },
    {
      "cell_type": "code",
      "execution_count": 229,
      "metadata": {
        "id": "lWyqa1Lkl2bp"
      },
      "outputs": [],
      "source": [
        "X.drop([\"genres\", \"month\"], axis=1, inplace=True)"
      ],
      "id": "lWyqa1Lkl2bp"
    },
    {
      "cell_type": "code",
      "execution_count": 230,
      "metadata": {
        "colab": {
          "base_uri": "https://localhost:8080/",
          "height": 270
        },
        "id": "SFm-jByEn8cO",
        "outputId": "4b2ce5de-e9c2-454b-b793-10dd5a9f1127"
      },
      "outputs": [
        {
          "output_type": "execute_result",
          "data": {
            "text/html": [
              "\n",
              "  <div id=\"df-921e44b8-7cd8-46e6-8cc1-eee93aa5f057\">\n",
              "    <div class=\"colab-df-container\">\n",
              "      <div>\n",
              "<style scoped>\n",
              "    .dataframe tbody tr th:only-of-type {\n",
              "        vertical-align: middle;\n",
              "    }\n",
              "\n",
              "    .dataframe tbody tr th {\n",
              "        vertical-align: top;\n",
              "    }\n",
              "\n",
              "    .dataframe thead th {\n",
              "        text-align: right;\n",
              "    }\n",
              "</style>\n",
              "<table border=\"1\" class=\"dataframe\">\n",
              "  <thead>\n",
              "    <tr style=\"text-align: right;\">\n",
              "      <th></th>\n",
              "      <th>year</th>\n",
              "      <th>star_new</th>\n",
              "      <th>director_new</th>\n",
              "      <th>company_new</th>\n",
              "      <th>rating_new</th>\n",
              "      <th>cr_reviews_new</th>\n",
              "      <th>ur_reviews_new</th>\n",
              "      <th>runtime_new</th>\n",
              "      <th>new_budget</th>\n",
              "      <th>metascore_new</th>\n",
              "      <th>photos_new</th>\n",
              "      <th>videos_new</th>\n",
              "      <th>trailerdur_new</th>\n",
              "      <th>genres_Adventure</th>\n",
              "      <th>genres_Animation</th>\n",
              "      <th>genres_Biography</th>\n",
              "      <th>genres_Comedy</th>\n",
              "      <th>genres_Crime</th>\n",
              "      <th>genres_Drama</th>\n",
              "      <th>genres_Other</th>\n",
              "      <th>month_February</th>\n",
              "      <th>month_January</th>\n",
              "      <th>month_March</th>\n",
              "      <th>month_October</th>\n",
              "      <th>month_Other</th>\n",
              "    </tr>\n",
              "  </thead>\n",
              "  <tbody>\n",
              "    <tr>\n",
              "      <th>0</th>\n",
              "      <td>1994</td>\n",
              "      <td>1.00</td>\n",
              "      <td>4.00</td>\n",
              "      <td>5.00</td>\n",
              "      <td>2.00</td>\n",
              "      <td>0.00</td>\n",
              "      <td>5.00</td>\n",
              "      <td>2.00</td>\n",
              "      <td>7.00</td>\n",
              "      <td>1.00</td>\n",
              "      <td>1.00</td>\n",
              "      <td>0.00</td>\n",
              "      <td>1.00</td>\n",
              "      <td>0</td>\n",
              "      <td>0</td>\n",
              "      <td>0</td>\n",
              "      <td>0</td>\n",
              "      <td>0</td>\n",
              "      <td>1</td>\n",
              "      <td>0</td>\n",
              "      <td>0</td>\n",
              "      <td>0</td>\n",
              "      <td>1</td>\n",
              "      <td>0</td>\n",
              "      <td>0</td>\n",
              "    </tr>\n",
              "    <tr>\n",
              "      <th>1</th>\n",
              "      <td>2008</td>\n",
              "      <td>7.00</td>\n",
              "      <td>8.00</td>\n",
              "      <td>8.00</td>\n",
              "      <td>2.00</td>\n",
              "      <td>1.00</td>\n",
              "      <td>5.00</td>\n",
              "      <td>2.00</td>\n",
              "      <td>9.00</td>\n",
              "      <td>2.00</td>\n",
              "      <td>1.00</td>\n",
              "      <td>0.00</td>\n",
              "      <td>0.00</td>\n",
              "      <td>0</td>\n",
              "      <td>0</td>\n",
              "      <td>0</td>\n",
              "      <td>0</td>\n",
              "      <td>0</td>\n",
              "      <td>0</td>\n",
              "      <td>0</td>\n",
              "      <td>0</td>\n",
              "      <td>0</td>\n",
              "      <td>0</td>\n",
              "      <td>0</td>\n",
              "      <td>1</td>\n",
              "    </tr>\n",
              "    <tr>\n",
              "      <th>2</th>\n",
              "      <td>2010</td>\n",
              "      <td>8.00</td>\n",
              "      <td>8.00</td>\n",
              "      <td>8.00</td>\n",
              "      <td>1.00</td>\n",
              "      <td>2.00</td>\n",
              "      <td>4.00</td>\n",
              "      <td>2.00</td>\n",
              "      <td>9.00</td>\n",
              "      <td>1.00</td>\n",
              "      <td>1.00</td>\n",
              "      <td>0.00</td>\n",
              "      <td>0.00</td>\n",
              "      <td>0</td>\n",
              "      <td>0</td>\n",
              "      <td>0</td>\n",
              "      <td>0</td>\n",
              "      <td>0</td>\n",
              "      <td>0</td>\n",
              "      <td>0</td>\n",
              "      <td>0</td>\n",
              "      <td>0</td>\n",
              "      <td>0</td>\n",
              "      <td>0</td>\n",
              "      <td>1</td>\n",
              "    </tr>\n",
              "    <tr>\n",
              "      <th>3</th>\n",
              "      <td>1999</td>\n",
              "      <td>6.00</td>\n",
              "      <td>7.00</td>\n",
              "      <td>7.00</td>\n",
              "      <td>1.00</td>\n",
              "      <td>1.00</td>\n",
              "      <td>4.00</td>\n",
              "      <td>1.00</td>\n",
              "      <td>8.00</td>\n",
              "      <td>0.00</td>\n",
              "      <td>1.00</td>\n",
              "      <td>0.00</td>\n",
              "      <td>1.00</td>\n",
              "      <td>0</td>\n",
              "      <td>0</td>\n",
              "      <td>0</td>\n",
              "      <td>0</td>\n",
              "      <td>0</td>\n",
              "      <td>1</td>\n",
              "      <td>0</td>\n",
              "      <td>0</td>\n",
              "      <td>0</td>\n",
              "      <td>0</td>\n",
              "      <td>0</td>\n",
              "      <td>0</td>\n",
              "    </tr>\n",
              "    <tr>\n",
              "      <th>4</th>\n",
              "      <td>1994</td>\n",
              "      <td>8.00</td>\n",
              "      <td>7.00</td>\n",
              "      <td>7.00</td>\n",
              "      <td>1.00</td>\n",
              "      <td>0.00</td>\n",
              "      <td>4.00</td>\n",
              "      <td>2.00</td>\n",
              "      <td>8.00</td>\n",
              "      <td>2.00</td>\n",
              "      <td>1.00</td>\n",
              "      <td>0.00</td>\n",
              "      <td>1.00</td>\n",
              "      <td>0</td>\n",
              "      <td>0</td>\n",
              "      <td>0</td>\n",
              "      <td>0</td>\n",
              "      <td>0</td>\n",
              "      <td>1</td>\n",
              "      <td>0</td>\n",
              "      <td>0</td>\n",
              "      <td>0</td>\n",
              "      <td>0</td>\n",
              "      <td>0</td>\n",
              "      <td>1</td>\n",
              "    </tr>\n",
              "  </tbody>\n",
              "</table>\n",
              "</div>\n",
              "      <button class=\"colab-df-convert\" onclick=\"convertToInteractive('df-921e44b8-7cd8-46e6-8cc1-eee93aa5f057')\"\n",
              "              title=\"Convert this dataframe to an interactive table.\"\n",
              "              style=\"display:none;\">\n",
              "        \n",
              "  <svg xmlns=\"http://www.w3.org/2000/svg\" height=\"24px\"viewBox=\"0 0 24 24\"\n",
              "       width=\"24px\">\n",
              "    <path d=\"M0 0h24v24H0V0z\" fill=\"none\"/>\n",
              "    <path d=\"M18.56 5.44l.94 2.06.94-2.06 2.06-.94-2.06-.94-.94-2.06-.94 2.06-2.06.94zm-11 1L8.5 8.5l.94-2.06 2.06-.94-2.06-.94L8.5 2.5l-.94 2.06-2.06.94zm10 10l.94 2.06.94-2.06 2.06-.94-2.06-.94-.94-2.06-.94 2.06-2.06.94z\"/><path d=\"M17.41 7.96l-1.37-1.37c-.4-.4-.92-.59-1.43-.59-.52 0-1.04.2-1.43.59L10.3 9.45l-7.72 7.72c-.78.78-.78 2.05 0 2.83L4 21.41c.39.39.9.59 1.41.59.51 0 1.02-.2 1.41-.59l7.78-7.78 2.81-2.81c.8-.78.8-2.07 0-2.86zM5.41 20L4 18.59l7.72-7.72 1.47 1.35L5.41 20z\"/>\n",
              "  </svg>\n",
              "      </button>\n",
              "      \n",
              "  <style>\n",
              "    .colab-df-container {\n",
              "      display:flex;\n",
              "      flex-wrap:wrap;\n",
              "      gap: 12px;\n",
              "    }\n",
              "\n",
              "    .colab-df-convert {\n",
              "      background-color: #E8F0FE;\n",
              "      border: none;\n",
              "      border-radius: 50%;\n",
              "      cursor: pointer;\n",
              "      display: none;\n",
              "      fill: #1967D2;\n",
              "      height: 32px;\n",
              "      padding: 0 0 0 0;\n",
              "      width: 32px;\n",
              "    }\n",
              "\n",
              "    .colab-df-convert:hover {\n",
              "      background-color: #E2EBFA;\n",
              "      box-shadow: 0px 1px 2px rgba(60, 64, 67, 0.3), 0px 1px 3px 1px rgba(60, 64, 67, 0.15);\n",
              "      fill: #174EA6;\n",
              "    }\n",
              "\n",
              "    [theme=dark] .colab-df-convert {\n",
              "      background-color: #3B4455;\n",
              "      fill: #D2E3FC;\n",
              "    }\n",
              "\n",
              "    [theme=dark] .colab-df-convert:hover {\n",
              "      background-color: #434B5C;\n",
              "      box-shadow: 0px 1px 3px 1px rgba(0, 0, 0, 0.15);\n",
              "      filter: drop-shadow(0px 1px 2px rgba(0, 0, 0, 0.3));\n",
              "      fill: #FFFFFF;\n",
              "    }\n",
              "  </style>\n",
              "\n",
              "      <script>\n",
              "        const buttonEl =\n",
              "          document.querySelector('#df-921e44b8-7cd8-46e6-8cc1-eee93aa5f057 button.colab-df-convert');\n",
              "        buttonEl.style.display =\n",
              "          google.colab.kernel.accessAllowed ? 'block' : 'none';\n",
              "\n",
              "        async function convertToInteractive(key) {\n",
              "          const element = document.querySelector('#df-921e44b8-7cd8-46e6-8cc1-eee93aa5f057');\n",
              "          const dataTable =\n",
              "            await google.colab.kernel.invokeFunction('convertToInteractive',\n",
              "                                                     [key], {});\n",
              "          if (!dataTable) return;\n",
              "\n",
              "          const docLinkHtml = 'Like what you see? Visit the ' +\n",
              "            '<a target=\"_blank\" href=https://colab.research.google.com/notebooks/data_table.ipynb>data table notebook</a>'\n",
              "            + ' to learn more about interactive tables.';\n",
              "          element.innerHTML = '';\n",
              "          dataTable['output_type'] = 'display_data';\n",
              "          await google.colab.output.renderOutput(dataTable, element);\n",
              "          const docLink = document.createElement('div');\n",
              "          docLink.innerHTML = docLinkHtml;\n",
              "          element.appendChild(docLink);\n",
              "        }\n",
              "      </script>\n",
              "    </div>\n",
              "  </div>\n",
              "  "
            ],
            "text/plain": [
              "   year  star_new  director_new  ...  month_March  month_October  month_Other\n",
              "0  1994      1.00          4.00  ...            1              0            0\n",
              "1  2008      7.00          8.00  ...            0              0            1\n",
              "2  2010      8.00          8.00  ...            0              0            1\n",
              "3  1999      6.00          7.00  ...            0              0            0\n",
              "4  1994      8.00          7.00  ...            0              0            1\n",
              "\n",
              "[5 rows x 25 columns]"
            ]
          },
          "metadata": {},
          "execution_count": 230
        }
      ],
      "source": [
        "X.head()"
      ],
      "id": "SFm-jByEn8cO"
    },
    {
      "cell_type": "code",
      "execution_count": 231,
      "metadata": {
        "id": "5bPFfNnfl2bp"
      },
      "outputs": [],
      "source": [
        "X2 = X.copy()\n",
        "\n",
        "X2['total_reviews'] = X2['cr_reviews_new'] + X2[\"ur_reviews_new\"]\n",
        "X2['total_documents'] = X2['photos_new'] + X2[\"videos_new\"]\n",
        "X2['meta_rating'] = (X2['rating_new']+1) * (X2[\"metascore_new\"]+1)\n",
        "X2['star_dir_comp'] = (X2['director_new']+1) * (X2[\"star_new\"]+1) * (X2[\"company_new\"]+1)\n"
      ],
      "id": "5bPFfNnfl2bp"
    },
    {
      "cell_type": "code",
      "execution_count": 232,
      "metadata": {
        "colab": {
          "base_uri": "https://localhost:8080/",
          "height": 270
        },
        "id": "1p7S9qa2n8cO",
        "outputId": "60b592f7-4db4-48da-adf0-ae547c87ec24"
      },
      "outputs": [
        {
          "output_type": "execute_result",
          "data": {
            "text/html": [
              "\n",
              "  <div id=\"df-2e4c5e39-ad81-47c8-b123-dd3177ad1d00\">\n",
              "    <div class=\"colab-df-container\">\n",
              "      <div>\n",
              "<style scoped>\n",
              "    .dataframe tbody tr th:only-of-type {\n",
              "        vertical-align: middle;\n",
              "    }\n",
              "\n",
              "    .dataframe tbody tr th {\n",
              "        vertical-align: top;\n",
              "    }\n",
              "\n",
              "    .dataframe thead th {\n",
              "        text-align: right;\n",
              "    }\n",
              "</style>\n",
              "<table border=\"1\" class=\"dataframe\">\n",
              "  <thead>\n",
              "    <tr style=\"text-align: right;\">\n",
              "      <th></th>\n",
              "      <th>year</th>\n",
              "      <th>star_new</th>\n",
              "      <th>director_new</th>\n",
              "      <th>company_new</th>\n",
              "      <th>rating_new</th>\n",
              "      <th>cr_reviews_new</th>\n",
              "      <th>ur_reviews_new</th>\n",
              "      <th>runtime_new</th>\n",
              "      <th>new_budget</th>\n",
              "      <th>metascore_new</th>\n",
              "      <th>photos_new</th>\n",
              "      <th>videos_new</th>\n",
              "      <th>trailerdur_new</th>\n",
              "      <th>genres_Adventure</th>\n",
              "      <th>genres_Animation</th>\n",
              "      <th>genres_Biography</th>\n",
              "      <th>genres_Comedy</th>\n",
              "      <th>genres_Crime</th>\n",
              "      <th>genres_Drama</th>\n",
              "      <th>genres_Other</th>\n",
              "      <th>month_February</th>\n",
              "      <th>month_January</th>\n",
              "      <th>month_March</th>\n",
              "      <th>month_October</th>\n",
              "      <th>month_Other</th>\n",
              "      <th>total_reviews</th>\n",
              "      <th>total_documents</th>\n",
              "      <th>meta_rating</th>\n",
              "      <th>star_dir_comp</th>\n",
              "    </tr>\n",
              "  </thead>\n",
              "  <tbody>\n",
              "    <tr>\n",
              "      <th>0</th>\n",
              "      <td>1994</td>\n",
              "      <td>1.00</td>\n",
              "      <td>4.00</td>\n",
              "      <td>5.00</td>\n",
              "      <td>2.00</td>\n",
              "      <td>0.00</td>\n",
              "      <td>5.00</td>\n",
              "      <td>2.00</td>\n",
              "      <td>7.00</td>\n",
              "      <td>1.00</td>\n",
              "      <td>1.00</td>\n",
              "      <td>0.00</td>\n",
              "      <td>1.00</td>\n",
              "      <td>0</td>\n",
              "      <td>0</td>\n",
              "      <td>0</td>\n",
              "      <td>0</td>\n",
              "      <td>0</td>\n",
              "      <td>1</td>\n",
              "      <td>0</td>\n",
              "      <td>0</td>\n",
              "      <td>0</td>\n",
              "      <td>1</td>\n",
              "      <td>0</td>\n",
              "      <td>0</td>\n",
              "      <td>5.00</td>\n",
              "      <td>1.00</td>\n",
              "      <td>6.00</td>\n",
              "      <td>60.00</td>\n",
              "    </tr>\n",
              "    <tr>\n",
              "      <th>1</th>\n",
              "      <td>2008</td>\n",
              "      <td>7.00</td>\n",
              "      <td>8.00</td>\n",
              "      <td>8.00</td>\n",
              "      <td>2.00</td>\n",
              "      <td>1.00</td>\n",
              "      <td>5.00</td>\n",
              "      <td>2.00</td>\n",
              "      <td>9.00</td>\n",
              "      <td>2.00</td>\n",
              "      <td>1.00</td>\n",
              "      <td>0.00</td>\n",
              "      <td>0.00</td>\n",
              "      <td>0</td>\n",
              "      <td>0</td>\n",
              "      <td>0</td>\n",
              "      <td>0</td>\n",
              "      <td>0</td>\n",
              "      <td>0</td>\n",
              "      <td>0</td>\n",
              "      <td>0</td>\n",
              "      <td>0</td>\n",
              "      <td>0</td>\n",
              "      <td>0</td>\n",
              "      <td>1</td>\n",
              "      <td>6.00</td>\n",
              "      <td>1.00</td>\n",
              "      <td>9.00</td>\n",
              "      <td>648.00</td>\n",
              "    </tr>\n",
              "    <tr>\n",
              "      <th>2</th>\n",
              "      <td>2010</td>\n",
              "      <td>8.00</td>\n",
              "      <td>8.00</td>\n",
              "      <td>8.00</td>\n",
              "      <td>1.00</td>\n",
              "      <td>2.00</td>\n",
              "      <td>4.00</td>\n",
              "      <td>2.00</td>\n",
              "      <td>9.00</td>\n",
              "      <td>1.00</td>\n",
              "      <td>1.00</td>\n",
              "      <td>0.00</td>\n",
              "      <td>0.00</td>\n",
              "      <td>0</td>\n",
              "      <td>0</td>\n",
              "      <td>0</td>\n",
              "      <td>0</td>\n",
              "      <td>0</td>\n",
              "      <td>0</td>\n",
              "      <td>0</td>\n",
              "      <td>0</td>\n",
              "      <td>0</td>\n",
              "      <td>0</td>\n",
              "      <td>0</td>\n",
              "      <td>1</td>\n",
              "      <td>6.00</td>\n",
              "      <td>1.00</td>\n",
              "      <td>4.00</td>\n",
              "      <td>729.00</td>\n",
              "    </tr>\n",
              "    <tr>\n",
              "      <th>3</th>\n",
              "      <td>1999</td>\n",
              "      <td>6.00</td>\n",
              "      <td>7.00</td>\n",
              "      <td>7.00</td>\n",
              "      <td>1.00</td>\n",
              "      <td>1.00</td>\n",
              "      <td>4.00</td>\n",
              "      <td>1.00</td>\n",
              "      <td>8.00</td>\n",
              "      <td>0.00</td>\n",
              "      <td>1.00</td>\n",
              "      <td>0.00</td>\n",
              "      <td>1.00</td>\n",
              "      <td>0</td>\n",
              "      <td>0</td>\n",
              "      <td>0</td>\n",
              "      <td>0</td>\n",
              "      <td>0</td>\n",
              "      <td>1</td>\n",
              "      <td>0</td>\n",
              "      <td>0</td>\n",
              "      <td>0</td>\n",
              "      <td>0</td>\n",
              "      <td>0</td>\n",
              "      <td>0</td>\n",
              "      <td>5.00</td>\n",
              "      <td>1.00</td>\n",
              "      <td>2.00</td>\n",
              "      <td>448.00</td>\n",
              "    </tr>\n",
              "    <tr>\n",
              "      <th>4</th>\n",
              "      <td>1994</td>\n",
              "      <td>8.00</td>\n",
              "      <td>7.00</td>\n",
              "      <td>7.00</td>\n",
              "      <td>1.00</td>\n",
              "      <td>0.00</td>\n",
              "      <td>4.00</td>\n",
              "      <td>2.00</td>\n",
              "      <td>8.00</td>\n",
              "      <td>2.00</td>\n",
              "      <td>1.00</td>\n",
              "      <td>0.00</td>\n",
              "      <td>1.00</td>\n",
              "      <td>0</td>\n",
              "      <td>0</td>\n",
              "      <td>0</td>\n",
              "      <td>0</td>\n",
              "      <td>0</td>\n",
              "      <td>1</td>\n",
              "      <td>0</td>\n",
              "      <td>0</td>\n",
              "      <td>0</td>\n",
              "      <td>0</td>\n",
              "      <td>0</td>\n",
              "      <td>1</td>\n",
              "      <td>4.00</td>\n",
              "      <td>1.00</td>\n",
              "      <td>6.00</td>\n",
              "      <td>576.00</td>\n",
              "    </tr>\n",
              "  </tbody>\n",
              "</table>\n",
              "</div>\n",
              "      <button class=\"colab-df-convert\" onclick=\"convertToInteractive('df-2e4c5e39-ad81-47c8-b123-dd3177ad1d00')\"\n",
              "              title=\"Convert this dataframe to an interactive table.\"\n",
              "              style=\"display:none;\">\n",
              "        \n",
              "  <svg xmlns=\"http://www.w3.org/2000/svg\" height=\"24px\"viewBox=\"0 0 24 24\"\n",
              "       width=\"24px\">\n",
              "    <path d=\"M0 0h24v24H0V0z\" fill=\"none\"/>\n",
              "    <path d=\"M18.56 5.44l.94 2.06.94-2.06 2.06-.94-2.06-.94-.94-2.06-.94 2.06-2.06.94zm-11 1L8.5 8.5l.94-2.06 2.06-.94-2.06-.94L8.5 2.5l-.94 2.06-2.06.94zm10 10l.94 2.06.94-2.06 2.06-.94-2.06-.94-.94-2.06-.94 2.06-2.06.94z\"/><path d=\"M17.41 7.96l-1.37-1.37c-.4-.4-.92-.59-1.43-.59-.52 0-1.04.2-1.43.59L10.3 9.45l-7.72 7.72c-.78.78-.78 2.05 0 2.83L4 21.41c.39.39.9.59 1.41.59.51 0 1.02-.2 1.41-.59l7.78-7.78 2.81-2.81c.8-.78.8-2.07 0-2.86zM5.41 20L4 18.59l7.72-7.72 1.47 1.35L5.41 20z\"/>\n",
              "  </svg>\n",
              "      </button>\n",
              "      \n",
              "  <style>\n",
              "    .colab-df-container {\n",
              "      display:flex;\n",
              "      flex-wrap:wrap;\n",
              "      gap: 12px;\n",
              "    }\n",
              "\n",
              "    .colab-df-convert {\n",
              "      background-color: #E8F0FE;\n",
              "      border: none;\n",
              "      border-radius: 50%;\n",
              "      cursor: pointer;\n",
              "      display: none;\n",
              "      fill: #1967D2;\n",
              "      height: 32px;\n",
              "      padding: 0 0 0 0;\n",
              "      width: 32px;\n",
              "    }\n",
              "\n",
              "    .colab-df-convert:hover {\n",
              "      background-color: #E2EBFA;\n",
              "      box-shadow: 0px 1px 2px rgba(60, 64, 67, 0.3), 0px 1px 3px 1px rgba(60, 64, 67, 0.15);\n",
              "      fill: #174EA6;\n",
              "    }\n",
              "\n",
              "    [theme=dark] .colab-df-convert {\n",
              "      background-color: #3B4455;\n",
              "      fill: #D2E3FC;\n",
              "    }\n",
              "\n",
              "    [theme=dark] .colab-df-convert:hover {\n",
              "      background-color: #434B5C;\n",
              "      box-shadow: 0px 1px 3px 1px rgba(0, 0, 0, 0.15);\n",
              "      filter: drop-shadow(0px 1px 2px rgba(0, 0, 0, 0.3));\n",
              "      fill: #FFFFFF;\n",
              "    }\n",
              "  </style>\n",
              "\n",
              "      <script>\n",
              "        const buttonEl =\n",
              "          document.querySelector('#df-2e4c5e39-ad81-47c8-b123-dd3177ad1d00 button.colab-df-convert');\n",
              "        buttonEl.style.display =\n",
              "          google.colab.kernel.accessAllowed ? 'block' : 'none';\n",
              "\n",
              "        async function convertToInteractive(key) {\n",
              "          const element = document.querySelector('#df-2e4c5e39-ad81-47c8-b123-dd3177ad1d00');\n",
              "          const dataTable =\n",
              "            await google.colab.kernel.invokeFunction('convertToInteractive',\n",
              "                                                     [key], {});\n",
              "          if (!dataTable) return;\n",
              "\n",
              "          const docLinkHtml = 'Like what you see? Visit the ' +\n",
              "            '<a target=\"_blank\" href=https://colab.research.google.com/notebooks/data_table.ipynb>data table notebook</a>'\n",
              "            + ' to learn more about interactive tables.';\n",
              "          element.innerHTML = '';\n",
              "          dataTable['output_type'] = 'display_data';\n",
              "          await google.colab.output.renderOutput(dataTable, element);\n",
              "          const docLink = document.createElement('div');\n",
              "          docLink.innerHTML = docLinkHtml;\n",
              "          element.appendChild(docLink);\n",
              "        }\n",
              "      </script>\n",
              "    </div>\n",
              "  </div>\n",
              "  "
            ],
            "text/plain": [
              "   year  star_new  director_new  ...  total_documents  meta_rating  star_dir_comp\n",
              "0  1994      1.00          4.00  ...             1.00         6.00          60.00\n",
              "1  2008      7.00          8.00  ...             1.00         9.00         648.00\n",
              "2  2010      8.00          8.00  ...             1.00         4.00         729.00\n",
              "3  1999      6.00          7.00  ...             1.00         2.00         448.00\n",
              "4  1994      8.00          7.00  ...             1.00         6.00         576.00\n",
              "\n",
              "[5 rows x 29 columns]"
            ]
          },
          "metadata": {},
          "execution_count": 232
        }
      ],
      "source": [
        "X2.head()"
      ],
      "id": "1p7S9qa2n8cO"
    },
    {
      "cell_type": "code",
      "execution_count": 233,
      "metadata": {
        "id": "_1-ERUT3l2bq"
      },
      "outputs": [],
      "source": [
        "X_train, X_test, y_train, y_test = train_test_split(X2, y, \n",
        "                                                    test_size=0.30, \n",
        "                                                    random_state=14)"
      ],
      "id": "_1-ERUT3l2bq"
    },
    {
      "cell_type": "code",
      "execution_count": 234,
      "metadata": {
        "id": "ORutejPal2bq"
      },
      "outputs": [],
      "source": [
        "lm1=sm.OLS(y_train,X_train)"
      ],
      "id": "ORutejPal2bq"
    },
    {
      "cell_type": "code",
      "execution_count": 235,
      "metadata": {
        "id": "_apPijv_l2bq",
        "outputId": "9c54f7c1-f7a6-4886-a600-c9746c01c940",
        "colab": {
          "base_uri": "https://localhost:8080/",
          "height": 1000
        }
      },
      "outputs": [
        {
          "output_type": "execute_result",
          "data": {
            "text/html": [
              "<table class=\"simpletable\">\n",
              "<caption>OLS Regression Results</caption>\n",
              "<tr>\n",
              "  <th>Dep. Variable:</th>         <td>gross_x</td>     <th>  R-squared (uncentered):</th>      <td>   0.789</td> \n",
              "</tr>\n",
              "<tr>\n",
              "  <th>Model:</th>                   <td>OLS</td>       <th>  Adj. R-squared (uncentered):</th> <td>   0.780</td> \n",
              "</tr>\n",
              "<tr>\n",
              "  <th>Method:</th>             <td>Least Squares</td>  <th>  F-statistic:       </th>          <td>   93.00</td> \n",
              "</tr>\n",
              "<tr>\n",
              "  <th>Date:</th>             <td>Wed, 23 Feb 2022</td> <th>  Prob (F-statistic):</th>          <td>1.13e-206</td>\n",
              "</tr>\n",
              "<tr>\n",
              "  <th>Time:</th>                 <td>08:21:21</td>     <th>  Log-Likelihood:    </th>          <td> -14084.</td> \n",
              "</tr>\n",
              "<tr>\n",
              "  <th>No. Observations:</th>      <td>   700</td>      <th>  AIC:               </th>          <td>2.822e+04</td>\n",
              "</tr>\n",
              "<tr>\n",
              "  <th>Df Residuals:</th>          <td>   673</td>      <th>  BIC:               </th>          <td>2.834e+04</td>\n",
              "</tr>\n",
              "<tr>\n",
              "  <th>Df Model:</th>              <td>    27</td>      <th>                     </th>              <td> </td>    \n",
              "</tr>\n",
              "<tr>\n",
              "  <th>Covariance Type:</th>      <td>nonrobust</td>    <th>                     </th>              <td> </td>    \n",
              "</tr>\n",
              "</table>\n",
              "<table class=\"simpletable\">\n",
              "<tr>\n",
              "          <td></td>            <th>coef</th>     <th>std err</th>      <th>t</th>      <th>P>|t|</th>  <th>[0.025</th>    <th>0.975]</th>  \n",
              "</tr>\n",
              "<tr>\n",
              "  <th>year</th>             <td> 4.276e+04</td> <td> 1.44e+04</td> <td>    2.963</td> <td> 0.003</td> <td> 1.44e+04</td> <td> 7.11e+04</td>\n",
              "</tr>\n",
              "<tr>\n",
              "  <th>star_new</th>         <td>-1.153e+07</td> <td> 4.01e+06</td> <td>   -2.873</td> <td> 0.004</td> <td>-1.94e+07</td> <td>-3.65e+06</td>\n",
              "</tr>\n",
              "<tr>\n",
              "  <th>director_new</th>     <td>-1.392e+07</td> <td> 3.97e+06</td> <td>   -3.504</td> <td> 0.000</td> <td>-2.17e+07</td> <td>-6.12e+06</td>\n",
              "</tr>\n",
              "<tr>\n",
              "  <th>company_new</th>      <td>-1.238e+07</td> <td> 2.68e+06</td> <td>   -4.623</td> <td> 0.000</td> <td>-1.76e+07</td> <td>-7.12e+06</td>\n",
              "</tr>\n",
              "<tr>\n",
              "  <th>rating_new</th>       <td>-2.928e+06</td> <td> 2.51e+07</td> <td>   -0.117</td> <td> 0.907</td> <td>-5.22e+07</td> <td> 4.64e+07</td>\n",
              "</tr>\n",
              "<tr>\n",
              "  <th>cr_reviews_new</th>   <td> 3.357e+07</td> <td> 7.52e+06</td> <td>    4.466</td> <td> 0.000</td> <td> 1.88e+07</td> <td> 4.83e+07</td>\n",
              "</tr>\n",
              "<tr>\n",
              "  <th>ur_reviews_new</th>   <td>-1.067e+07</td> <td> 6.15e+06</td> <td>   -1.735</td> <td> 0.083</td> <td>-2.28e+07</td> <td> 1.41e+06</td>\n",
              "</tr>\n",
              "<tr>\n",
              "  <th>runtime_new</th>      <td> 1.036e+07</td> <td> 8.08e+06</td> <td>    1.282</td> <td> 0.200</td> <td>-5.51e+06</td> <td> 2.62e+07</td>\n",
              "</tr>\n",
              "<tr>\n",
              "  <th>new_budget</th>       <td> 1.185e+06</td> <td> 2.69e+06</td> <td>    0.441</td> <td> 0.660</td> <td> -4.1e+06</td> <td> 6.47e+06</td>\n",
              "</tr>\n",
              "<tr>\n",
              "  <th>metascore_new</th>    <td> 1.374e+06</td> <td> 1.49e+07</td> <td>    0.092</td> <td> 0.927</td> <td>-2.79e+07</td> <td> 3.06e+07</td>\n",
              "</tr>\n",
              "<tr>\n",
              "  <th>photos_new</th>       <td>-4.168e+08</td> <td> 4.66e+07</td> <td>   -8.942</td> <td> 0.000</td> <td>-5.08e+08</td> <td>-3.25e+08</td>\n",
              "</tr>\n",
              "<tr>\n",
              "  <th>videos_new</th>       <td> 8.228e+08</td> <td> 9.16e+07</td> <td>    8.978</td> <td> 0.000</td> <td> 6.43e+08</td> <td>    1e+09</td>\n",
              "</tr>\n",
              "<tr>\n",
              "  <th>trailerdur_new</th>   <td> 4.102e+06</td> <td> 1.05e+07</td> <td>    0.390</td> <td> 0.697</td> <td>-1.66e+07</td> <td> 2.48e+07</td>\n",
              "</tr>\n",
              "<tr>\n",
              "  <th>genres_Adventure</th> <td>-1.773e+07</td> <td> 2.38e+07</td> <td>   -0.746</td> <td> 0.456</td> <td>-6.44e+07</td> <td> 2.89e+07</td>\n",
              "</tr>\n",
              "<tr>\n",
              "  <th>genres_Animation</th> <td> 6.547e+07</td> <td> 2.39e+07</td> <td>    2.735</td> <td> 0.006</td> <td> 1.85e+07</td> <td> 1.12e+08</td>\n",
              "</tr>\n",
              "<tr>\n",
              "  <th>genres_Biography</th> <td>-4.441e+07</td> <td> 2.24e+07</td> <td>   -1.982</td> <td> 0.048</td> <td>-8.84e+07</td> <td>-4.06e+05</td>\n",
              "</tr>\n",
              "<tr>\n",
              "  <th>genres_Comedy</th>    <td>-1.551e+07</td> <td> 1.98e+07</td> <td>   -0.784</td> <td> 0.433</td> <td>-5.43e+07</td> <td> 2.33e+07</td>\n",
              "</tr>\n",
              "<tr>\n",
              "  <th>genres_Crime</th>     <td>-5.973e+07</td> <td> 2.13e+07</td> <td>   -2.807</td> <td> 0.005</td> <td>-1.02e+08</td> <td>-1.79e+07</td>\n",
              "</tr>\n",
              "<tr>\n",
              "  <th>genres_Drama</th>     <td>-2.677e+07</td> <td> 1.74e+07</td> <td>   -1.535</td> <td> 0.125</td> <td> -6.1e+07</td> <td> 7.47e+06</td>\n",
              "</tr>\n",
              "<tr>\n",
              "  <th>genres_Other</th>     <td> -5.61e+07</td> <td> 3.09e+07</td> <td>   -1.814</td> <td> 0.070</td> <td>-1.17e+08</td> <td> 4.62e+06</td>\n",
              "</tr>\n",
              "<tr>\n",
              "  <th>month_February</th>   <td> -4.46e+07</td> <td> 2.13e+07</td> <td>   -2.094</td> <td> 0.037</td> <td>-8.64e+07</td> <td>-2.79e+06</td>\n",
              "</tr>\n",
              "<tr>\n",
              "  <th>month_January</th>    <td>-4.272e+07</td> <td> 2.28e+07</td> <td>   -1.870</td> <td> 0.062</td> <td>-8.76e+07</td> <td> 2.14e+06</td>\n",
              "</tr>\n",
              "<tr>\n",
              "  <th>month_March</th>      <td>-5.106e+07</td> <td> 2.29e+07</td> <td>   -2.229</td> <td> 0.026</td> <td> -9.6e+07</td> <td>-6.08e+06</td>\n",
              "</tr>\n",
              "<tr>\n",
              "  <th>month_October</th>    <td>-7.024e+07</td> <td> 2.26e+07</td> <td>   -3.113</td> <td> 0.002</td> <td>-1.15e+08</td> <td>-2.59e+07</td>\n",
              "</tr>\n",
              "<tr>\n",
              "  <th>month_Other</th>      <td>-4.923e+07</td> <td> 1.75e+07</td> <td>   -2.816</td> <td> 0.005</td> <td>-8.36e+07</td> <td>-1.49e+07</td>\n",
              "</tr>\n",
              "<tr>\n",
              "  <th>total_reviews</th>    <td>  2.29e+07</td> <td> 3.36e+06</td> <td>    6.811</td> <td> 0.000</td> <td> 1.63e+07</td> <td> 2.95e+07</td>\n",
              "</tr>\n",
              "<tr>\n",
              "  <th>total_documents</th>  <td>  4.06e+08</td> <td>  4.6e+07</td> <td>    8.825</td> <td> 0.000</td> <td> 3.16e+08</td> <td> 4.96e+08</td>\n",
              "</tr>\n",
              "<tr>\n",
              "  <th>meta_rating</th>      <td> -1.15e+06</td> <td> 9.33e+06</td> <td>   -0.123</td> <td> 0.902</td> <td>-1.95e+07</td> <td> 1.72e+07</td>\n",
              "</tr>\n",
              "<tr>\n",
              "  <th>star_dir_comp</th>    <td> 1.382e+06</td> <td>  7.8e+04</td> <td>   17.714</td> <td> 0.000</td> <td> 1.23e+06</td> <td> 1.54e+06</td>\n",
              "</tr>\n",
              "</table>\n",
              "<table class=\"simpletable\">\n",
              "<tr>\n",
              "  <th>Omnibus:</th>       <td>519.891</td> <th>  Durbin-Watson:     </th> <td>   2.004</td> \n",
              "</tr>\n",
              "<tr>\n",
              "  <th>Prob(Omnibus):</th> <td> 0.000</td>  <th>  Jarque-Bera (JB):  </th> <td>24678.740</td>\n",
              "</tr>\n",
              "<tr>\n",
              "  <th>Skew:</th>          <td> 2.789</td>  <th>  Prob(JB):          </th> <td>    0.00</td> \n",
              "</tr>\n",
              "<tr>\n",
              "  <th>Kurtosis:</th>      <td>31.548</td>  <th>  Cond. No.          </th> <td>1.00e+16</td> \n",
              "</tr>\n",
              "</table><br/><br/>Warnings:<br/>[1] Standard Errors assume that the covariance matrix of the errors is correctly specified.<br/>[2] The smallest eigenvalue is 2.77e-23. This might indicate that there are<br/>strong multicollinearity problems or that the design matrix is singular."
            ],
            "text/plain": [
              "<class 'statsmodels.iolib.summary.Summary'>\n",
              "\"\"\"\n",
              "                                 OLS Regression Results                                \n",
              "=======================================================================================\n",
              "Dep. Variable:                gross_x   R-squared (uncentered):                   0.789\n",
              "Model:                            OLS   Adj. R-squared (uncentered):              0.780\n",
              "Method:                 Least Squares   F-statistic:                              93.00\n",
              "Date:                Wed, 23 Feb 2022   Prob (F-statistic):                   1.13e-206\n",
              "Time:                        08:21:21   Log-Likelihood:                         -14084.\n",
              "No. Observations:                 700   AIC:                                  2.822e+04\n",
              "Df Residuals:                     673   BIC:                                  2.834e+04\n",
              "Df Model:                          27                                                  \n",
              "Covariance Type:            nonrobust                                                  \n",
              "====================================================================================\n",
              "                       coef    std err          t      P>|t|      [0.025      0.975]\n",
              "------------------------------------------------------------------------------------\n",
              "year              4.276e+04   1.44e+04      2.963      0.003    1.44e+04    7.11e+04\n",
              "star_new         -1.153e+07   4.01e+06     -2.873      0.004   -1.94e+07   -3.65e+06\n",
              "director_new     -1.392e+07   3.97e+06     -3.504      0.000   -2.17e+07   -6.12e+06\n",
              "company_new      -1.238e+07   2.68e+06     -4.623      0.000   -1.76e+07   -7.12e+06\n",
              "rating_new       -2.928e+06   2.51e+07     -0.117      0.907   -5.22e+07    4.64e+07\n",
              "cr_reviews_new    3.357e+07   7.52e+06      4.466      0.000    1.88e+07    4.83e+07\n",
              "ur_reviews_new   -1.067e+07   6.15e+06     -1.735      0.083   -2.28e+07    1.41e+06\n",
              "runtime_new       1.036e+07   8.08e+06      1.282      0.200   -5.51e+06    2.62e+07\n",
              "new_budget        1.185e+06   2.69e+06      0.441      0.660    -4.1e+06    6.47e+06\n",
              "metascore_new     1.374e+06   1.49e+07      0.092      0.927   -2.79e+07    3.06e+07\n",
              "photos_new       -4.168e+08   4.66e+07     -8.942      0.000   -5.08e+08   -3.25e+08\n",
              "videos_new        8.228e+08   9.16e+07      8.978      0.000    6.43e+08       1e+09\n",
              "trailerdur_new    4.102e+06   1.05e+07      0.390      0.697   -1.66e+07    2.48e+07\n",
              "genres_Adventure -1.773e+07   2.38e+07     -0.746      0.456   -6.44e+07    2.89e+07\n",
              "genres_Animation  6.547e+07   2.39e+07      2.735      0.006    1.85e+07    1.12e+08\n",
              "genres_Biography -4.441e+07   2.24e+07     -1.982      0.048   -8.84e+07   -4.06e+05\n",
              "genres_Comedy    -1.551e+07   1.98e+07     -0.784      0.433   -5.43e+07    2.33e+07\n",
              "genres_Crime     -5.973e+07   2.13e+07     -2.807      0.005   -1.02e+08   -1.79e+07\n",
              "genres_Drama     -2.677e+07   1.74e+07     -1.535      0.125    -6.1e+07    7.47e+06\n",
              "genres_Other      -5.61e+07   3.09e+07     -1.814      0.070   -1.17e+08    4.62e+06\n",
              "month_February    -4.46e+07   2.13e+07     -2.094      0.037   -8.64e+07   -2.79e+06\n",
              "month_January    -4.272e+07   2.28e+07     -1.870      0.062   -8.76e+07    2.14e+06\n",
              "month_March      -5.106e+07   2.29e+07     -2.229      0.026    -9.6e+07   -6.08e+06\n",
              "month_October    -7.024e+07   2.26e+07     -3.113      0.002   -1.15e+08   -2.59e+07\n",
              "month_Other      -4.923e+07   1.75e+07     -2.816      0.005   -8.36e+07   -1.49e+07\n",
              "total_reviews      2.29e+07   3.36e+06      6.811      0.000    1.63e+07    2.95e+07\n",
              "total_documents    4.06e+08    4.6e+07      8.825      0.000    3.16e+08    4.96e+08\n",
              "meta_rating       -1.15e+06   9.33e+06     -0.123      0.902   -1.95e+07    1.72e+07\n",
              "star_dir_comp     1.382e+06    7.8e+04     17.714      0.000    1.23e+06    1.54e+06\n",
              "==============================================================================\n",
              "Omnibus:                      519.891   Durbin-Watson:                   2.004\n",
              "Prob(Omnibus):                  0.000   Jarque-Bera (JB):            24678.740\n",
              "Skew:                           2.789   Prob(JB):                         0.00\n",
              "Kurtosis:                      31.548   Cond. No.                     1.00e+16\n",
              "==============================================================================\n",
              "\n",
              "Warnings:\n",
              "[1] Standard Errors assume that the covariance matrix of the errors is correctly specified.\n",
              "[2] The smallest eigenvalue is 2.77e-23. This might indicate that there are\n",
              "strong multicollinearity problems or that the design matrix is singular.\n",
              "\"\"\""
            ]
          },
          "metadata": {},
          "execution_count": 235
        }
      ],
      "source": [
        "model1=lm1.fit()\n",
        "model1.summary()"
      ],
      "id": "_apPijv_l2bq"
    },
    {
      "cell_type": "code",
      "execution_count": 236,
      "metadata": {
        "colab": {
          "base_uri": "https://localhost:8080/"
        },
        "id": "nG1UiLMVn8cP",
        "outputId": "a89b4f20-7630-4901-bed1-cb8bf1e63ce7"
      },
      "outputs": [
        {
          "output_type": "execute_result",
          "data": {
            "text/plain": [
              "8.283799442716034e+16"
            ]
          },
          "metadata": {},
          "execution_count": 236
        }
      ],
      "source": [
        "model1.mse_total"
      ],
      "id": "nG1UiLMVn8cP"
    },
    {
      "cell_type": "code",
      "execution_count": 237,
      "metadata": {
        "id": "gcBEL0R1l2bq"
      },
      "outputs": [],
      "source": [
        "lm2=LinearRegression()\n",
        "model2=lm2.fit(X_train, y_train)"
      ],
      "id": "gcBEL0R1l2bq"
    },
    {
      "cell_type": "code",
      "execution_count": 238,
      "metadata": {
        "colab": {
          "base_uri": "https://localhost:8080/"
        },
        "id": "KCq9EYORn8cP",
        "outputId": "76c9b5c3-7ace-46a6-8225-0a7e28ecba76"
      },
      "outputs": [
        {
          "output_type": "execute_result",
          "data": {
            "text/plain": [
              "1.69370365251217e+18"
            ]
          },
          "metadata": {},
          "execution_count": 238
        }
      ],
      "source": [
        "model1.mse_model"
      ],
      "id": "KCq9EYORn8cP"
    },
    {
      "cell_type": "code",
      "execution_count": 239,
      "metadata": {
        "id": "XhZGf0Wfl2bq",
        "outputId": "60f47f16-0a1f-48f5-fed3-e187f967b1cc",
        "colab": {
          "base_uri": "https://localhost:8080/"
        }
      },
      "outputs": [
        {
          "output_type": "execute_result",
          "data": {
            "text/plain": [
              "1101660046.2646098"
            ]
          },
          "metadata": {},
          "execution_count": 239
        }
      ],
      "source": [
        "model2.intercept_"
      ],
      "id": "XhZGf0Wfl2bq"
    },
    {
      "cell_type": "code",
      "execution_count": 240,
      "metadata": {
        "colab": {
          "base_uri": "https://localhost:8080/"
        },
        "id": "Wr1DltXdn8cP",
        "outputId": "331d9c7d-4787-4a68-e221-82c2bc9be19f"
      },
      "outputs": [
        {
          "output_type": "execute_result",
          "data": {
            "text/plain": [
              "1.8211883330139136e+16"
            ]
          },
          "metadata": {},
          "execution_count": 240
        }
      ],
      "source": [
        "model1.mse_resid"
      ],
      "id": "Wr1DltXdn8cP"
    },
    {
      "cell_type": "code",
      "execution_count": null,
      "metadata": {
        "id": "ko5GegnIl2br"
      },
      "outputs": [],
      "source": [
        "#model.coef_"
      ],
      "id": "ko5GegnIl2br"
    },
    {
      "cell_type": "code",
      "execution_count": 241,
      "metadata": {
        "id": "CDVkj0eIl2br",
        "outputId": "d97c5768-aa53-47fd-e018-2979bbb317d3",
        "colab": {
          "base_uri": "https://localhost:8080/"
        }
      },
      "outputs": [
        {
          "output_type": "execute_result",
          "data": {
            "text/plain": [
              "198580875.74674731"
            ]
          },
          "metadata": {},
          "execution_count": 241
        }
      ],
      "source": [
        "np.sqrt(-cross_val_score(model2,X_test,y_test,cv=5,scoring=\"neg_mean_squared_error\")).mean()"
      ],
      "id": "CDVkj0eIl2br"
    },
    {
      "cell_type": "code",
      "execution_count": 242,
      "metadata": {
        "id": "CCkfmVEal2br",
        "outputId": "bcb4fd6d-ffc8-4767-e2f3-e4e82b88aea3",
        "colab": {
          "base_uri": "https://localhost:8080/"
        }
      },
      "outputs": [
        {
          "output_type": "execute_result",
          "data": {
            "text/plain": [
              "0.5199222321550826"
            ]
          },
          "metadata": {},
          "execution_count": 242
        }
      ],
      "source": [
        "cross_val_score(model2,X_test,y_test,cv=5,scoring=\"r2\").mean()"
      ],
      "id": "CCkfmVEal2br"
    },
    {
      "cell_type": "code",
      "execution_count": 245,
      "metadata": {
        "colab": {
          "base_uri": "https://localhost:8080/"
        },
        "id": "2WdRj7onn8cQ",
        "outputId": "4171c521-6461-4001-9c4b-64f976c804b8"
      },
      "outputs": [
        {
          "output_type": "execute_result",
          "data": {
            "text/plain": [
              "array([0.19057782, 0.58538382, 0.59933981, 0.47871364, 0.74559607])"
            ]
          },
          "metadata": {},
          "execution_count": 245
        }
      ],
      "source": [
        "cross_val_score(model2,X_test,y_test,cv=5,scoring=\"r2\")"
      ],
      "id": "2WdRj7onn8cQ"
    },
    {
      "cell_type": "markdown",
      "metadata": {
        "id": "gbR6tYE4l2br"
      },
      "source": [
        "# LASSO"
      ],
      "id": "gbR6tYE4l2br"
    },
    {
      "cell_type": "code",
      "execution_count": 246,
      "metadata": {
        "id": "mmuVSrQol2br",
        "outputId": "c2a5b579-b57a-4503-e6c0-1a7f4613b0ef",
        "colab": {
          "base_uri": "https://localhost:8080/"
        }
      },
      "outputs": [
        {
          "output_type": "execute_result",
          "data": {
            "text/plain": [
              "StandardScaler()"
            ]
          },
          "metadata": {},
          "execution_count": 246
        }
      ],
      "source": [
        "std = StandardScaler()\n",
        "std.fit(X_train.values)"
      ],
      "id": "mmuVSrQol2br"
    },
    {
      "cell_type": "code",
      "execution_count": 247,
      "metadata": {
        "id": "a8fb5rAPl2br"
      },
      "outputs": [],
      "source": [
        "X_tr = std.transform(X_train.values)\n",
        "X_te = std.transform(X_test.values)"
      ],
      "id": "a8fb5rAPl2br"
    },
    {
      "cell_type": "code",
      "execution_count": 248,
      "metadata": {
        "id": "1yhxQwiyl2br",
        "colab": {
          "base_uri": "https://localhost:8080/"
        },
        "outputId": "c3325aed-fffb-46ea-d531-d0295997040a"
      },
      "outputs": [
        {
          "output_type": "stream",
          "name": "stderr",
          "text": [
            "/usr/local/lib/python3.7/dist-packages/sklearn/linear_model/_base.py:155: FutureWarning: 'normalize' was deprecated in version 1.0 and will be removed in 1.2. Please leave the normalize parameter to its default value to silence this warning. The default behavior of this estimator is to not do any normalization. If normalization is needed please use sklearn.preprocessing.StandardScaler instead.\n",
            "  FutureWarning,\n"
          ]
        }
      ],
      "source": [
        "from sklearn.linear_model import RidgeCV\n",
        "lambdalar = 10**np.linspace(10,-2,100)*0.5 \n",
        "lasso_cv = LassoCV(alphas = lambdalar, \n",
        "                   normalize = False,\n",
        "                   cv=5)\n",
        "#print(lambdalar)\n",
        "lasso_model = lasso_cv.fit(X_tr, y_train)"
      ],
      "id": "1yhxQwiyl2br"
    },
    {
      "cell_type": "code",
      "execution_count": 249,
      "metadata": {
        "id": "yTfqYKq5l2br"
      },
      "outputs": [],
      "source": [
        "lasso_tuned = Lasso(alpha = lasso_model.alpha_,).fit(X_tr,y_train)"
      ],
      "id": "yTfqYKq5l2br"
    },
    {
      "cell_type": "code",
      "execution_count": 250,
      "metadata": {
        "id": "JJbQWNW5l2bs",
        "outputId": "7cde5e86-804f-4c15-b147-410b5ec9cbff",
        "colab": {
          "base_uri": "https://localhost:8080/"
        }
      },
      "outputs": [
        {
          "output_type": "execute_result",
          "data": {
            "text/plain": [
              "[('year', -10845485.536417115),\n",
              " ('star_new', -25117176.01611355),\n",
              " ('director_new', -30626989.58763132),\n",
              " ('company_new', -36077553.439308286),\n",
              " ('rating_new', -1600092.9430981781),\n",
              " ('cr_reviews_new', 33518073.17200368),\n",
              " ('ur_reviews_new', 0.0),\n",
              " ('runtime_new', 8408711.572477674),\n",
              " ('new_budget', 6527146.420119322),\n",
              " ('metascore_new', -0.0),\n",
              " ('photos_new', -7573331.9314920055),\n",
              " ('videos_new', 46141519.443726875),\n",
              " ('trailerdur_new', 1783989.0954049171),\n",
              " ('genres_Adventure', -4109194.811004783),\n",
              " ('genres_Animation', 20347093.717993125),\n",
              " ('genres_Biography', -11293453.508547843),\n",
              " ('genres_Comedy', -4319894.033194619),\n",
              " ('genres_Crime', -17505894.222079474),\n",
              " ('genres_Drama', -10222221.941096058),\n",
              " ('genres_Other', -10797115.050593553),\n",
              " ('month_February', -13217478.340109685),\n",
              " ('month_January', -11066381.858891435),\n",
              " ('month_March', -13127712.114659308),\n",
              " ('month_October', -18664390.676943354),\n",
              " ('month_Other', -20875016.669651136),\n",
              " ('total_reviews', 20826759.705489773),\n",
              " ('total_documents', -0.0),\n",
              " ('meta_rating', -3377531.2205952196),\n",
              " ('star_dir_comp', 237466449.74708772)]"
            ]
          },
          "metadata": {},
          "execution_count": 250
        }
      ],
      "source": [
        "list(zip(X_train.columns, lasso_tuned.coef_))"
      ],
      "id": "JJbQWNW5l2bs"
    },
    {
      "cell_type": "code",
      "execution_count": 251,
      "metadata": {
        "id": "h-bTbWkfl2bs",
        "outputId": "ce93dafb-6bb6-4802-d390-a5898a3235f3",
        "colab": {
          "base_uri": "https://localhost:8080/"
        }
      },
      "outputs": [
        {
          "output_type": "execute_result",
          "data": {
            "text/plain": [
              "169382102.38240543"
            ]
          },
          "metadata": {},
          "execution_count": 251
        }
      ],
      "source": [
        "np.sqrt(mean_squared_error(y_test, lasso_tuned.predict(X_te)))"
      ],
      "id": "h-bTbWkfl2bs"
    },
    {
      "cell_type": "code",
      "execution_count": 252,
      "metadata": {
        "id": "iyDCrYvLl2bs",
        "outputId": "7ef24a3f-28e3-4392-f247-5f1a14bd5c0b",
        "colab": {
          "base_uri": "https://localhost:8080/"
        }
      },
      "outputs": [
        {
          "output_type": "execute_result",
          "data": {
            "text/plain": [
              "0.7088665728398277"
            ]
          },
          "metadata": {},
          "execution_count": 252
        }
      ],
      "source": [
        "r2_score(y_test, lasso_tuned.predict(X_te))"
      ],
      "id": "iyDCrYvLl2bs"
    },
    {
      "cell_type": "markdown",
      "metadata": {
        "id": "GMfHGvWHl2bs"
      },
      "source": [
        "# RIDGE"
      ],
      "id": "GMfHGvWHl2bs"
    },
    {
      "cell_type": "code",
      "execution_count": null,
      "metadata": {
        "id": "tVw1855Ql2bs"
      },
      "outputs": [],
      "source": [
        "from sklearn.linear_model import RidgeCV\n",
        "lambdalar = 10**np.linspace(10,-2,100)*0.5 \n",
        "ridge_cv = RidgeCV(alphas = lambdalar, \n",
        "                   scoring = \"neg_mean_squared_error\",\n",
        "                   normalize = False,\n",
        "                   cv=5)\n",
        "#print(lambdalar)\n",
        "ridge_model = ridge_cv.fit(X_tr, y_train)"
      ],
      "id": "tVw1855Ql2bs"
    },
    {
      "cell_type": "code",
      "execution_count": 255,
      "metadata": {
        "colab": {
          "base_uri": "https://localhost:8080/"
        },
        "id": "u5Pbm3yTn8cR",
        "outputId": "fefb24a7-a4fa-4dd0-9d3c-55f795f1b922"
      },
      "outputs": [
        {
          "output_type": "execute_result",
          "data": {
            "text/plain": [
              "0.005"
            ]
          },
          "metadata": {},
          "execution_count": 255
        }
      ],
      "source": [
        "ridge_model.alpha_"
      ],
      "id": "u5Pbm3yTn8cR"
    },
    {
      "cell_type": "code",
      "execution_count": 256,
      "metadata": {
        "id": "S9xN_YaTl2bs"
      },
      "outputs": [],
      "source": [
        "ridge_tuned = Ridge(alpha = ridge_model.alpha_).fit(X_tr,y_train)"
      ],
      "id": "S9xN_YaTl2bs"
    },
    {
      "cell_type": "code",
      "execution_count": 257,
      "metadata": {
        "id": "5jsc28T6l2bs",
        "outputId": "f728c429-204b-48e3-897e-4bc79c9d5fef",
        "colab": {
          "base_uri": "https://localhost:8080/"
        }
      },
      "outputs": [
        {
          "output_type": "execute_result",
          "data": {
            "text/plain": [
              "[('year', -11899302.10799513),\n",
              " ('star_new', -26769250.143095795),\n",
              " ('director_new', -32637245.599655204),\n",
              " ('company_new', -37551378.03967808),\n",
              " ('rating_new', -975771.9836758978),\n",
              " ('cr_reviews_new', 35400127.113286234),\n",
              " ('ur_reviews_new', 4058542.797941293),\n",
              " ('runtime_new', 8834234.770003349),\n",
              " ('new_budget', 6588805.851630631),\n",
              " ('metascore_new', 1774719.9500015208),\n",
              " ('photos_new', -6135282.326644896),\n",
              " ('videos_new', 46420304.63561672),\n",
              " ('trailerdur_new', 2296516.209567288),\n",
              " ('genres_Adventure', -5196605.370224206),\n",
              " ('genres_Animation', 20474261.09119803),\n",
              " ('genres_Biography', -11935866.323314885),\n",
              " ('genres_Comedy', -5198755.04193364),\n",
              " ('genres_Crime', -18497197.08588969),\n",
              " ('genres_Drama', -11563096.077406026),\n",
              " ('genres_Other', -11739949.10678084),\n",
              " ('month_February', -15006705.14982916),\n",
              " ('month_January', -12822955.529421106),\n",
              " ('month_March', -14816281.995051622),\n",
              " ('month_October', -20392896.12797374),\n",
              " ('month_Other', -23533582.169685025),\n",
              " ('total_reviews', 17118847.453327753),\n",
              " ('total_documents', -2111851.962172215),\n",
              " ('meta_rating', -6073047.185326012),\n",
              " ('star_dir_comp', 240856203.61734143)]"
            ]
          },
          "metadata": {},
          "execution_count": 257
        }
      ],
      "source": [
        "list(zip(X_train.columns, ridge_tuned.coef_))"
      ],
      "id": "5jsc28T6l2bs"
    },
    {
      "cell_type": "code",
      "execution_count": 258,
      "metadata": {
        "id": "3PW5Lo4ul2bt",
        "outputId": "bbdc30a8-a97a-4df6-f4cf-4499a7fcd7be",
        "colab": {
          "base_uri": "https://localhost:8080/"
        }
      },
      "outputs": [
        {
          "output_type": "execute_result",
          "data": {
            "text/plain": [
              "169316040.822013"
            ]
          },
          "metadata": {},
          "execution_count": 258
        }
      ],
      "source": [
        "np.sqrt(mean_squared_error(y_test, ridge_tuned.predict(X_te)))"
      ],
      "id": "3PW5Lo4ul2bt"
    },
    {
      "cell_type": "code",
      "execution_count": 259,
      "metadata": {
        "id": "3jozLwjDl2bt",
        "outputId": "11c2d2ad-6051-4564-e6da-fc9bbef436e2",
        "colab": {
          "base_uri": "https://localhost:8080/"
        }
      },
      "outputs": [
        {
          "output_type": "execute_result",
          "data": {
            "text/plain": [
              "0.7090936213612932"
            ]
          },
          "metadata": {},
          "execution_count": 259
        }
      ],
      "source": [
        "r2_score(y_test, ridge_tuned.predict(X_te))"
      ],
      "id": "3jozLwjDl2bt"
    },
    {
      "cell_type": "code",
      "execution_count": 260,
      "metadata": {
        "id": "YI1otjiJl2bt",
        "colab": {
          "base_uri": "https://localhost:8080/",
          "height": 990
        },
        "outputId": "6d70217b-6f75-4377-a602-369ec91212b0"
      },
      "outputs": [
        {
          "output_type": "execute_result",
          "data": {
            "text/html": [
              "\n",
              "  <div id=\"df-c97f5d6b-f9f3-4423-bb14-7114108cbc4e\">\n",
              "    <div class=\"colab-df-container\">\n",
              "      <div>\n",
              "<style scoped>\n",
              "    .dataframe tbody tr th:only-of-type {\n",
              "        vertical-align: middle;\n",
              "    }\n",
              "\n",
              "    .dataframe tbody tr th {\n",
              "        vertical-align: top;\n",
              "    }\n",
              "\n",
              "    .dataframe thead th {\n",
              "        text-align: right;\n",
              "    }\n",
              "</style>\n",
              "<table border=\"1\" class=\"dataframe\">\n",
              "  <thead>\n",
              "    <tr style=\"text-align: right;\">\n",
              "      <th></th>\n",
              "      <th>Ridge Importance</th>\n",
              "    </tr>\n",
              "    <tr>\n",
              "      <th>feature</th>\n",
              "      <th></th>\n",
              "    </tr>\n",
              "  </thead>\n",
              "  <tbody>\n",
              "    <tr>\n",
              "      <th>star_dir_comp</th>\n",
              "      <td>240856203.62</td>\n",
              "    </tr>\n",
              "    <tr>\n",
              "      <th>videos_new</th>\n",
              "      <td>46420304.64</td>\n",
              "    </tr>\n",
              "    <tr>\n",
              "      <th>company_new</th>\n",
              "      <td>-37551378.04</td>\n",
              "    </tr>\n",
              "    <tr>\n",
              "      <th>cr_reviews_new</th>\n",
              "      <td>35400127.11</td>\n",
              "    </tr>\n",
              "    <tr>\n",
              "      <th>director_new</th>\n",
              "      <td>-32637245.60</td>\n",
              "    </tr>\n",
              "    <tr>\n",
              "      <th>star_new</th>\n",
              "      <td>-26769250.14</td>\n",
              "    </tr>\n",
              "    <tr>\n",
              "      <th>month_Other</th>\n",
              "      <td>-23533582.17</td>\n",
              "    </tr>\n",
              "    <tr>\n",
              "      <th>genres_Animation</th>\n",
              "      <td>20474261.09</td>\n",
              "    </tr>\n",
              "    <tr>\n",
              "      <th>month_October</th>\n",
              "      <td>-20392896.13</td>\n",
              "    </tr>\n",
              "    <tr>\n",
              "      <th>genres_Crime</th>\n",
              "      <td>-18497197.09</td>\n",
              "    </tr>\n",
              "    <tr>\n",
              "      <th>total_reviews</th>\n",
              "      <td>17118847.45</td>\n",
              "    </tr>\n",
              "    <tr>\n",
              "      <th>month_February</th>\n",
              "      <td>-15006705.15</td>\n",
              "    </tr>\n",
              "    <tr>\n",
              "      <th>month_March</th>\n",
              "      <td>-14816282.00</td>\n",
              "    </tr>\n",
              "    <tr>\n",
              "      <th>month_January</th>\n",
              "      <td>-12822955.53</td>\n",
              "    </tr>\n",
              "    <tr>\n",
              "      <th>genres_Biography</th>\n",
              "      <td>-11935866.32</td>\n",
              "    </tr>\n",
              "    <tr>\n",
              "      <th>year</th>\n",
              "      <td>-11899302.11</td>\n",
              "    </tr>\n",
              "    <tr>\n",
              "      <th>genres_Other</th>\n",
              "      <td>-11739949.11</td>\n",
              "    </tr>\n",
              "    <tr>\n",
              "      <th>genres_Drama</th>\n",
              "      <td>-11563096.08</td>\n",
              "    </tr>\n",
              "    <tr>\n",
              "      <th>runtime_new</th>\n",
              "      <td>8834234.77</td>\n",
              "    </tr>\n",
              "    <tr>\n",
              "      <th>new_budget</th>\n",
              "      <td>6588805.85</td>\n",
              "    </tr>\n",
              "    <tr>\n",
              "      <th>photos_new</th>\n",
              "      <td>-6135282.33</td>\n",
              "    </tr>\n",
              "    <tr>\n",
              "      <th>meta_rating</th>\n",
              "      <td>-6073047.19</td>\n",
              "    </tr>\n",
              "    <tr>\n",
              "      <th>genres_Comedy</th>\n",
              "      <td>-5198755.04</td>\n",
              "    </tr>\n",
              "    <tr>\n",
              "      <th>genres_Adventure</th>\n",
              "      <td>-5196605.37</td>\n",
              "    </tr>\n",
              "    <tr>\n",
              "      <th>ur_reviews_new</th>\n",
              "      <td>4058542.80</td>\n",
              "    </tr>\n",
              "    <tr>\n",
              "      <th>trailerdur_new</th>\n",
              "      <td>2296516.21</td>\n",
              "    </tr>\n",
              "    <tr>\n",
              "      <th>total_documents</th>\n",
              "      <td>-2111851.96</td>\n",
              "    </tr>\n",
              "    <tr>\n",
              "      <th>metascore_new</th>\n",
              "      <td>1774719.95</td>\n",
              "    </tr>\n",
              "    <tr>\n",
              "      <th>rating_new</th>\n",
              "      <td>-975771.98</td>\n",
              "    </tr>\n",
              "  </tbody>\n",
              "</table>\n",
              "</div>\n",
              "      <button class=\"colab-df-convert\" onclick=\"convertToInteractive('df-c97f5d6b-f9f3-4423-bb14-7114108cbc4e')\"\n",
              "              title=\"Convert this dataframe to an interactive table.\"\n",
              "              style=\"display:none;\">\n",
              "        \n",
              "  <svg xmlns=\"http://www.w3.org/2000/svg\" height=\"24px\"viewBox=\"0 0 24 24\"\n",
              "       width=\"24px\">\n",
              "    <path d=\"M0 0h24v24H0V0z\" fill=\"none\"/>\n",
              "    <path d=\"M18.56 5.44l.94 2.06.94-2.06 2.06-.94-2.06-.94-.94-2.06-.94 2.06-2.06.94zm-11 1L8.5 8.5l.94-2.06 2.06-.94-2.06-.94L8.5 2.5l-.94 2.06-2.06.94zm10 10l.94 2.06.94-2.06 2.06-.94-2.06-.94-.94-2.06-.94 2.06-2.06.94z\"/><path d=\"M17.41 7.96l-1.37-1.37c-.4-.4-.92-.59-1.43-.59-.52 0-1.04.2-1.43.59L10.3 9.45l-7.72 7.72c-.78.78-.78 2.05 0 2.83L4 21.41c.39.39.9.59 1.41.59.51 0 1.02-.2 1.41-.59l7.78-7.78 2.81-2.81c.8-.78.8-2.07 0-2.86zM5.41 20L4 18.59l7.72-7.72 1.47 1.35L5.41 20z\"/>\n",
              "  </svg>\n",
              "      </button>\n",
              "      \n",
              "  <style>\n",
              "    .colab-df-container {\n",
              "      display:flex;\n",
              "      flex-wrap:wrap;\n",
              "      gap: 12px;\n",
              "    }\n",
              "\n",
              "    .colab-df-convert {\n",
              "      background-color: #E8F0FE;\n",
              "      border: none;\n",
              "      border-radius: 50%;\n",
              "      cursor: pointer;\n",
              "      display: none;\n",
              "      fill: #1967D2;\n",
              "      height: 32px;\n",
              "      padding: 0 0 0 0;\n",
              "      width: 32px;\n",
              "    }\n",
              "\n",
              "    .colab-df-convert:hover {\n",
              "      background-color: #E2EBFA;\n",
              "      box-shadow: 0px 1px 2px rgba(60, 64, 67, 0.3), 0px 1px 3px 1px rgba(60, 64, 67, 0.15);\n",
              "      fill: #174EA6;\n",
              "    }\n",
              "\n",
              "    [theme=dark] .colab-df-convert {\n",
              "      background-color: #3B4455;\n",
              "      fill: #D2E3FC;\n",
              "    }\n",
              "\n",
              "    [theme=dark] .colab-df-convert:hover {\n",
              "      background-color: #434B5C;\n",
              "      box-shadow: 0px 1px 3px 1px rgba(0, 0, 0, 0.15);\n",
              "      filter: drop-shadow(0px 1px 2px rgba(0, 0, 0, 0.3));\n",
              "      fill: #FFFFFF;\n",
              "    }\n",
              "  </style>\n",
              "\n",
              "      <script>\n",
              "        const buttonEl =\n",
              "          document.querySelector('#df-c97f5d6b-f9f3-4423-bb14-7114108cbc4e button.colab-df-convert');\n",
              "        buttonEl.style.display =\n",
              "          google.colab.kernel.accessAllowed ? 'block' : 'none';\n",
              "\n",
              "        async function convertToInteractive(key) {\n",
              "          const element = document.querySelector('#df-c97f5d6b-f9f3-4423-bb14-7114108cbc4e');\n",
              "          const dataTable =\n",
              "            await google.colab.kernel.invokeFunction('convertToInteractive',\n",
              "                                                     [key], {});\n",
              "          if (!dataTable) return;\n",
              "\n",
              "          const docLinkHtml = 'Like what you see? Visit the ' +\n",
              "            '<a target=\"_blank\" href=https://colab.research.google.com/notebooks/data_table.ipynb>data table notebook</a>'\n",
              "            + ' to learn more about interactive tables.';\n",
              "          element.innerHTML = '';\n",
              "          dataTable['output_type'] = 'display_data';\n",
              "          await google.colab.output.renderOutput(dataTable, element);\n",
              "          const docLink = document.createElement('div');\n",
              "          docLink.innerHTML = docLinkHtml;\n",
              "          element.appendChild(docLink);\n",
              "        }\n",
              "      </script>\n",
              "    </div>\n",
              "  </div>\n",
              "  "
            ],
            "text/plain": [
              "                  Ridge Importance\n",
              "feature                           \n",
              "star_dir_comp         240856203.62\n",
              "videos_new             46420304.64\n",
              "company_new           -37551378.04\n",
              "cr_reviews_new         35400127.11\n",
              "director_new          -32637245.60\n",
              "star_new              -26769250.14\n",
              "month_Other           -23533582.17\n",
              "genres_Animation       20474261.09\n",
              "month_October         -20392896.13\n",
              "genres_Crime          -18497197.09\n",
              "total_reviews          17118847.45\n",
              "month_February        -15006705.15\n",
              "month_March           -14816282.00\n",
              "month_January         -12822955.53\n",
              "genres_Biography      -11935866.32\n",
              "year                  -11899302.11\n",
              "genres_Other          -11739949.11\n",
              "genres_Drama          -11563096.08\n",
              "runtime_new             8834234.77\n",
              "new_budget              6588805.85\n",
              "photos_new             -6135282.33\n",
              "meta_rating            -6073047.19\n",
              "genres_Comedy          -5198755.04\n",
              "genres_Adventure       -5196605.37\n",
              "ur_reviews_new          4058542.80\n",
              "trailerdur_new          2296516.21\n",
              "total_documents        -2111851.96\n",
              "metascore_new           1774719.95\n",
              "rating_new              -975771.98"
            ]
          },
          "metadata": {},
          "execution_count": 260
        }
      ],
      "source": [
        "importances_ridge = pd.DataFrame({'feature':X_train.columns,'Ridge Importance':np.round(ridge_tuned.coef_,4)})\n",
        "importances_ridge = importances_ridge.iloc[(-np.abs(importances_ridge['Ridge Importance'].values)).argsort()].set_index('feature')\n",
        "importances_ridge"
      ],
      "id": "YI1otjiJl2bt"
    },
    {
      "cell_type": "code",
      "execution_count": 261,
      "metadata": {
        "colab": {
          "base_uri": "https://localhost:8080/",
          "height": 990
        },
        "id": "-qgz6Ljjn8cS",
        "outputId": "60969db9-8b79-4358-dd13-2a2833a06935"
      },
      "outputs": [
        {
          "output_type": "execute_result",
          "data": {
            "text/html": [
              "\n",
              "  <div id=\"df-22846dde-3647-4f64-903f-7908916c1751\">\n",
              "    <div class=\"colab-df-container\">\n",
              "      <div>\n",
              "<style scoped>\n",
              "    .dataframe tbody tr th:only-of-type {\n",
              "        vertical-align: middle;\n",
              "    }\n",
              "\n",
              "    .dataframe tbody tr th {\n",
              "        vertical-align: top;\n",
              "    }\n",
              "\n",
              "    .dataframe thead th {\n",
              "        text-align: right;\n",
              "    }\n",
              "</style>\n",
              "<table border=\"1\" class=\"dataframe\">\n",
              "  <thead>\n",
              "    <tr style=\"text-align: right;\">\n",
              "      <th></th>\n",
              "      <th>Lasso Importance</th>\n",
              "    </tr>\n",
              "    <tr>\n",
              "      <th>feature</th>\n",
              "      <th></th>\n",
              "    </tr>\n",
              "  </thead>\n",
              "  <tbody>\n",
              "    <tr>\n",
              "      <th>star_dir_comp</th>\n",
              "      <td>237466449.75</td>\n",
              "    </tr>\n",
              "    <tr>\n",
              "      <th>videos_new</th>\n",
              "      <td>46141519.44</td>\n",
              "    </tr>\n",
              "    <tr>\n",
              "      <th>company_new</th>\n",
              "      <td>-36077553.44</td>\n",
              "    </tr>\n",
              "    <tr>\n",
              "      <th>cr_reviews_new</th>\n",
              "      <td>33518073.17</td>\n",
              "    </tr>\n",
              "    <tr>\n",
              "      <th>director_new</th>\n",
              "      <td>-30626989.59</td>\n",
              "    </tr>\n",
              "    <tr>\n",
              "      <th>star_new</th>\n",
              "      <td>-25117176.02</td>\n",
              "    </tr>\n",
              "    <tr>\n",
              "      <th>month_Other</th>\n",
              "      <td>-20875016.67</td>\n",
              "    </tr>\n",
              "    <tr>\n",
              "      <th>total_reviews</th>\n",
              "      <td>20826759.71</td>\n",
              "    </tr>\n",
              "    <tr>\n",
              "      <th>genres_Animation</th>\n",
              "      <td>20347093.72</td>\n",
              "    </tr>\n",
              "    <tr>\n",
              "      <th>month_October</th>\n",
              "      <td>-18664390.68</td>\n",
              "    </tr>\n",
              "    <tr>\n",
              "      <th>genres_Crime</th>\n",
              "      <td>-17505894.22</td>\n",
              "    </tr>\n",
              "    <tr>\n",
              "      <th>month_February</th>\n",
              "      <td>-13217478.34</td>\n",
              "    </tr>\n",
              "    <tr>\n",
              "      <th>month_March</th>\n",
              "      <td>-13127712.11</td>\n",
              "    </tr>\n",
              "    <tr>\n",
              "      <th>genres_Biography</th>\n",
              "      <td>-11293453.51</td>\n",
              "    </tr>\n",
              "    <tr>\n",
              "      <th>month_January</th>\n",
              "      <td>-11066381.86</td>\n",
              "    </tr>\n",
              "    <tr>\n",
              "      <th>year</th>\n",
              "      <td>-10845485.54</td>\n",
              "    </tr>\n",
              "    <tr>\n",
              "      <th>genres_Other</th>\n",
              "      <td>-10797115.05</td>\n",
              "    </tr>\n",
              "    <tr>\n",
              "      <th>genres_Drama</th>\n",
              "      <td>-10222221.94</td>\n",
              "    </tr>\n",
              "    <tr>\n",
              "      <th>runtime_new</th>\n",
              "      <td>8408711.57</td>\n",
              "    </tr>\n",
              "    <tr>\n",
              "      <th>photos_new</th>\n",
              "      <td>-7573331.93</td>\n",
              "    </tr>\n",
              "    <tr>\n",
              "      <th>new_budget</th>\n",
              "      <td>6527146.42</td>\n",
              "    </tr>\n",
              "    <tr>\n",
              "      <th>genres_Comedy</th>\n",
              "      <td>-4319894.03</td>\n",
              "    </tr>\n",
              "    <tr>\n",
              "      <th>genres_Adventure</th>\n",
              "      <td>-4109194.81</td>\n",
              "    </tr>\n",
              "    <tr>\n",
              "      <th>meta_rating</th>\n",
              "      <td>-3377531.22</td>\n",
              "    </tr>\n",
              "    <tr>\n",
              "      <th>trailerdur_new</th>\n",
              "      <td>1783989.10</td>\n",
              "    </tr>\n",
              "    <tr>\n",
              "      <th>rating_new</th>\n",
              "      <td>-1600092.94</td>\n",
              "    </tr>\n",
              "    <tr>\n",
              "      <th>ur_reviews_new</th>\n",
              "      <td>0.00</td>\n",
              "    </tr>\n",
              "    <tr>\n",
              "      <th>total_documents</th>\n",
              "      <td>-0.00</td>\n",
              "    </tr>\n",
              "    <tr>\n",
              "      <th>metascore_new</th>\n",
              "      <td>-0.00</td>\n",
              "    </tr>\n",
              "  </tbody>\n",
              "</table>\n",
              "</div>\n",
              "      <button class=\"colab-df-convert\" onclick=\"convertToInteractive('df-22846dde-3647-4f64-903f-7908916c1751')\"\n",
              "              title=\"Convert this dataframe to an interactive table.\"\n",
              "              style=\"display:none;\">\n",
              "        \n",
              "  <svg xmlns=\"http://www.w3.org/2000/svg\" height=\"24px\"viewBox=\"0 0 24 24\"\n",
              "       width=\"24px\">\n",
              "    <path d=\"M0 0h24v24H0V0z\" fill=\"none\"/>\n",
              "    <path d=\"M18.56 5.44l.94 2.06.94-2.06 2.06-.94-2.06-.94-.94-2.06-.94 2.06-2.06.94zm-11 1L8.5 8.5l.94-2.06 2.06-.94-2.06-.94L8.5 2.5l-.94 2.06-2.06.94zm10 10l.94 2.06.94-2.06 2.06-.94-2.06-.94-.94-2.06-.94 2.06-2.06.94z\"/><path d=\"M17.41 7.96l-1.37-1.37c-.4-.4-.92-.59-1.43-.59-.52 0-1.04.2-1.43.59L10.3 9.45l-7.72 7.72c-.78.78-.78 2.05 0 2.83L4 21.41c.39.39.9.59 1.41.59.51 0 1.02-.2 1.41-.59l7.78-7.78 2.81-2.81c.8-.78.8-2.07 0-2.86zM5.41 20L4 18.59l7.72-7.72 1.47 1.35L5.41 20z\"/>\n",
              "  </svg>\n",
              "      </button>\n",
              "      \n",
              "  <style>\n",
              "    .colab-df-container {\n",
              "      display:flex;\n",
              "      flex-wrap:wrap;\n",
              "      gap: 12px;\n",
              "    }\n",
              "\n",
              "    .colab-df-convert {\n",
              "      background-color: #E8F0FE;\n",
              "      border: none;\n",
              "      border-radius: 50%;\n",
              "      cursor: pointer;\n",
              "      display: none;\n",
              "      fill: #1967D2;\n",
              "      height: 32px;\n",
              "      padding: 0 0 0 0;\n",
              "      width: 32px;\n",
              "    }\n",
              "\n",
              "    .colab-df-convert:hover {\n",
              "      background-color: #E2EBFA;\n",
              "      box-shadow: 0px 1px 2px rgba(60, 64, 67, 0.3), 0px 1px 3px 1px rgba(60, 64, 67, 0.15);\n",
              "      fill: #174EA6;\n",
              "    }\n",
              "\n",
              "    [theme=dark] .colab-df-convert {\n",
              "      background-color: #3B4455;\n",
              "      fill: #D2E3FC;\n",
              "    }\n",
              "\n",
              "    [theme=dark] .colab-df-convert:hover {\n",
              "      background-color: #434B5C;\n",
              "      box-shadow: 0px 1px 3px 1px rgba(0, 0, 0, 0.15);\n",
              "      filter: drop-shadow(0px 1px 2px rgba(0, 0, 0, 0.3));\n",
              "      fill: #FFFFFF;\n",
              "    }\n",
              "  </style>\n",
              "\n",
              "      <script>\n",
              "        const buttonEl =\n",
              "          document.querySelector('#df-22846dde-3647-4f64-903f-7908916c1751 button.colab-df-convert');\n",
              "        buttonEl.style.display =\n",
              "          google.colab.kernel.accessAllowed ? 'block' : 'none';\n",
              "\n",
              "        async function convertToInteractive(key) {\n",
              "          const element = document.querySelector('#df-22846dde-3647-4f64-903f-7908916c1751');\n",
              "          const dataTable =\n",
              "            await google.colab.kernel.invokeFunction('convertToInteractive',\n",
              "                                                     [key], {});\n",
              "          if (!dataTable) return;\n",
              "\n",
              "          const docLinkHtml = 'Like what you see? Visit the ' +\n",
              "            '<a target=\"_blank\" href=https://colab.research.google.com/notebooks/data_table.ipynb>data table notebook</a>'\n",
              "            + ' to learn more about interactive tables.';\n",
              "          element.innerHTML = '';\n",
              "          dataTable['output_type'] = 'display_data';\n",
              "          await google.colab.output.renderOutput(dataTable, element);\n",
              "          const docLink = document.createElement('div');\n",
              "          docLink.innerHTML = docLinkHtml;\n",
              "          element.appendChild(docLink);\n",
              "        }\n",
              "      </script>\n",
              "    </div>\n",
              "  </div>\n",
              "  "
            ],
            "text/plain": [
              "                  Lasso Importance\n",
              "feature                           \n",
              "star_dir_comp         237466449.75\n",
              "videos_new             46141519.44\n",
              "company_new           -36077553.44\n",
              "cr_reviews_new         33518073.17\n",
              "director_new          -30626989.59\n",
              "star_new              -25117176.02\n",
              "month_Other           -20875016.67\n",
              "total_reviews          20826759.71\n",
              "genres_Animation       20347093.72\n",
              "month_October         -18664390.68\n",
              "genres_Crime          -17505894.22\n",
              "month_February        -13217478.34\n",
              "month_March           -13127712.11\n",
              "genres_Biography      -11293453.51\n",
              "month_January         -11066381.86\n",
              "year                  -10845485.54\n",
              "genres_Other          -10797115.05\n",
              "genres_Drama          -10222221.94\n",
              "runtime_new             8408711.57\n",
              "photos_new             -7573331.93\n",
              "new_budget              6527146.42\n",
              "genres_Comedy          -4319894.03\n",
              "genres_Adventure       -4109194.81\n",
              "meta_rating            -3377531.22\n",
              "trailerdur_new          1783989.10\n",
              "rating_new             -1600092.94\n",
              "ur_reviews_new                0.00\n",
              "total_documents              -0.00\n",
              "metascore_new                -0.00"
            ]
          },
          "metadata": {},
          "execution_count": 261
        }
      ],
      "source": [
        "importances_lasso = pd.DataFrame({'feature':X_train.columns,'Lasso Importance':np.round(lasso_tuned.coef_,4)})\n",
        "importances_lasso = importances_lasso.iloc[(-np.abs(importances_lasso['Lasso Importance'].values)).argsort()].set_index('feature')\n",
        "importances_lasso"
      ],
      "id": "-qgz6Ljjn8cS"
    },
    {
      "cell_type": "code",
      "execution_count": 261,
      "metadata": {
        "id": "8rlZew2Ql2bt"
      },
      "outputs": [],
      "source": [
        ""
      ],
      "id": "8rlZew2Ql2bt"
    },
    {
      "cell_type": "code",
      "execution_count": 261,
      "metadata": {
        "id": "hI8oGrhSn8cS"
      },
      "outputs": [],
      "source": [
        ""
      ],
      "id": "hI8oGrhSn8cS"
    }
  ],
  "metadata": {
    "colab": {
      "collapsed_sections": [],
      "name": "moviemedium_analyses.ipynb",
      "provenance": []
    },
    "kernelspec": {
      "display_name": "Python 3",
      "language": "python",
      "name": "python3"
    },
    "language_info": {
      "codemirror_mode": {
        "name": "ipython",
        "version": 3
      },
      "file_extension": ".py",
      "mimetype": "text/x-python",
      "name": "python",
      "nbconvert_exporter": "python",
      "pygments_lexer": "ipython3",
      "version": "3.7.4"
    },
    "toc": {
      "base_numbering": 1,
      "nav_menu": {},
      "number_sections": true,
      "sideBar": true,
      "skip_h1_title": false,
      "title_cell": "Table of Contents",
      "title_sidebar": "Contents",
      "toc_cell": false,
      "toc_position": {},
      "toc_section_display": true,
      "toc_window_display": false
    }
  },
  "nbformat": 4,
  "nbformat_minor": 5
}